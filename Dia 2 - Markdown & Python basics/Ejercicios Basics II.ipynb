{
 "cells": [
  {
   "cell_type": "markdown",
   "metadata": {},
   "source": [
    "![imagen](./img/ejercicios.png)"
   ]
  },
  {
   "cell_type": "markdown",
   "metadata": {},
   "source": [
    "# Ejercicios Python Basics II"
   ]
  },
  {
   "cell_type": "markdown",
   "metadata": {},
   "source": [
    "## Ejercicio 1\n",
    "* Crea dos variables numericas: un `int` y un `float`\n",
    "* Comprueba sus tipos\n",
    "* Sumalas en otra nueva\n",
    "* ¿De qué tipo es la nueva variable?\n",
    "* Elimina las dos primeras variables creadas"
   ]
  },
  {
   "cell_type": "code",
   "execution_count": 3,
   "metadata": {},
   "outputs": [
    {
     "data": {
      "text/plain": [
       "float"
      ]
     },
     "execution_count": 3,
     "metadata": {},
     "output_type": "execute_result"
    }
   ],
   "source": [
    "#Creamos dos variables, la var_1 tipo int, y la var_2 tipo float:\n",
    "var_1 = 2\n",
    "var_2 = 2.5\n",
    "\n",
    "#Creamos una tercera variable a partir de la suma de las anteriores:\n",
    "var_3 = var_1 + var_2\n",
    "\n",
    "#obtenemos el tipo de la 3ª variable:\n",
    "type(var_3)\n"
   ]
  },
  {
   "cell_type": "code",
   "execution_count": 4,
   "metadata": {},
   "outputs": [],
   "source": [
    "#eliminamos las dos primeras variables\n",
    "del(var_1)\n",
    "del(var_2)"
   ]
  },
  {
   "cell_type": "code",
   "execution_count": 7,
   "metadata": {},
   "outputs": [
    {
     "ename": "NameError",
     "evalue": "name 'var_2' is not defined",
     "output_type": "error",
     "traceback": [
      "\u001b[0;31m---------------------------------------------------------------------------\u001b[0m",
      "\u001b[0;31mNameError\u001b[0m                                 Traceback (most recent call last)",
      "Cell \u001b[0;32mIn[7], line 2\u001b[0m\n\u001b[1;32m      1\u001b[0m \u001b[38;5;66;03m#Comprobamos que las variables ya no existen:\u001b[39;00m\n\u001b[0;32m----> 2\u001b[0m \u001b[38;5;28mprint\u001b[39m(\u001b[43mvar_2\u001b[49m)\n",
      "\u001b[0;31mNameError\u001b[0m: name 'var_2' is not defined"
     ]
    }
   ],
   "source": [
    "#Comprobamos que las variables ya no existen:\n",
    "print(var_2)"
   ]
  },
  {
   "cell_type": "markdown",
   "metadata": {},
   "source": [
    "## Ejercicio 2\n",
    "Escribe un programa para pasar de grados a radianes. Hay que usar `input`. Recuerda que la conversión se realiza mediante\n",
    "\n",
    "radianes = grados*(pi/180)"
   ]
  },
  {
   "cell_type": "code",
   "execution_count": 44,
   "metadata": {},
   "outputs": [
    {
     "name": "stdout",
     "output_type": "stream",
     "text": [
      "89.9 grados equivalen a 1.57 radianes.\n"
     ]
    }
   ],
   "source": [
    "#cargamos la libreria .math de donde obtendremos el valor de pi:\n",
    "import math\n",
    "\n",
    "#definimos la calculadora que transformará grados a radianes:\n",
    "grados = input(\"Introduce los grados a transformar:\")\n",
    "radianes = round(float(grados) * (math.pi / 180), 2)\n",
    "print(f\"{grados} grados equivalen a {radianes} radianes.\")\n",
    "\n",
    "#hemos aplicado un redondeo de dos decimales al resultado expresado en radianes."
   ]
  },
  {
   "cell_type": "markdown",
   "metadata": {},
   "source": [
    "## Ejercicio 3\n",
    "Escribe un programa que calcule el area de un paralelogramo (base x altura). También con `input`"
   ]
  },
  {
   "cell_type": "code",
   "execution_count": 43,
   "metadata": {},
   "outputs": [
    {
     "name": "stdout",
     "output_type": "stream",
     "text": [
      "El área es: 14.28\n"
     ]
    }
   ],
   "source": [
    "#definimos la calculadora de un area de un paralelogramo a partir de dos inputs: base y altura:\n",
    "\n",
    "base = input (\"En metros, cuanto mide la base?\")\n",
    "altura = input (\"Tambien en metros, cuanto mide la altura?\")\n",
    "area = float(base) * float(altura)\n",
    "print(f\"El área es: {area}\")"
   ]
  },
  {
   "cell_type": "markdown",
   "metadata": {},
   "source": [
    "## Ejercicio 4\n",
    "Tenemos las siguientes variables:\n",
    "\n",
    "```Python\n",
    "A = 4\n",
    "B = \"Text\"\n",
    "C = 4.1\n",
    "```\n",
    "\n",
    "Comprueba:\n",
    "1. Si A y B son equivalentes\n",
    "2. Si A y C NO son equivalentes\n",
    "3. Si A es mayor que C \n",
    "4. Si C es menor o igual que A\n",
    "5. Si B NO es equivalente a C"
   ]
  },
  {
   "cell_type": "code",
   "execution_count": 31,
   "metadata": {},
   "outputs": [
    {
     "name": "stdout",
     "output_type": "stream",
     "text": [
      "False\n",
      "True\n",
      "False\n",
      "False\n",
      "True\n"
     ]
    }
   ],
   "source": [
    "#definimos las variables del ejercicio:\n",
    "a = 4\n",
    "b = \"Text\"\n",
    "c = 4.1\n",
    "# 1. Si A y B son equivalentes:\n",
    "print(a == b)\n",
    "\n",
    "# 2. Si A y C no son equivalentes:\n",
    "print (a != c)\n",
    "\n",
    "# 3. Si A es mayor que C:\n",
    "print(a > c)\n",
    "\n",
    "#4. Si C es menor o igual que A\n",
    "print(c <= a)\n",
    "\n",
    "#5. Si B NO es equivalente a C\n",
    "print(b != c)"
   ]
  },
  {
   "cell_type": "markdown",
   "metadata": {},
   "source": [
    "## Ejercicio 5\n",
    "Crea un programa donde se recojan dos inputs del usuario, y el output del programa sea si esos inputs son iguales o no"
   ]
  },
  {
   "cell_type": "code",
   "execution_count": 38,
   "metadata": {},
   "outputs": [
    {
     "name": "stdout",
     "output_type": "stream",
     "text": [
      "¿Are both answers the same?  True\n"
     ]
    }
   ],
   "source": [
    "user_1 = input()\n",
    "user_2 = input()\n",
    "print(\"¿Are both answers the same? \", user_1 == user_2)"
   ]
  },
  {
   "cell_type": "markdown",
   "metadata": {},
   "source": [
    "## Ejercicio 6\n",
    "Mismo programa que en 5, pero en esta ocasión tienen que ser tres inputs y dos salidas. Una de las salidas que nos indique si todos son iguales, y la otra si al menos dos inputs sí que lo son"
   ]
  },
  {
   "cell_type": "code",
   "execution_count": 42,
   "metadata": {},
   "outputs": [
    {
     "name": "stdout",
     "output_type": "stream",
     "text": [
      "¿Are all answers the same?  False\n",
      "¿Is there at least a coincidence between answers? False\n"
     ]
    }
   ],
   "source": [
    "user_1 = input()\n",
    "user_2 = input()\n",
    "user_3 = input()\n",
    "#Primero, si todos son iguales:\n",
    "print(\"¿Are all answers the same? \", user_1 == user_2 == user_3)\n",
    "\n",
    "#Segundo, si almenos dos inputs son iguales:\n",
    "print(\"¿Is there at least a coincidence between answers?\", (user_1 == user_2) or (user_2 == user_3) or (user_1 == user_3))"
   ]
  },
  {
   "cell_type": "markdown",
   "metadata": {},
   "source": [
    "## Ejercicio 7\n",
    "Crea un programa que recoja dos inputs. Tiene que comprobar si su suma es igual, superior o inferior a 10"
   ]
  },
  {
   "cell_type": "code",
   "execution_count": 53,
   "metadata": {},
   "outputs": [
    {
     "name": "stdout",
     "output_type": "stream",
     "text": [
      "Is the sum of the values ​​equal to 10?  False\n",
      "Is the sum of the values ​greater than 10?  False\n",
      "Is the sum of the values less than 10?  True\n"
     ]
    }
   ],
   "source": [
    "input_1 = float(input())\n",
    "input_2 = float(input())\n",
    "var_sum = input_1 + input_2\n",
    "print(\"Is the sum of the values ​​equal to 10? \", var_sum == 10)\n",
    "print(\"Is the sum of the values ​greater than 10? \", var_sum > 10)\n",
    "print(\"Is the sum of the values less than 10? \", var_sum < 10)"
   ]
  },
  {
   "cell_type": "markdown",
   "metadata": {},
   "source": [
    "## Ejercicio 8\n",
    "Razona sin ejecutar código el output que obtendremos de las siguientes sentencias\n",
    "1. True and True and False\n",
    "2. not ((True or False) and (True or False))\n",
    "3. (False or False or False or True) and False\n",
    "4. not False and True and not True"
   ]
  },
  {
   "cell_type": "markdown",
   "metadata": {},
   "source": [
    "## Resultados:\n",
    "1. False\n",
    "2. False\n",
    "3. False\n",
    "4. False"
   ]
  },
  {
   "cell_type": "code",
   "execution_count": 55,
   "metadata": {},
   "outputs": [
    {
     "name": "stdout",
     "output_type": "stream",
     "text": [
      "False\n",
      "False\n",
      "False\n",
      "False\n"
     ]
    }
   ],
   "source": [
    "print(True and True and False)\n",
    "print(not ((True or False) and (True or False)))\n",
    "print((False or False or False or True) and False)\n",
    "print(not False and True and not True)"
   ]
  },
  {
   "cell_type": "markdown",
   "metadata": {},
   "source": [
    "## Ejercicio 9\n",
    "Para este ejercicio vamos a poner en práctica [las funciones built in](https://docs.python.org/3/library/functions.html).\n",
    "\n",
    "1. Calcula el máximo de la lista: [4, 6, 8, -1]\n",
    "2. Suma todos los elementos de la lista anterior\n",
    "3. Redondea este float a 3 dígitos decimales: 63.451256965\n",
    "4. Valor absoluto de: -74"
   ]
  },
  {
   "cell_type": "code",
   "execution_count": 67,
   "metadata": {},
   "outputs": [
    {
     "name": "stdout",
     "output_type": "stream",
     "text": [
      "17\n",
      "3.451\n",
      "74\n"
     ]
    }
   ],
   "source": [
    "#1. Calcula el máximo de la lista: [4, 6, 8, -1]\n",
    "lista = [4, 6, 8, -1]\n",
    "\n",
    "#2. Suma todos los elementos de la lista anterior\n",
    "print(sum(lista))\n",
    "\n",
    "#3. Redondea este float a 3 dígitos decimales: 63.451256965\n",
    "print(round(3.451256965, 3))\n",
    "\n",
    "#4. Valor absoluto de: -74\n",
    "print(abs(-74))"
   ]
  },
  {
   "cell_type": "markdown",
   "metadata": {},
   "source": [
    "## Ejercicio 10\n",
    "Para el siguiente string se pide imprimir por pantalla los siguientes casos\n",
    "\n",
    "    \"A quien madruga, dios le ayuda\"\n",
    "\n",
    "1. Pasarlo todo a mayusculas\n",
    "2. Pasarlo todo a minusculas\n",
    "3. Pasar a mayusculas solo las iniciales de las palabras\n",
    "4. Crea una lista dividiendolo por sus espacios\n",
    "5. Sustituye las comas `,` por puntos y comas `;`\n",
    "6. Elimina las `a` minusculas"
   ]
  },
  {
   "cell_type": "code",
   "execution_count": 80,
   "metadata": {},
   "outputs": [
    {
     "name": "stdout",
     "output_type": "stream",
     "text": [
      "A QUIEN MADRUGA, DIOS LE AYUDA\n",
      "a quien madruga, dios le ayuda\n",
      "A Quien Madruga, Dios Le Ayuda\n",
      "['A', 'quien', 'madruga,', 'dios', 'le', 'ayuda']\n",
      "A quien madruga; dios le ayuda\n",
      "A quien mdrug, dios le yud\n"
     ]
    }
   ],
   "source": [
    "god = \"A quien madruga, dios le ayuda\"\n",
    "#1. Pasarlo todo a mayusculas\n",
    "print(god.upper())\n",
    "#2. Pasarlo todo a minusculas\n",
    "print(god.lower())\n",
    "#3. Pasar a mayusculas solo las iniciales de las palabras\n",
    "print(god.title())\n",
    "#4. Crea una lista dividiendolo por sus espacios\n",
    "print(god.split(\" \"))\n",
    "#5. Sustituye las comas `,` por puntos y comas `;`\n",
    "print(god.replace(\",\", \";\"))\n",
    "#6. Elimina las `a` minusculas\n",
    "print(god.replace(\"a\",\"\"))"
   ]
  },
  {
   "cell_type": "markdown",
   "metadata": {},
   "source": [
    "## Ejercicio 11\n",
    "1. Crea una lista con 3 elementos numéricos\n",
    "2. Añade un cuarto elemento\n",
    "3. Calcula la suma de todos\n",
    "4. Elimina el segundo elemento de la lista\n",
    "5. Añade otro elemento en la posicion 3 de la lista\n",
    "6. Crea otra lista con 4 elementos y concaténala a la que ya tenías."
   ]
  },
  {
   "cell_type": "code",
   "execution_count": 117,
   "metadata": {},
   "outputs": [
    {
     "name": "stdout",
     "output_type": "stream",
     "text": [
      "[1, 2, 3]\n",
      "[1, 2, 3, 4]\n",
      "10\n",
      "[1, 3, 4]\n",
      "[1, 3, 10, 4]\n",
      "[1, 3, 10, 4, 100, 200, 300, 400]\n"
     ]
    }
   ],
   "source": [
    "\n",
    "#1. Crea una lista con 3 elementos numéricos\n",
    "list = [1, 2, 3]\n",
    "print(list)\n",
    "\n",
    "#2. Añade un cuarto elemento\n",
    "list.append(4)\n",
    "print(list)\n",
    "\n",
    "#3. Calcula la suma de todos\n",
    "print(sum(list))\n",
    "\n",
    "#4. Elimina el segundo elemento de la lista\n",
    "list.__delitem__(1)\n",
    "print(list)\n",
    "\n",
    "#5. Añade otro elemento en la posicion 3 de la lista\n",
    "list.insert(2,10)\n",
    "print(list)\n",
    "\n",
    "#6. Crea otra lista con 4 elementos y concaténala a la que ya tenías.\n",
    "list_2 = [100, 200, 300, 400]\n",
    "list.extend(list_2)\n",
    "print(list)\n"
   ]
  },
  {
   "cell_type": "code",
   "execution_count": null,
   "metadata": {},
   "outputs": [],
   "source": []
  }
 ],
 "metadata": {
  "kernelspec": {
   "display_name": "Python 3.9.7 ('base')",
   "language": "python",
   "name": "python3"
  },
  "language_info": {
   "codemirror_mode": {
    "name": "ipython",
    "version": 3
   },
   "file_extension": ".py",
   "mimetype": "text/x-python",
   "name": "python",
   "nbconvert_exporter": "python",
   "pygments_lexer": "ipython3",
   "version": "3.12.2"
  },
  "nbTranslate": {
   "displayLangs": [
    "*"
   ],
   "hotkey": "alt-t",
   "langInMainMenu": true,
   "sourceLang": "en",
   "targetLang": "fr",
   "useGoogleTranslate": true
  },
  "varInspector": {
   "cols": {
    "lenName": 16,
    "lenType": 16,
    "lenVar": 40
   },
   "kernels_config": {
    "python": {
     "delete_cmd_postfix": "",
     "delete_cmd_prefix": "del ",
     "library": "var_list.py",
     "varRefreshCmd": "print(var_dic_list())"
    },
    "r": {
     "delete_cmd_postfix": ") ",
     "delete_cmd_prefix": "rm(",
     "library": "var_list.r",
     "varRefreshCmd": "cat(var_dic_list()) "
    }
   },
   "types_to_exclude": [
    "module",
    "function",
    "builtin_function_or_method",
    "instance",
    "_Feature"
   ],
   "window_display": false
  },
  "vscode": {
   "interpreter": {
    "hash": "a62940825390c4fb6d0fa98e018eb2e1591e483b4bca278484486fb09668db57"
   }
  }
 },
 "nbformat": 4,
 "nbformat_minor": 4
}
