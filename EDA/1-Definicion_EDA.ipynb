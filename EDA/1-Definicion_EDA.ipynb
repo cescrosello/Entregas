{
 "cells": [
  {
   "cell_type": "markdown",
   "metadata": {},
   "source": [
    "# INFORMACIÓN DEL PROYECTO"
   ]
  },
  {
   "cell_type": "markdown",
   "metadata": {},
   "source": [
    "### TÍTULO:"
   ]
  },
  {
   "cell_type": "markdown",
   "metadata": {},
   "source": [
    "### Análisis de viabilidad en la inversión en Real Estate en Valencia en 2024."
   ]
  },
  {
   "cell_type": "markdown",
   "metadata": {},
   "source": [
    "### TEMA:"
   ]
  },
  {
   "cell_type": "markdown",
   "metadata": {},
   "source": [
    "Este proyecto de EDA se centra en analizar la rentabilidad de las inversiones inmobiliarias en Valencia, explorando la dinámica del mercado respecto a tipos de vivienda, la evolución temporal de la rentabilidad, la comparación de rentabilidad por zonas, y la rentabilidad entre viviendas ya construidas vs obra nueva."
   ]
  },
  {
   "cell_type": "markdown",
   "metadata": {},
   "source": [
    "### HIPÓTESIS PRINCIPAL:"
   ]
  },
  {
   "cell_type": "markdown",
   "metadata": {},
   "source": [
    "1. \"Sí es viable la inversion inmobiliaria en Valencia, teniendo en cuenta las diferencias significativas en la rentabilidad basadas en el tipo de vivienda y su ubicación.\""
   ]
  },
  {
   "cell_type": "markdown",
   "metadata": {},
   "source": [
    "#### HIPÓTESIS SECUNDARIAS:"
   ]
  },
  {
   "cell_type": "markdown",
   "metadata": {},
   "source": [
    "2. \"La rentabilidad de las inversiones en vivienda nueva es superior a la de vivienda ya construida, debido a la valorización anticipada en áreas de desarrollo reciente.\"\n",
    "3. \"Determinadas zonas de Valencia ofrecen un mayor retorno de inversión debido a su desarrollo infraestructural y económico reciente.\""
   ]
  },
  {
   "cell_type": "markdown",
   "metadata": {},
   "source": [
    "## OBTENCIÓN DE LOS DATOS"
   ]
  },
  {
   "cell_type": "markdown",
   "metadata": {},
   "source": [
    "### DATASETS Y FUENTES ALTERNATIVAS DE DATOS"
   ]
  },
  {
   "cell_type": "markdown",
   "metadata": {},
   "source": [
    "\n",
    "### Datos de Propiedades y Mercado Inmobiliario:\n",
    "- Portal de Datos Abiertos de Valencia:\n",
    "    - Datos Abiertos GVA: https://portaldadesobertes.gva.es/es\n",
    "    - Datos Abiertos Valencia: https://valencia.opendatasoft.com/pages/home/?flg=es-es\n",
    "\n",
    "- INE:\n",
    "    - https://www.ine.es/dyngs/INEbase/es/categoria.htm?c=Estadistica_P&cid=1254735576757\n",
    "    - https://www.ine.es/dyngs/INEbase/es/operacion.htm?c=Estadistica_C&cid=1254736176802&menu=ultiDatos&idp=1254735976607\n",
    "    - https://www.ine.es/dyngs/INEbase/es/operacion.htm?c=Estadistica_C&cid=1254736177010&menu=resultados&idp=1254734710990#!tabs-1254736195532\n",
    "    - https://www.ine.es/dyngs/INEbase/es/categoria.htm?c=Estadistica_P&cid=1254735576757\n",
    "    \n",
    "- Catastro de Valencia:\n",
    "    - https://www.sedecatastro.gob.es/Accesos/SECAccDescargaDatos.aspx\n",
    "    - https://www.catastro.minhap.es/esp/estadistica_1.asp\n",
    "\n",
    "- Colegio Registradores de a Propiedad:\n",
    "    - https://www.registradores.org/actualidad/portal-estadistico-registral/estadisticas-de-propiedad\n",
    "\n",
    "\n",
    "\n",
    "- Eurostat:\n",
    "    - https://ec.europa.eu/eurostat/data/database\n",
    "    - https://ec.europa.eu/eurostat/statistics-explained/index.php?title=Housing_statistics/es&oldid=498645\n",
    "    - https://ec.europa.eu/eurostat/cache/digpub/housing/index.html?lang=en\n",
    "\n",
    "- European Data: \n",
    "    - https://data.europa.eu/data/datasets/zp9cbrpzmdstpx2uqyoksa?locale=es\n",
    "\n",
    "\n",
    "- Banco Mundial:\n",
    "    - https://datos.bancomundial.org/indicator/FP.CPI.TOTL.ZG?locations=ES"
   ]
  },
  {
   "cell_type": "markdown",
   "metadata": {},
   "source": []
  }
 ],
 "metadata": {
  "interpreter": {
   "hash": "7c77fdb427e7cbc9bc1367dd530fc2b36aacdbbde1ac83c85833b10dfa8b831c"
  },
  "kernelspec": {
   "display_name": "Python 3.7.4 64-bit",
   "language": "python",
   "name": "python3"
  },
  "language_info": {
   "codemirror_mode": {
    "name": "ipython",
    "version": 3
   },
   "file_extension": ".py",
   "mimetype": "text/x-python",
   "name": "python",
   "nbconvert_exporter": "python",
   "pygments_lexer": "ipython3",
   "version": "3.9.18"
  },
  "orig_nbformat": 4
 },
 "nbformat": 4,
 "nbformat_minor": 2
}
