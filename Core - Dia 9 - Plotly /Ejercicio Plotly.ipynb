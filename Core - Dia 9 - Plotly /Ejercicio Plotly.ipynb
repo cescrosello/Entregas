{
 "cells": [
  {
   "attachments": {},
   "cell_type": "markdown",
   "metadata": {
    "id": "fBwh3Bypimha"
   },
   "source": [
    "# Interactive Visualization Lab - Superstore Dataset\n",
    "\n",
    "Complete the following set of exercises to solidify your knowledge of interactive visualization using Plotly, Cufflinks, and IPyWidgets."
   ]
  },
  {
   "cell_type": "code",
   "execution_count": 6,
   "metadata": {},
   "outputs": [
    {
     "name": "stdout",
     "output_type": "stream",
     "text": [
      "Collecting openpyxl\n",
      "  Downloading openpyxl-3.1.2-py2.py3-none-any.whl.metadata (2.5 kB)\n",
      "Collecting et-xmlfile (from openpyxl)\n",
      "  Downloading et_xmlfile-1.1.0-py3-none-any.whl.metadata (1.8 kB)\n",
      "Downloading openpyxl-3.1.2-py2.py3-none-any.whl (249 kB)\n",
      "\u001b[2K   \u001b[90m━━━━━━━━━━━━━━━━━━━━━━━━━━━━━━━━━━━━━━━━\u001b[0m \u001b[32m250.0/250.0 kB\u001b[0m \u001b[31m5.4 MB/s\u001b[0m eta \u001b[36m0:00:00\u001b[0ma \u001b[36m0:00:01\u001b[0m\n",
      "\u001b[?25hDownloading et_xmlfile-1.1.0-py3-none-any.whl (4.7 kB)\n",
      "Installing collected packages: et-xmlfile, openpyxl\n",
      "Successfully installed et-xmlfile-1.1.0 openpyxl-3.1.2\n",
      "Note: you may need to restart the kernel to use updated packages.\n"
     ]
    }
   ],
   "source": [
    "pip install openpyxl"
   ]
  },
  {
   "cell_type": "code",
   "execution_count": 29,
   "metadata": {
    "id": "b-CJJ-68imhb",
    "outputId": "8ea87b64-66a4-4dd8-d905-2e4e1f387c0b"
   },
   "outputs": [],
   "source": [
    "from ipywidgets import widgets\n",
    "import plotly as py\n",
    "import pandas as pd\n",
    "import numpy as np\n"
   ]
  },
  {
   "cell_type": "markdown",
   "metadata": {},
   "source": [
    "Acostumbraros a realizar siempre estas 3 comprobaciones del df"
   ]
  },
  {
   "cell_type": "markdown",
   "metadata": {},
   "source": []
  },
  {
   "cell_type": "code",
   "execution_count": 20,
   "metadata": {},
   "outputs": [
    {
     "data": {
      "text/html": [
       "<div>\n",
       "<style scoped>\n",
       "    .dataframe tbody tr th:only-of-type {\n",
       "        vertical-align: middle;\n",
       "    }\n",
       "\n",
       "    .dataframe tbody tr th {\n",
       "        vertical-align: top;\n",
       "    }\n",
       "\n",
       "    .dataframe thead th {\n",
       "        text-align: right;\n",
       "    }\n",
       "</style>\n",
       "<table border=\"1\" class=\"dataframe\">\n",
       "  <thead>\n",
       "    <tr style=\"text-align: right;\">\n",
       "      <th></th>\n",
       "      <th>Order ID</th>\n",
       "      <th>Order Date</th>\n",
       "      <th>Ship Date</th>\n",
       "      <th>Ship Mode</th>\n",
       "      <th>Customer ID</th>\n",
       "      <th>Customer Name</th>\n",
       "      <th>Segment</th>\n",
       "      <th>Country</th>\n",
       "      <th>City</th>\n",
       "      <th>State</th>\n",
       "      <th>Postal Code</th>\n",
       "      <th>Region</th>\n",
       "      <th>Product ID</th>\n",
       "      <th>Category</th>\n",
       "      <th>Sub-Category</th>\n",
       "      <th>Product Name</th>\n",
       "      <th>Sales</th>\n",
       "      <th>Quantity</th>\n",
       "      <th>Discount</th>\n",
       "      <th>Profit</th>\n",
       "    </tr>\n",
       "  </thead>\n",
       "  <tbody>\n",
       "    <tr>\n",
       "      <th>0</th>\n",
       "      <td>CA-2016-152156</td>\n",
       "      <td>2016-11-08</td>\n",
       "      <td>2016-11-11</td>\n",
       "      <td>Second Class</td>\n",
       "      <td>CG-12520</td>\n",
       "      <td>Claire Gute</td>\n",
       "      <td>Consumer</td>\n",
       "      <td>United States</td>\n",
       "      <td>Henderson</td>\n",
       "      <td>Kentucky</td>\n",
       "      <td>42420</td>\n",
       "      <td>South</td>\n",
       "      <td>FUR-BO-10001798</td>\n",
       "      <td>Furniture</td>\n",
       "      <td>Bookcases</td>\n",
       "      <td>Bush Somerset Collection Bookcase</td>\n",
       "      <td>261.9600</td>\n",
       "      <td>2</td>\n",
       "      <td>0.00</td>\n",
       "      <td>41.9136</td>\n",
       "    </tr>\n",
       "    <tr>\n",
       "      <th>1</th>\n",
       "      <td>CA-2016-152156</td>\n",
       "      <td>2016-11-08</td>\n",
       "      <td>2016-11-11</td>\n",
       "      <td>Second Class</td>\n",
       "      <td>CG-12520</td>\n",
       "      <td>Claire Gute</td>\n",
       "      <td>Consumer</td>\n",
       "      <td>United States</td>\n",
       "      <td>Henderson</td>\n",
       "      <td>Kentucky</td>\n",
       "      <td>42420</td>\n",
       "      <td>South</td>\n",
       "      <td>FUR-CH-10000454</td>\n",
       "      <td>Furniture</td>\n",
       "      <td>Chairs</td>\n",
       "      <td>Hon Deluxe Fabric Upholstered Stacking Chairs,...</td>\n",
       "      <td>731.9400</td>\n",
       "      <td>3</td>\n",
       "      <td>0.00</td>\n",
       "      <td>219.5820</td>\n",
       "    </tr>\n",
       "    <tr>\n",
       "      <th>2</th>\n",
       "      <td>CA-2016-138688</td>\n",
       "      <td>2016-06-12</td>\n",
       "      <td>2016-06-16</td>\n",
       "      <td>Second Class</td>\n",
       "      <td>DV-13045</td>\n",
       "      <td>Darrin Van Huff</td>\n",
       "      <td>Corporate</td>\n",
       "      <td>United States</td>\n",
       "      <td>Los Angeles</td>\n",
       "      <td>California</td>\n",
       "      <td>90036</td>\n",
       "      <td>West</td>\n",
       "      <td>OFF-LA-10000240</td>\n",
       "      <td>Office Supplies</td>\n",
       "      <td>Labels</td>\n",
       "      <td>Self-Adhesive Address Labels for Typewriters b...</td>\n",
       "      <td>14.6200</td>\n",
       "      <td>2</td>\n",
       "      <td>0.00</td>\n",
       "      <td>6.8714</td>\n",
       "    </tr>\n",
       "    <tr>\n",
       "      <th>3</th>\n",
       "      <td>US-2015-108966</td>\n",
       "      <td>2015-10-11</td>\n",
       "      <td>2015-10-18</td>\n",
       "      <td>Standard Class</td>\n",
       "      <td>SO-20335</td>\n",
       "      <td>Sean O'Donnell</td>\n",
       "      <td>Consumer</td>\n",
       "      <td>United States</td>\n",
       "      <td>Fort Lauderdale</td>\n",
       "      <td>Florida</td>\n",
       "      <td>33311</td>\n",
       "      <td>South</td>\n",
       "      <td>FUR-TA-10000577</td>\n",
       "      <td>Furniture</td>\n",
       "      <td>Tables</td>\n",
       "      <td>Bretford CR4500 Series Slim Rectangular Table</td>\n",
       "      <td>957.5775</td>\n",
       "      <td>5</td>\n",
       "      <td>0.45</td>\n",
       "      <td>-383.0310</td>\n",
       "    </tr>\n",
       "    <tr>\n",
       "      <th>4</th>\n",
       "      <td>US-2015-108966</td>\n",
       "      <td>2015-10-11</td>\n",
       "      <td>2015-10-18</td>\n",
       "      <td>Standard Class</td>\n",
       "      <td>SO-20335</td>\n",
       "      <td>Sean O'Donnell</td>\n",
       "      <td>Consumer</td>\n",
       "      <td>United States</td>\n",
       "      <td>Fort Lauderdale</td>\n",
       "      <td>Florida</td>\n",
       "      <td>33311</td>\n",
       "      <td>South</td>\n",
       "      <td>OFF-ST-10000760</td>\n",
       "      <td>Office Supplies</td>\n",
       "      <td>Storage</td>\n",
       "      <td>Eldon Fold 'N Roll Cart System</td>\n",
       "      <td>22.3680</td>\n",
       "      <td>2</td>\n",
       "      <td>0.20</td>\n",
       "      <td>2.5164</td>\n",
       "    </tr>\n",
       "    <tr>\n",
       "      <th>...</th>\n",
       "      <td>...</td>\n",
       "      <td>...</td>\n",
       "      <td>...</td>\n",
       "      <td>...</td>\n",
       "      <td>...</td>\n",
       "      <td>...</td>\n",
       "      <td>...</td>\n",
       "      <td>...</td>\n",
       "      <td>...</td>\n",
       "      <td>...</td>\n",
       "      <td>...</td>\n",
       "      <td>...</td>\n",
       "      <td>...</td>\n",
       "      <td>...</td>\n",
       "      <td>...</td>\n",
       "      <td>...</td>\n",
       "      <td>...</td>\n",
       "      <td>...</td>\n",
       "      <td>...</td>\n",
       "      <td>...</td>\n",
       "    </tr>\n",
       "    <tr>\n",
       "      <th>9989</th>\n",
       "      <td>CA-2014-110422</td>\n",
       "      <td>2014-01-21</td>\n",
       "      <td>2014-01-23</td>\n",
       "      <td>Second Class</td>\n",
       "      <td>TB-21400</td>\n",
       "      <td>Tom Boeckenhauer</td>\n",
       "      <td>Consumer</td>\n",
       "      <td>United States</td>\n",
       "      <td>Miami</td>\n",
       "      <td>Florida</td>\n",
       "      <td>33180</td>\n",
       "      <td>South</td>\n",
       "      <td>FUR-FU-10001889</td>\n",
       "      <td>Furniture</td>\n",
       "      <td>Furnishings</td>\n",
       "      <td>Ultra Door Pull Handle</td>\n",
       "      <td>25.2480</td>\n",
       "      <td>3</td>\n",
       "      <td>0.20</td>\n",
       "      <td>4.1028</td>\n",
       "    </tr>\n",
       "    <tr>\n",
       "      <th>9990</th>\n",
       "      <td>CA-2017-121258</td>\n",
       "      <td>2017-02-26</td>\n",
       "      <td>2017-03-03</td>\n",
       "      <td>Standard Class</td>\n",
       "      <td>DB-13060</td>\n",
       "      <td>Dave Brooks</td>\n",
       "      <td>Consumer</td>\n",
       "      <td>United States</td>\n",
       "      <td>Costa Mesa</td>\n",
       "      <td>California</td>\n",
       "      <td>92627</td>\n",
       "      <td>West</td>\n",
       "      <td>FUR-FU-10000747</td>\n",
       "      <td>Furniture</td>\n",
       "      <td>Furnishings</td>\n",
       "      <td>Tenex B1-RE Series Chair Mats for Low Pile Car...</td>\n",
       "      <td>91.9600</td>\n",
       "      <td>2</td>\n",
       "      <td>0.00</td>\n",
       "      <td>15.6332</td>\n",
       "    </tr>\n",
       "    <tr>\n",
       "      <th>9991</th>\n",
       "      <td>CA-2017-121258</td>\n",
       "      <td>2017-02-26</td>\n",
       "      <td>2017-03-03</td>\n",
       "      <td>Standard Class</td>\n",
       "      <td>DB-13060</td>\n",
       "      <td>Dave Brooks</td>\n",
       "      <td>Consumer</td>\n",
       "      <td>United States</td>\n",
       "      <td>Costa Mesa</td>\n",
       "      <td>California</td>\n",
       "      <td>92627</td>\n",
       "      <td>West</td>\n",
       "      <td>TEC-PH-10003645</td>\n",
       "      <td>Technology</td>\n",
       "      <td>Phones</td>\n",
       "      <td>Aastra 57i VoIP phone</td>\n",
       "      <td>258.5760</td>\n",
       "      <td>2</td>\n",
       "      <td>0.20</td>\n",
       "      <td>19.3932</td>\n",
       "    </tr>\n",
       "    <tr>\n",
       "      <th>9992</th>\n",
       "      <td>CA-2017-121258</td>\n",
       "      <td>2017-02-26</td>\n",
       "      <td>2017-03-03</td>\n",
       "      <td>Standard Class</td>\n",
       "      <td>DB-13060</td>\n",
       "      <td>Dave Brooks</td>\n",
       "      <td>Consumer</td>\n",
       "      <td>United States</td>\n",
       "      <td>Costa Mesa</td>\n",
       "      <td>California</td>\n",
       "      <td>92627</td>\n",
       "      <td>West</td>\n",
       "      <td>OFF-PA-10004041</td>\n",
       "      <td>Office Supplies</td>\n",
       "      <td>Paper</td>\n",
       "      <td>It's Hot Message Books with Stickers, 2 3/4\" x 5\"</td>\n",
       "      <td>29.6000</td>\n",
       "      <td>4</td>\n",
       "      <td>0.00</td>\n",
       "      <td>13.3200</td>\n",
       "    </tr>\n",
       "    <tr>\n",
       "      <th>9993</th>\n",
       "      <td>CA-2017-119914</td>\n",
       "      <td>2017-05-04</td>\n",
       "      <td>2017-05-09</td>\n",
       "      <td>Second Class</td>\n",
       "      <td>CC-12220</td>\n",
       "      <td>Chris Cortes</td>\n",
       "      <td>Consumer</td>\n",
       "      <td>United States</td>\n",
       "      <td>Westminster</td>\n",
       "      <td>California</td>\n",
       "      <td>92683</td>\n",
       "      <td>West</td>\n",
       "      <td>OFF-AP-10002684</td>\n",
       "      <td>Office Supplies</td>\n",
       "      <td>Appliances</td>\n",
       "      <td>Acco 7-Outlet Masterpiece Power Center, Wihtou...</td>\n",
       "      <td>243.1600</td>\n",
       "      <td>2</td>\n",
       "      <td>0.00</td>\n",
       "      <td>72.9480</td>\n",
       "    </tr>\n",
       "  </tbody>\n",
       "</table>\n",
       "<p>9994 rows × 20 columns</p>\n",
       "</div>"
      ],
      "text/plain": [
       "            Order ID Order Date  Ship Date       Ship Mode Customer ID  \\\n",
       "0     CA-2016-152156 2016-11-08 2016-11-11    Second Class    CG-12520   \n",
       "1     CA-2016-152156 2016-11-08 2016-11-11    Second Class    CG-12520   \n",
       "2     CA-2016-138688 2016-06-12 2016-06-16    Second Class    DV-13045   \n",
       "3     US-2015-108966 2015-10-11 2015-10-18  Standard Class    SO-20335   \n",
       "4     US-2015-108966 2015-10-11 2015-10-18  Standard Class    SO-20335   \n",
       "...              ...        ...        ...             ...         ...   \n",
       "9989  CA-2014-110422 2014-01-21 2014-01-23    Second Class    TB-21400   \n",
       "9990  CA-2017-121258 2017-02-26 2017-03-03  Standard Class    DB-13060   \n",
       "9991  CA-2017-121258 2017-02-26 2017-03-03  Standard Class    DB-13060   \n",
       "9992  CA-2017-121258 2017-02-26 2017-03-03  Standard Class    DB-13060   \n",
       "9993  CA-2017-119914 2017-05-04 2017-05-09    Second Class    CC-12220   \n",
       "\n",
       "         Customer Name    Segment        Country             City       State  \\\n",
       "0          Claire Gute   Consumer  United States        Henderson    Kentucky   \n",
       "1          Claire Gute   Consumer  United States        Henderson    Kentucky   \n",
       "2      Darrin Van Huff  Corporate  United States      Los Angeles  California   \n",
       "3       Sean O'Donnell   Consumer  United States  Fort Lauderdale     Florida   \n",
       "4       Sean O'Donnell   Consumer  United States  Fort Lauderdale     Florida   \n",
       "...                ...        ...            ...              ...         ...   \n",
       "9989  Tom Boeckenhauer   Consumer  United States            Miami     Florida   \n",
       "9990       Dave Brooks   Consumer  United States       Costa Mesa  California   \n",
       "9991       Dave Brooks   Consumer  United States       Costa Mesa  California   \n",
       "9992       Dave Brooks   Consumer  United States       Costa Mesa  California   \n",
       "9993      Chris Cortes   Consumer  United States      Westminster  California   \n",
       "\n",
       "      Postal Code Region       Product ID         Category Sub-Category  \\\n",
       "0           42420  South  FUR-BO-10001798        Furniture    Bookcases   \n",
       "1           42420  South  FUR-CH-10000454        Furniture       Chairs   \n",
       "2           90036   West  OFF-LA-10000240  Office Supplies       Labels   \n",
       "3           33311  South  FUR-TA-10000577        Furniture       Tables   \n",
       "4           33311  South  OFF-ST-10000760  Office Supplies      Storage   \n",
       "...           ...    ...              ...              ...          ...   \n",
       "9989        33180  South  FUR-FU-10001889        Furniture  Furnishings   \n",
       "9990        92627   West  FUR-FU-10000747        Furniture  Furnishings   \n",
       "9991        92627   West  TEC-PH-10003645       Technology       Phones   \n",
       "9992        92627   West  OFF-PA-10004041  Office Supplies        Paper   \n",
       "9993        92683   West  OFF-AP-10002684  Office Supplies   Appliances   \n",
       "\n",
       "                                           Product Name     Sales  Quantity  \\\n",
       "0                     Bush Somerset Collection Bookcase  261.9600         2   \n",
       "1     Hon Deluxe Fabric Upholstered Stacking Chairs,...  731.9400         3   \n",
       "2     Self-Adhesive Address Labels for Typewriters b...   14.6200         2   \n",
       "3         Bretford CR4500 Series Slim Rectangular Table  957.5775         5   \n",
       "4                        Eldon Fold 'N Roll Cart System   22.3680         2   \n",
       "...                                                 ...       ...       ...   \n",
       "9989                             Ultra Door Pull Handle   25.2480         3   \n",
       "9990  Tenex B1-RE Series Chair Mats for Low Pile Car...   91.9600         2   \n",
       "9991                              Aastra 57i VoIP phone  258.5760         2   \n",
       "9992  It's Hot Message Books with Stickers, 2 3/4\" x 5\"   29.6000         4   \n",
       "9993  Acco 7-Outlet Masterpiece Power Center, Wihtou...  243.1600         2   \n",
       "\n",
       "      Discount    Profit  \n",
       "0         0.00   41.9136  \n",
       "1         0.00  219.5820  \n",
       "2         0.00    6.8714  \n",
       "3         0.45 -383.0310  \n",
       "4         0.20    2.5164  \n",
       "...        ...       ...  \n",
       "9989      0.20    4.1028  \n",
       "9990      0.00   15.6332  \n",
       "9991      0.20   19.3932  \n",
       "9992      0.00   13.3200  \n",
       "9993      0.00   72.9480  \n",
       "\n",
       "[9994 rows x 20 columns]"
      ]
     },
     "execution_count": 20,
     "metadata": {},
     "output_type": "execute_result"
    }
   ],
   "source": [
    "sample = pd.read_excel(\"/Users/cescrosello/Desktop/Bootcamp - WIP/DataScience-Mar2024/2-Data_Analysis/4-Visualización/3-Plotly/Ejercicios/data/Sample - Superstore.xlsx\")\n",
    "sample"
   ]
  },
  {
   "cell_type": "code",
   "execution_count": 21,
   "metadata": {
    "id": "LGyibx0Fimhl",
    "outputId": "b866a0ac-1391-4005-9286-43a4691386e4"
   },
   "outputs": [
    {
     "name": "stdout",
     "output_type": "stream",
     "text": [
      "<class 'pandas.core.frame.DataFrame'>\n",
      "RangeIndex: 9994 entries, 0 to 9993\n",
      "Data columns (total 20 columns):\n",
      " #   Column         Non-Null Count  Dtype         \n",
      "---  ------         --------------  -----         \n",
      " 0   Order ID       9994 non-null   object        \n",
      " 1   Order Date     9994 non-null   datetime64[ns]\n",
      " 2   Ship Date      9994 non-null   datetime64[ns]\n",
      " 3   Ship Mode      9994 non-null   object        \n",
      " 4   Customer ID    9994 non-null   object        \n",
      " 5   Customer Name  9994 non-null   object        \n",
      " 6   Segment        9994 non-null   object        \n",
      " 7   Country        9994 non-null   object        \n",
      " 8   City           9994 non-null   object        \n",
      " 9   State          9994 non-null   object        \n",
      " 10  Postal Code    9994 non-null   int64         \n",
      " 11  Region         9994 non-null   object        \n",
      " 12  Product ID     9994 non-null   object        \n",
      " 13  Category       9994 non-null   object        \n",
      " 14  Sub-Category   9994 non-null   object        \n",
      " 15  Product Name   9994 non-null   object        \n",
      " 16  Sales          9994 non-null   float64       \n",
      " 17  Quantity       9994 non-null   int64         \n",
      " 18  Discount       9994 non-null   float64       \n",
      " 19  Profit         9994 non-null   float64       \n",
      "dtypes: datetime64[ns](2), float64(3), int64(2), object(13)\n",
      "memory usage: 1.5+ MB\n"
     ]
    }
   ],
   "source": [
    "sample.info()"
   ]
  },
  {
   "cell_type": "code",
   "execution_count": 22,
   "metadata": {},
   "outputs": [
    {
     "data": {
      "text/html": [
       "<div>\n",
       "<style scoped>\n",
       "    .dataframe tbody tr th:only-of-type {\n",
       "        vertical-align: middle;\n",
       "    }\n",
       "\n",
       "    .dataframe tbody tr th {\n",
       "        vertical-align: top;\n",
       "    }\n",
       "\n",
       "    .dataframe thead th {\n",
       "        text-align: right;\n",
       "    }\n",
       "</style>\n",
       "<table border=\"1\" class=\"dataframe\">\n",
       "  <thead>\n",
       "    <tr style=\"text-align: right;\">\n",
       "      <th></th>\n",
       "      <th>Order Date</th>\n",
       "      <th>Ship Date</th>\n",
       "      <th>Postal Code</th>\n",
       "      <th>Sales</th>\n",
       "      <th>Quantity</th>\n",
       "      <th>Discount</th>\n",
       "      <th>Profit</th>\n",
       "    </tr>\n",
       "  </thead>\n",
       "  <tbody>\n",
       "    <tr>\n",
       "      <th>count</th>\n",
       "      <td>9994</td>\n",
       "      <td>9994</td>\n",
       "      <td>9994.000000</td>\n",
       "      <td>9994.000000</td>\n",
       "      <td>9994.000000</td>\n",
       "      <td>9994.000000</td>\n",
       "      <td>9994.000000</td>\n",
       "    </tr>\n",
       "    <tr>\n",
       "      <th>mean</th>\n",
       "      <td>2016-04-30 00:07:12.259355648</td>\n",
       "      <td>2016-05-03 23:06:58.571142912</td>\n",
       "      <td>55190.379428</td>\n",
       "      <td>229.858001</td>\n",
       "      <td>3.789574</td>\n",
       "      <td>0.156203</td>\n",
       "      <td>28.656896</td>\n",
       "    </tr>\n",
       "    <tr>\n",
       "      <th>min</th>\n",
       "      <td>2014-01-03 00:00:00</td>\n",
       "      <td>2014-01-07 00:00:00</td>\n",
       "      <td>1040.000000</td>\n",
       "      <td>0.444000</td>\n",
       "      <td>1.000000</td>\n",
       "      <td>0.000000</td>\n",
       "      <td>-6599.978000</td>\n",
       "    </tr>\n",
       "    <tr>\n",
       "      <th>25%</th>\n",
       "      <td>2015-05-23 00:00:00</td>\n",
       "      <td>2015-05-27 00:00:00</td>\n",
       "      <td>23223.000000</td>\n",
       "      <td>17.280000</td>\n",
       "      <td>2.000000</td>\n",
       "      <td>0.000000</td>\n",
       "      <td>1.728750</td>\n",
       "    </tr>\n",
       "    <tr>\n",
       "      <th>50%</th>\n",
       "      <td>2016-06-26 00:00:00</td>\n",
       "      <td>2016-06-29 00:00:00</td>\n",
       "      <td>56430.500000</td>\n",
       "      <td>54.490000</td>\n",
       "      <td>3.000000</td>\n",
       "      <td>0.200000</td>\n",
       "      <td>8.666500</td>\n",
       "    </tr>\n",
       "    <tr>\n",
       "      <th>75%</th>\n",
       "      <td>2017-05-14 00:00:00</td>\n",
       "      <td>2017-05-18 00:00:00</td>\n",
       "      <td>90008.000000</td>\n",
       "      <td>209.940000</td>\n",
       "      <td>5.000000</td>\n",
       "      <td>0.200000</td>\n",
       "      <td>29.364000</td>\n",
       "    </tr>\n",
       "    <tr>\n",
       "      <th>max</th>\n",
       "      <td>2017-12-30 00:00:00</td>\n",
       "      <td>2018-01-05 00:00:00</td>\n",
       "      <td>99301.000000</td>\n",
       "      <td>22638.480000</td>\n",
       "      <td>14.000000</td>\n",
       "      <td>0.800000</td>\n",
       "      <td>8399.976000</td>\n",
       "    </tr>\n",
       "    <tr>\n",
       "      <th>std</th>\n",
       "      <td>NaN</td>\n",
       "      <td>NaN</td>\n",
       "      <td>32063.693350</td>\n",
       "      <td>623.245101</td>\n",
       "      <td>2.225110</td>\n",
       "      <td>0.206452</td>\n",
       "      <td>234.260108</td>\n",
       "    </tr>\n",
       "  </tbody>\n",
       "</table>\n",
       "</div>"
      ],
      "text/plain": [
       "                          Order Date                      Ship Date  \\\n",
       "count                           9994                           9994   \n",
       "mean   2016-04-30 00:07:12.259355648  2016-05-03 23:06:58.571142912   \n",
       "min              2014-01-03 00:00:00            2014-01-07 00:00:00   \n",
       "25%              2015-05-23 00:00:00            2015-05-27 00:00:00   \n",
       "50%              2016-06-26 00:00:00            2016-06-29 00:00:00   \n",
       "75%              2017-05-14 00:00:00            2017-05-18 00:00:00   \n",
       "max              2017-12-30 00:00:00            2018-01-05 00:00:00   \n",
       "std                              NaN                            NaN   \n",
       "\n",
       "        Postal Code         Sales     Quantity     Discount       Profit  \n",
       "count   9994.000000   9994.000000  9994.000000  9994.000000  9994.000000  \n",
       "mean   55190.379428    229.858001     3.789574     0.156203    28.656896  \n",
       "min     1040.000000      0.444000     1.000000     0.000000 -6599.978000  \n",
       "25%    23223.000000     17.280000     2.000000     0.000000     1.728750  \n",
       "50%    56430.500000     54.490000     3.000000     0.200000     8.666500  \n",
       "75%    90008.000000    209.940000     5.000000     0.200000    29.364000  \n",
       "max    99301.000000  22638.480000    14.000000     0.800000  8399.976000  \n",
       "std    32063.693350    623.245101     2.225110     0.206452   234.260108  "
      ]
     },
     "execution_count": 22,
     "metadata": {},
     "output_type": "execute_result"
    }
   ],
   "source": [
    "sample.describe()"
   ]
  },
  {
   "attachments": {},
   "cell_type": "markdown",
   "metadata": {
    "id": "0vbpV0ARimho"
   },
   "source": [
    "## 1. Create an interactive bar chart showing total sales by State for2014."
   ]
  },
  {
   "cell_type": "code",
   "execution_count": 54,
   "metadata": {},
   "outputs": [
    {
     "data": {
      "text/html": [
       "<div>\n",
       "<style scoped>\n",
       "    .dataframe tbody tr th:only-of-type {\n",
       "        vertical-align: middle;\n",
       "    }\n",
       "\n",
       "    .dataframe tbody tr th {\n",
       "        vertical-align: top;\n",
       "    }\n",
       "\n",
       "    .dataframe thead th {\n",
       "        text-align: right;\n",
       "    }\n",
       "</style>\n",
       "<table border=\"1\" class=\"dataframe\">\n",
       "  <thead>\n",
       "    <tr style=\"text-align: right;\">\n",
       "      <th></th>\n",
       "      <th>State</th>\n",
       "      <th>Sales</th>\n",
       "    </tr>\n",
       "  </thead>\n",
       "  <tbody>\n",
       "    <tr>\n",
       "      <th>0</th>\n",
       "      <td>Alabama</td>\n",
       "      <td>6139.0900</td>\n",
       "    </tr>\n",
       "    <tr>\n",
       "      <th>1</th>\n",
       "      <td>Arizona</td>\n",
       "      <td>8295.2350</td>\n",
       "    </tr>\n",
       "    <tr>\n",
       "      <th>2</th>\n",
       "      <td>Arkansas</td>\n",
       "      <td>6302.6900</td>\n",
       "    </tr>\n",
       "    <tr>\n",
       "      <th>3</th>\n",
       "      <td>California</td>\n",
       "      <td>91303.5310</td>\n",
       "    </tr>\n",
       "    <tr>\n",
       "      <th>4</th>\n",
       "      <td>Colorado</td>\n",
       "      <td>6502.2940</td>\n",
       "    </tr>\n",
       "    <tr>\n",
       "      <th>5</th>\n",
       "      <td>Connecticut</td>\n",
       "      <td>2794.0200</td>\n",
       "    </tr>\n",
       "    <tr>\n",
       "      <th>6</th>\n",
       "      <td>Delaware</td>\n",
       "      <td>4786.0300</td>\n",
       "    </tr>\n",
       "    <tr>\n",
       "      <th>7</th>\n",
       "      <td>Florida</td>\n",
       "      <td>34248.2605</td>\n",
       "    </tr>\n",
       "    <tr>\n",
       "      <th>8</th>\n",
       "      <td>Georgia</td>\n",
       "      <td>4540.1000</td>\n",
       "    </tr>\n",
       "    <tr>\n",
       "      <th>9</th>\n",
       "      <td>Idaho</td>\n",
       "      <td>465.2160</td>\n",
       "    </tr>\n",
       "    <tr>\n",
       "      <th>10</th>\n",
       "      <td>Illinois</td>\n",
       "      <td>16202.7070</td>\n",
       "    </tr>\n",
       "    <tr>\n",
       "      <th>11</th>\n",
       "      <td>Indiana</td>\n",
       "      <td>2936.8100</td>\n",
       "    </tr>\n",
       "    <tr>\n",
       "      <th>12</th>\n",
       "      <td>Iowa</td>\n",
       "      <td>1190.8400</td>\n",
       "    </tr>\n",
       "    <tr>\n",
       "      <th>13</th>\n",
       "      <td>Kansas</td>\n",
       "      <td>1319.7900</td>\n",
       "    </tr>\n",
       "    <tr>\n",
       "      <th>14</th>\n",
       "      <td>Kentucky</td>\n",
       "      <td>8280.4600</td>\n",
       "    </tr>\n",
       "    <tr>\n",
       "      <th>15</th>\n",
       "      <td>Louisiana</td>\n",
       "      <td>2534.9200</td>\n",
       "    </tr>\n",
       "    <tr>\n",
       "      <th>16</th>\n",
       "      <td>Maine</td>\n",
       "      <td>617.1200</td>\n",
       "    </tr>\n",
       "    <tr>\n",
       "      <th>17</th>\n",
       "      <td>Maryland</td>\n",
       "      <td>1701.2500</td>\n",
       "    </tr>\n",
       "    <tr>\n",
       "      <th>18</th>\n",
       "      <td>Massachusetts</td>\n",
       "      <td>9900.1060</td>\n",
       "    </tr>\n",
       "    <tr>\n",
       "      <th>19</th>\n",
       "      <td>Michigan</td>\n",
       "      <td>6172.2510</td>\n",
       "    </tr>\n",
       "    <tr>\n",
       "      <th>20</th>\n",
       "      <td>Minnesota</td>\n",
       "      <td>15883.3300</td>\n",
       "    </tr>\n",
       "    <tr>\n",
       "      <th>21</th>\n",
       "      <td>Mississippi</td>\n",
       "      <td>2055.1600</td>\n",
       "    </tr>\n",
       "    <tr>\n",
       "      <th>22</th>\n",
       "      <td>Missouri</td>\n",
       "      <td>1648.0300</td>\n",
       "    </tr>\n",
       "    <tr>\n",
       "      <th>23</th>\n",
       "      <td>Montana</td>\n",
       "      <td>424.4880</td>\n",
       "    </tr>\n",
       "    <tr>\n",
       "      <th>24</th>\n",
       "      <td>Nebraska</td>\n",
       "      <td>210.0200</td>\n",
       "    </tr>\n",
       "    <tr>\n",
       "      <th>25</th>\n",
       "      <td>Nevada</td>\n",
       "      <td>2561.2100</td>\n",
       "    </tr>\n",
       "    <tr>\n",
       "      <th>26</th>\n",
       "      <td>New Hampshire</td>\n",
       "      <td>504.4800</td>\n",
       "    </tr>\n",
       "    <tr>\n",
       "      <th>27</th>\n",
       "      <td>New Jersey</td>\n",
       "      <td>4192.2800</td>\n",
       "    </tr>\n",
       "    <tr>\n",
       "      <th>28</th>\n",
       "      <td>New Mexico</td>\n",
       "      <td>708.0120</td>\n",
       "    </tr>\n",
       "    <tr>\n",
       "      <th>29</th>\n",
       "      <td>New York</td>\n",
       "      <td>64788.4870</td>\n",
       "    </tr>\n",
       "    <tr>\n",
       "      <th>30</th>\n",
       "      <td>North Carolina</td>\n",
       "      <td>8620.7410</td>\n",
       "    </tr>\n",
       "    <tr>\n",
       "      <th>31</th>\n",
       "      <td>Ohio</td>\n",
       "      <td>14134.8500</td>\n",
       "    </tr>\n",
       "    <tr>\n",
       "      <th>32</th>\n",
       "      <td>Oklahoma</td>\n",
       "      <td>2639.3500</td>\n",
       "    </tr>\n",
       "    <tr>\n",
       "      <th>33</th>\n",
       "      <td>Oregon</td>\n",
       "      <td>4807.7830</td>\n",
       "    </tr>\n",
       "    <tr>\n",
       "      <th>34</th>\n",
       "      <td>Pennsylvania</td>\n",
       "      <td>20246.1480</td>\n",
       "    </tr>\n",
       "    <tr>\n",
       "      <th>35</th>\n",
       "      <td>Rhode Island</td>\n",
       "      <td>5015.6860</td>\n",
       "    </tr>\n",
       "    <tr>\n",
       "      <th>36</th>\n",
       "      <td>South Carolina</td>\n",
       "      <td>2270.8600</td>\n",
       "    </tr>\n",
       "    <tr>\n",
       "      <th>37</th>\n",
       "      <td>South Dakota</td>\n",
       "      <td>162.1500</td>\n",
       "    </tr>\n",
       "    <tr>\n",
       "      <th>38</th>\n",
       "      <td>Tennessee</td>\n",
       "      <td>3051.5120</td>\n",
       "    </tr>\n",
       "    <tr>\n",
       "      <th>39</th>\n",
       "      <td>Texas</td>\n",
       "      <td>50625.1766</td>\n",
       "    </tr>\n",
       "    <tr>\n",
       "      <th>40</th>\n",
       "      <td>Utah</td>\n",
       "      <td>2943.6880</td>\n",
       "    </tr>\n",
       "    <tr>\n",
       "      <th>41</th>\n",
       "      <td>Virginia</td>\n",
       "      <td>25802.0500</td>\n",
       "    </tr>\n",
       "    <tr>\n",
       "      <th>42</th>\n",
       "      <td>Washington</td>\n",
       "      <td>29871.5760</td>\n",
       "    </tr>\n",
       "    <tr>\n",
       "      <th>43</th>\n",
       "      <td>Wisconsin</td>\n",
       "      <td>4847.7100</td>\n",
       "    </tr>\n",
       "  </tbody>\n",
       "</table>\n",
       "</div>"
      ],
      "text/plain": [
       "             State       Sales\n",
       "0          Alabama   6139.0900\n",
       "1          Arizona   8295.2350\n",
       "2         Arkansas   6302.6900\n",
       "3       California  91303.5310\n",
       "4         Colorado   6502.2940\n",
       "5      Connecticut   2794.0200\n",
       "6         Delaware   4786.0300\n",
       "7          Florida  34248.2605\n",
       "8          Georgia   4540.1000\n",
       "9            Idaho    465.2160\n",
       "10        Illinois  16202.7070\n",
       "11         Indiana   2936.8100\n",
       "12            Iowa   1190.8400\n",
       "13          Kansas   1319.7900\n",
       "14        Kentucky   8280.4600\n",
       "15       Louisiana   2534.9200\n",
       "16           Maine    617.1200\n",
       "17        Maryland   1701.2500\n",
       "18   Massachusetts   9900.1060\n",
       "19        Michigan   6172.2510\n",
       "20       Minnesota  15883.3300\n",
       "21     Mississippi   2055.1600\n",
       "22        Missouri   1648.0300\n",
       "23         Montana    424.4880\n",
       "24        Nebraska    210.0200\n",
       "25          Nevada   2561.2100\n",
       "26   New Hampshire    504.4800\n",
       "27      New Jersey   4192.2800\n",
       "28      New Mexico    708.0120\n",
       "29        New York  64788.4870\n",
       "30  North Carolina   8620.7410\n",
       "31            Ohio  14134.8500\n",
       "32        Oklahoma   2639.3500\n",
       "33          Oregon   4807.7830\n",
       "34    Pennsylvania  20246.1480\n",
       "35    Rhode Island   5015.6860\n",
       "36  South Carolina   2270.8600\n",
       "37    South Dakota    162.1500\n",
       "38       Tennessee   3051.5120\n",
       "39           Texas  50625.1766\n",
       "40            Utah   2943.6880\n",
       "41        Virginia  25802.0500\n",
       "42      Washington  29871.5760\n",
       "43       Wisconsin   4847.7100"
      ]
     },
     "execution_count": 54,
     "metadata": {},
     "output_type": "execute_result"
    }
   ],
   "source": [
    "sales2014 = sample.loc[sample.loc[:,\"Order Date\"].dt.year == 2014]\n",
    "state_sales2014= sales2014.groupby(['State'])[['Sales']].sum()\n",
    "state_sales2014.reset_index()"
   ]
  },
  {
   "cell_type": "code",
   "execution_count": 55,
   "metadata": {},
   "outputs": [
    {
     "data": {
      "text/html": [
       "<div>\n",
       "<style scoped>\n",
       "    .dataframe tbody tr th:only-of-type {\n",
       "        vertical-align: middle;\n",
       "    }\n",
       "\n",
       "    .dataframe tbody tr th {\n",
       "        vertical-align: top;\n",
       "    }\n",
       "\n",
       "    .dataframe thead th {\n",
       "        text-align: right;\n",
       "    }\n",
       "</style>\n",
       "<table border=\"1\" class=\"dataframe\">\n",
       "  <thead>\n",
       "    <tr style=\"text-align: right;\">\n",
       "      <th></th>\n",
       "      <th>State</th>\n",
       "      <th>Sales</th>\n",
       "    </tr>\n",
       "  </thead>\n",
       "  <tbody>\n",
       "    <tr>\n",
       "      <th>0</th>\n",
       "      <td>Alabama</td>\n",
       "      <td>6139.0900</td>\n",
       "    </tr>\n",
       "    <tr>\n",
       "      <th>1</th>\n",
       "      <td>Arizona</td>\n",
       "      <td>8295.2350</td>\n",
       "    </tr>\n",
       "    <tr>\n",
       "      <th>2</th>\n",
       "      <td>Arkansas</td>\n",
       "      <td>6302.6900</td>\n",
       "    </tr>\n",
       "    <tr>\n",
       "      <th>3</th>\n",
       "      <td>California</td>\n",
       "      <td>91303.5310</td>\n",
       "    </tr>\n",
       "    <tr>\n",
       "      <th>4</th>\n",
       "      <td>Colorado</td>\n",
       "      <td>6502.2940</td>\n",
       "    </tr>\n",
       "    <tr>\n",
       "      <th>5</th>\n",
       "      <td>Connecticut</td>\n",
       "      <td>2794.0200</td>\n",
       "    </tr>\n",
       "    <tr>\n",
       "      <th>6</th>\n",
       "      <td>Delaware</td>\n",
       "      <td>4786.0300</td>\n",
       "    </tr>\n",
       "    <tr>\n",
       "      <th>7</th>\n",
       "      <td>Florida</td>\n",
       "      <td>34248.2605</td>\n",
       "    </tr>\n",
       "    <tr>\n",
       "      <th>8</th>\n",
       "      <td>Georgia</td>\n",
       "      <td>4540.1000</td>\n",
       "    </tr>\n",
       "    <tr>\n",
       "      <th>9</th>\n",
       "      <td>Idaho</td>\n",
       "      <td>465.2160</td>\n",
       "    </tr>\n",
       "    <tr>\n",
       "      <th>10</th>\n",
       "      <td>Illinois</td>\n",
       "      <td>16202.7070</td>\n",
       "    </tr>\n",
       "    <tr>\n",
       "      <th>11</th>\n",
       "      <td>Indiana</td>\n",
       "      <td>2936.8100</td>\n",
       "    </tr>\n",
       "    <tr>\n",
       "      <th>12</th>\n",
       "      <td>Iowa</td>\n",
       "      <td>1190.8400</td>\n",
       "    </tr>\n",
       "    <tr>\n",
       "      <th>13</th>\n",
       "      <td>Kansas</td>\n",
       "      <td>1319.7900</td>\n",
       "    </tr>\n",
       "    <tr>\n",
       "      <th>14</th>\n",
       "      <td>Kentucky</td>\n",
       "      <td>8280.4600</td>\n",
       "    </tr>\n",
       "    <tr>\n",
       "      <th>15</th>\n",
       "      <td>Louisiana</td>\n",
       "      <td>2534.9200</td>\n",
       "    </tr>\n",
       "    <tr>\n",
       "      <th>16</th>\n",
       "      <td>Maine</td>\n",
       "      <td>617.1200</td>\n",
       "    </tr>\n",
       "    <tr>\n",
       "      <th>17</th>\n",
       "      <td>Maryland</td>\n",
       "      <td>1701.2500</td>\n",
       "    </tr>\n",
       "    <tr>\n",
       "      <th>18</th>\n",
       "      <td>Massachusetts</td>\n",
       "      <td>9900.1060</td>\n",
       "    </tr>\n",
       "    <tr>\n",
       "      <th>19</th>\n",
       "      <td>Michigan</td>\n",
       "      <td>6172.2510</td>\n",
       "    </tr>\n",
       "    <tr>\n",
       "      <th>20</th>\n",
       "      <td>Minnesota</td>\n",
       "      <td>15883.3300</td>\n",
       "    </tr>\n",
       "    <tr>\n",
       "      <th>21</th>\n",
       "      <td>Mississippi</td>\n",
       "      <td>2055.1600</td>\n",
       "    </tr>\n",
       "    <tr>\n",
       "      <th>22</th>\n",
       "      <td>Missouri</td>\n",
       "      <td>1648.0300</td>\n",
       "    </tr>\n",
       "    <tr>\n",
       "      <th>23</th>\n",
       "      <td>Montana</td>\n",
       "      <td>424.4880</td>\n",
       "    </tr>\n",
       "    <tr>\n",
       "      <th>24</th>\n",
       "      <td>Nebraska</td>\n",
       "      <td>210.0200</td>\n",
       "    </tr>\n",
       "    <tr>\n",
       "      <th>25</th>\n",
       "      <td>Nevada</td>\n",
       "      <td>2561.2100</td>\n",
       "    </tr>\n",
       "    <tr>\n",
       "      <th>26</th>\n",
       "      <td>New Hampshire</td>\n",
       "      <td>504.4800</td>\n",
       "    </tr>\n",
       "    <tr>\n",
       "      <th>27</th>\n",
       "      <td>New Jersey</td>\n",
       "      <td>4192.2800</td>\n",
       "    </tr>\n",
       "    <tr>\n",
       "      <th>28</th>\n",
       "      <td>New Mexico</td>\n",
       "      <td>708.0120</td>\n",
       "    </tr>\n",
       "    <tr>\n",
       "      <th>29</th>\n",
       "      <td>New York</td>\n",
       "      <td>64788.4870</td>\n",
       "    </tr>\n",
       "    <tr>\n",
       "      <th>30</th>\n",
       "      <td>North Carolina</td>\n",
       "      <td>8620.7410</td>\n",
       "    </tr>\n",
       "    <tr>\n",
       "      <th>31</th>\n",
       "      <td>Ohio</td>\n",
       "      <td>14134.8500</td>\n",
       "    </tr>\n",
       "    <tr>\n",
       "      <th>32</th>\n",
       "      <td>Oklahoma</td>\n",
       "      <td>2639.3500</td>\n",
       "    </tr>\n",
       "    <tr>\n",
       "      <th>33</th>\n",
       "      <td>Oregon</td>\n",
       "      <td>4807.7830</td>\n",
       "    </tr>\n",
       "    <tr>\n",
       "      <th>34</th>\n",
       "      <td>Pennsylvania</td>\n",
       "      <td>20246.1480</td>\n",
       "    </tr>\n",
       "    <tr>\n",
       "      <th>35</th>\n",
       "      <td>Rhode Island</td>\n",
       "      <td>5015.6860</td>\n",
       "    </tr>\n",
       "    <tr>\n",
       "      <th>36</th>\n",
       "      <td>South Carolina</td>\n",
       "      <td>2270.8600</td>\n",
       "    </tr>\n",
       "    <tr>\n",
       "      <th>37</th>\n",
       "      <td>South Dakota</td>\n",
       "      <td>162.1500</td>\n",
       "    </tr>\n",
       "    <tr>\n",
       "      <th>38</th>\n",
       "      <td>Tennessee</td>\n",
       "      <td>3051.5120</td>\n",
       "    </tr>\n",
       "    <tr>\n",
       "      <th>39</th>\n",
       "      <td>Texas</td>\n",
       "      <td>50625.1766</td>\n",
       "    </tr>\n",
       "    <tr>\n",
       "      <th>40</th>\n",
       "      <td>Utah</td>\n",
       "      <td>2943.6880</td>\n",
       "    </tr>\n",
       "    <tr>\n",
       "      <th>41</th>\n",
       "      <td>Virginia</td>\n",
       "      <td>25802.0500</td>\n",
       "    </tr>\n",
       "    <tr>\n",
       "      <th>42</th>\n",
       "      <td>Washington</td>\n",
       "      <td>29871.5760</td>\n",
       "    </tr>\n",
       "    <tr>\n",
       "      <th>43</th>\n",
       "      <td>Wisconsin</td>\n",
       "      <td>4847.7100</td>\n",
       "    </tr>\n",
       "  </tbody>\n",
       "</table>\n",
       "</div>"
      ],
      "text/plain": [
       "             State       Sales\n",
       "0          Alabama   6139.0900\n",
       "1          Arizona   8295.2350\n",
       "2         Arkansas   6302.6900\n",
       "3       California  91303.5310\n",
       "4         Colorado   6502.2940\n",
       "5      Connecticut   2794.0200\n",
       "6         Delaware   4786.0300\n",
       "7          Florida  34248.2605\n",
       "8          Georgia   4540.1000\n",
       "9            Idaho    465.2160\n",
       "10        Illinois  16202.7070\n",
       "11         Indiana   2936.8100\n",
       "12            Iowa   1190.8400\n",
       "13          Kansas   1319.7900\n",
       "14        Kentucky   8280.4600\n",
       "15       Louisiana   2534.9200\n",
       "16           Maine    617.1200\n",
       "17        Maryland   1701.2500\n",
       "18   Massachusetts   9900.1060\n",
       "19        Michigan   6172.2510\n",
       "20       Minnesota  15883.3300\n",
       "21     Mississippi   2055.1600\n",
       "22        Missouri   1648.0300\n",
       "23         Montana    424.4880\n",
       "24        Nebraska    210.0200\n",
       "25          Nevada   2561.2100\n",
       "26   New Hampshire    504.4800\n",
       "27      New Jersey   4192.2800\n",
       "28      New Mexico    708.0120\n",
       "29        New York  64788.4870\n",
       "30  North Carolina   8620.7410\n",
       "31            Ohio  14134.8500\n",
       "32        Oklahoma   2639.3500\n",
       "33          Oregon   4807.7830\n",
       "34    Pennsylvania  20246.1480\n",
       "35    Rhode Island   5015.6860\n",
       "36  South Carolina   2270.8600\n",
       "37    South Dakota    162.1500\n",
       "38       Tennessee   3051.5120\n",
       "39           Texas  50625.1766\n",
       "40            Utah   2943.6880\n",
       "41        Virginia  25802.0500\n",
       "42      Washington  29871.5760\n",
       "43       Wisconsin   4847.7100"
      ]
     },
     "execution_count": 55,
     "metadata": {},
     "output_type": "execute_result"
    }
   ],
   "source": [
    "state_sales2014 = state_sales2014.reset_index()\n",
    "state_sales2014"
   ]
  },
  {
   "cell_type": "code",
   "execution_count": 50,
   "metadata": {},
   "outputs": [],
   "source": [
    "import plotly.graph_objects as go"
   ]
  },
  {
   "cell_type": "code",
   "execution_count": 57,
   "metadata": {},
   "outputs": [
    {
     "data": {
      "text/plain": [
       "0            Alabama\n",
       "1            Arizona\n",
       "2           Arkansas\n",
       "3         California\n",
       "4           Colorado\n",
       "5        Connecticut\n",
       "6           Delaware\n",
       "7            Florida\n",
       "8            Georgia\n",
       "9              Idaho\n",
       "10          Illinois\n",
       "11           Indiana\n",
       "12              Iowa\n",
       "13            Kansas\n",
       "14          Kentucky\n",
       "15         Louisiana\n",
       "16             Maine\n",
       "17          Maryland\n",
       "18     Massachusetts\n",
       "19          Michigan\n",
       "20         Minnesota\n",
       "21       Mississippi\n",
       "22          Missouri\n",
       "23           Montana\n",
       "24          Nebraska\n",
       "25            Nevada\n",
       "26     New Hampshire\n",
       "27        New Jersey\n",
       "28        New Mexico\n",
       "29          New York\n",
       "30    North Carolina\n",
       "31              Ohio\n",
       "32          Oklahoma\n",
       "33            Oregon\n",
       "34      Pennsylvania\n",
       "35      Rhode Island\n",
       "36    South Carolina\n",
       "37      South Dakota\n",
       "38         Tennessee\n",
       "39             Texas\n",
       "40              Utah\n",
       "41          Virginia\n",
       "42        Washington\n",
       "43         Wisconsin\n",
       "Name: State, dtype: object"
      ]
     },
     "execution_count": 57,
     "metadata": {},
     "output_type": "execute_result"
    }
   ],
   "source": [
    "state_sales2014['State']"
   ]
  },
  {
   "cell_type": "code",
   "execution_count": 59,
   "metadata": {},
   "outputs": [
    {
     "data": {
      "application/vnd.plotly.v1+json": {
       "config": {
        "plotlyServerURL": "https://plot.ly"
       },
       "data": [
        {
         "marker": {
          "color": "rgba(255, 174, 255, 0.5)",
          "line": {
           "color": "rgb(0,0,0)",
           "width": 1.5
          }
         },
         "name": "citations",
         "text": [
          "Alabama",
          "Arizona",
          "Arkansas",
          "California",
          "Colorado",
          "Connecticut",
          "Delaware",
          "Florida",
          "Georgia",
          "Idaho",
          "Illinois",
          "Indiana",
          "Iowa",
          "Kansas",
          "Kentucky",
          "Louisiana",
          "Maine",
          "Maryland",
          "Massachusetts",
          "Michigan",
          "Minnesota",
          "Mississippi",
          "Missouri",
          "Montana",
          "Nebraska",
          "Nevada",
          "New Hampshire",
          "New Jersey",
          "New Mexico",
          "New York",
          "North Carolina",
          "Ohio",
          "Oklahoma",
          "Oregon",
          "Pennsylvania",
          "Rhode Island",
          "South Carolina",
          "South Dakota",
          "Tennessee",
          "Texas",
          "Utah",
          "Virginia",
          "Washington",
          "Wisconsin"
         ],
         "type": "bar",
         "x": [
          "Alabama",
          "Arizona",
          "Arkansas",
          "California",
          "Colorado",
          "Connecticut",
          "Delaware",
          "Florida",
          "Georgia",
          "Idaho",
          "Illinois",
          "Indiana",
          "Iowa",
          "Kansas",
          "Kentucky",
          "Louisiana",
          "Maine",
          "Maryland",
          "Massachusetts",
          "Michigan",
          "Minnesota",
          "Mississippi",
          "Missouri",
          "Montana",
          "Nebraska",
          "Nevada",
          "New Hampshire",
          "New Jersey",
          "New Mexico",
          "New York",
          "North Carolina",
          "Ohio",
          "Oklahoma",
          "Oregon",
          "Pennsylvania",
          "Rhode Island",
          "South Carolina",
          "South Dakota",
          "Tennessee",
          "Texas",
          "Utah",
          "Virginia",
          "Washington",
          "Wisconsin"
         ],
         "y": [
          6139.09,
          8295.235,
          6302.6900000000005,
          91303.531,
          6502.294000000001,
          2794.02,
          4786.03,
          34248.2605,
          4540.1,
          465.216,
          16202.707,
          2936.81,
          1190.84,
          1319.79,
          8280.460000000001,
          2534.92,
          617.12,
          1701.25,
          9900.106,
          6172.251,
          15883.330000000002,
          2055.16,
          1648.03,
          424.488,
          210.01999999999998,
          2561.21,
          504.48,
          4192.28,
          708.012,
          64788.487,
          8620.741,
          14134.85,
          2639.35,
          4807.783,
          20246.148,
          5015.686,
          2270.8599999999997,
          162.15,
          3051.512,
          50625.1766,
          2943.688,
          25802.05,
          29871.576,
          4847.71
         ]
        }
       ],
       "layout": {
        "barmode": "group",
        "template": {
         "data": {
          "bar": [
           {
            "error_x": {
             "color": "#2a3f5f"
            },
            "error_y": {
             "color": "#2a3f5f"
            },
            "marker": {
             "line": {
              "color": "#E5ECF6",
              "width": 0.5
             },
             "pattern": {
              "fillmode": "overlay",
              "size": 10,
              "solidity": 0.2
             }
            },
            "type": "bar"
           }
          ],
          "barpolar": [
           {
            "marker": {
             "line": {
              "color": "#E5ECF6",
              "width": 0.5
             },
             "pattern": {
              "fillmode": "overlay",
              "size": 10,
              "solidity": 0.2
             }
            },
            "type": "barpolar"
           }
          ],
          "carpet": [
           {
            "aaxis": {
             "endlinecolor": "#2a3f5f",
             "gridcolor": "white",
             "linecolor": "white",
             "minorgridcolor": "white",
             "startlinecolor": "#2a3f5f"
            },
            "baxis": {
             "endlinecolor": "#2a3f5f",
             "gridcolor": "white",
             "linecolor": "white",
             "minorgridcolor": "white",
             "startlinecolor": "#2a3f5f"
            },
            "type": "carpet"
           }
          ],
          "choropleth": [
           {
            "colorbar": {
             "outlinewidth": 0,
             "ticks": ""
            },
            "type": "choropleth"
           }
          ],
          "contour": [
           {
            "colorbar": {
             "outlinewidth": 0,
             "ticks": ""
            },
            "colorscale": [
             [
              0,
              "#0d0887"
             ],
             [
              0.1111111111111111,
              "#46039f"
             ],
             [
              0.2222222222222222,
              "#7201a8"
             ],
             [
              0.3333333333333333,
              "#9c179e"
             ],
             [
              0.4444444444444444,
              "#bd3786"
             ],
             [
              0.5555555555555556,
              "#d8576b"
             ],
             [
              0.6666666666666666,
              "#ed7953"
             ],
             [
              0.7777777777777778,
              "#fb9f3a"
             ],
             [
              0.8888888888888888,
              "#fdca26"
             ],
             [
              1,
              "#f0f921"
             ]
            ],
            "type": "contour"
           }
          ],
          "contourcarpet": [
           {
            "colorbar": {
             "outlinewidth": 0,
             "ticks": ""
            },
            "type": "contourcarpet"
           }
          ],
          "heatmap": [
           {
            "colorbar": {
             "outlinewidth": 0,
             "ticks": ""
            },
            "colorscale": [
             [
              0,
              "#0d0887"
             ],
             [
              0.1111111111111111,
              "#46039f"
             ],
             [
              0.2222222222222222,
              "#7201a8"
             ],
             [
              0.3333333333333333,
              "#9c179e"
             ],
             [
              0.4444444444444444,
              "#bd3786"
             ],
             [
              0.5555555555555556,
              "#d8576b"
             ],
             [
              0.6666666666666666,
              "#ed7953"
             ],
             [
              0.7777777777777778,
              "#fb9f3a"
             ],
             [
              0.8888888888888888,
              "#fdca26"
             ],
             [
              1,
              "#f0f921"
             ]
            ],
            "type": "heatmap"
           }
          ],
          "heatmapgl": [
           {
            "colorbar": {
             "outlinewidth": 0,
             "ticks": ""
            },
            "colorscale": [
             [
              0,
              "#0d0887"
             ],
             [
              0.1111111111111111,
              "#46039f"
             ],
             [
              0.2222222222222222,
              "#7201a8"
             ],
             [
              0.3333333333333333,
              "#9c179e"
             ],
             [
              0.4444444444444444,
              "#bd3786"
             ],
             [
              0.5555555555555556,
              "#d8576b"
             ],
             [
              0.6666666666666666,
              "#ed7953"
             ],
             [
              0.7777777777777778,
              "#fb9f3a"
             ],
             [
              0.8888888888888888,
              "#fdca26"
             ],
             [
              1,
              "#f0f921"
             ]
            ],
            "type": "heatmapgl"
           }
          ],
          "histogram": [
           {
            "marker": {
             "pattern": {
              "fillmode": "overlay",
              "size": 10,
              "solidity": 0.2
             }
            },
            "type": "histogram"
           }
          ],
          "histogram2d": [
           {
            "colorbar": {
             "outlinewidth": 0,
             "ticks": ""
            },
            "colorscale": [
             [
              0,
              "#0d0887"
             ],
             [
              0.1111111111111111,
              "#46039f"
             ],
             [
              0.2222222222222222,
              "#7201a8"
             ],
             [
              0.3333333333333333,
              "#9c179e"
             ],
             [
              0.4444444444444444,
              "#bd3786"
             ],
             [
              0.5555555555555556,
              "#d8576b"
             ],
             [
              0.6666666666666666,
              "#ed7953"
             ],
             [
              0.7777777777777778,
              "#fb9f3a"
             ],
             [
              0.8888888888888888,
              "#fdca26"
             ],
             [
              1,
              "#f0f921"
             ]
            ],
            "type": "histogram2d"
           }
          ],
          "histogram2dcontour": [
           {
            "colorbar": {
             "outlinewidth": 0,
             "ticks": ""
            },
            "colorscale": [
             [
              0,
              "#0d0887"
             ],
             [
              0.1111111111111111,
              "#46039f"
             ],
             [
              0.2222222222222222,
              "#7201a8"
             ],
             [
              0.3333333333333333,
              "#9c179e"
             ],
             [
              0.4444444444444444,
              "#bd3786"
             ],
             [
              0.5555555555555556,
              "#d8576b"
             ],
             [
              0.6666666666666666,
              "#ed7953"
             ],
             [
              0.7777777777777778,
              "#fb9f3a"
             ],
             [
              0.8888888888888888,
              "#fdca26"
             ],
             [
              1,
              "#f0f921"
             ]
            ],
            "type": "histogram2dcontour"
           }
          ],
          "mesh3d": [
           {
            "colorbar": {
             "outlinewidth": 0,
             "ticks": ""
            },
            "type": "mesh3d"
           }
          ],
          "parcoords": [
           {
            "line": {
             "colorbar": {
              "outlinewidth": 0,
              "ticks": ""
             }
            },
            "type": "parcoords"
           }
          ],
          "pie": [
           {
            "automargin": true,
            "type": "pie"
           }
          ],
          "scatter": [
           {
            "fillpattern": {
             "fillmode": "overlay",
             "size": 10,
             "solidity": 0.2
            },
            "type": "scatter"
           }
          ],
          "scatter3d": [
           {
            "line": {
             "colorbar": {
              "outlinewidth": 0,
              "ticks": ""
             }
            },
            "marker": {
             "colorbar": {
              "outlinewidth": 0,
              "ticks": ""
             }
            },
            "type": "scatter3d"
           }
          ],
          "scattercarpet": [
           {
            "marker": {
             "colorbar": {
              "outlinewidth": 0,
              "ticks": ""
             }
            },
            "type": "scattercarpet"
           }
          ],
          "scattergeo": [
           {
            "marker": {
             "colorbar": {
              "outlinewidth": 0,
              "ticks": ""
             }
            },
            "type": "scattergeo"
           }
          ],
          "scattergl": [
           {
            "marker": {
             "colorbar": {
              "outlinewidth": 0,
              "ticks": ""
             }
            },
            "type": "scattergl"
           }
          ],
          "scattermapbox": [
           {
            "marker": {
             "colorbar": {
              "outlinewidth": 0,
              "ticks": ""
             }
            },
            "type": "scattermapbox"
           }
          ],
          "scatterpolar": [
           {
            "marker": {
             "colorbar": {
              "outlinewidth": 0,
              "ticks": ""
             }
            },
            "type": "scatterpolar"
           }
          ],
          "scatterpolargl": [
           {
            "marker": {
             "colorbar": {
              "outlinewidth": 0,
              "ticks": ""
             }
            },
            "type": "scatterpolargl"
           }
          ],
          "scatterternary": [
           {
            "marker": {
             "colorbar": {
              "outlinewidth": 0,
              "ticks": ""
             }
            },
            "type": "scatterternary"
           }
          ],
          "surface": [
           {
            "colorbar": {
             "outlinewidth": 0,
             "ticks": ""
            },
            "colorscale": [
             [
              0,
              "#0d0887"
             ],
             [
              0.1111111111111111,
              "#46039f"
             ],
             [
              0.2222222222222222,
              "#7201a8"
             ],
             [
              0.3333333333333333,
              "#9c179e"
             ],
             [
              0.4444444444444444,
              "#bd3786"
             ],
             [
              0.5555555555555556,
              "#d8576b"
             ],
             [
              0.6666666666666666,
              "#ed7953"
             ],
             [
              0.7777777777777778,
              "#fb9f3a"
             ],
             [
              0.8888888888888888,
              "#fdca26"
             ],
             [
              1,
              "#f0f921"
             ]
            ],
            "type": "surface"
           }
          ],
          "table": [
           {
            "cells": {
             "fill": {
              "color": "#EBF0F8"
             },
             "line": {
              "color": "white"
             }
            },
            "header": {
             "fill": {
              "color": "#C8D4E3"
             },
             "line": {
              "color": "white"
             }
            },
            "type": "table"
           }
          ]
         },
         "layout": {
          "annotationdefaults": {
           "arrowcolor": "#2a3f5f",
           "arrowhead": 0,
           "arrowwidth": 1
          },
          "autotypenumbers": "strict",
          "coloraxis": {
           "colorbar": {
            "outlinewidth": 0,
            "ticks": ""
           }
          },
          "colorscale": {
           "diverging": [
            [
             0,
             "#8e0152"
            ],
            [
             0.1,
             "#c51b7d"
            ],
            [
             0.2,
             "#de77ae"
            ],
            [
             0.3,
             "#f1b6da"
            ],
            [
             0.4,
             "#fde0ef"
            ],
            [
             0.5,
             "#f7f7f7"
            ],
            [
             0.6,
             "#e6f5d0"
            ],
            [
             0.7,
             "#b8e186"
            ],
            [
             0.8,
             "#7fbc41"
            ],
            [
             0.9,
             "#4d9221"
            ],
            [
             1,
             "#276419"
            ]
           ],
           "sequential": [
            [
             0,
             "#0d0887"
            ],
            [
             0.1111111111111111,
             "#46039f"
            ],
            [
             0.2222222222222222,
             "#7201a8"
            ],
            [
             0.3333333333333333,
             "#9c179e"
            ],
            [
             0.4444444444444444,
             "#bd3786"
            ],
            [
             0.5555555555555556,
             "#d8576b"
            ],
            [
             0.6666666666666666,
             "#ed7953"
            ],
            [
             0.7777777777777778,
             "#fb9f3a"
            ],
            [
             0.8888888888888888,
             "#fdca26"
            ],
            [
             1,
             "#f0f921"
            ]
           ],
           "sequentialminus": [
            [
             0,
             "#0d0887"
            ],
            [
             0.1111111111111111,
             "#46039f"
            ],
            [
             0.2222222222222222,
             "#7201a8"
            ],
            [
             0.3333333333333333,
             "#9c179e"
            ],
            [
             0.4444444444444444,
             "#bd3786"
            ],
            [
             0.5555555555555556,
             "#d8576b"
            ],
            [
             0.6666666666666666,
             "#ed7953"
            ],
            [
             0.7777777777777778,
             "#fb9f3a"
            ],
            [
             0.8888888888888888,
             "#fdca26"
            ],
            [
             1,
             "#f0f921"
            ]
           ]
          },
          "colorway": [
           "#636efa",
           "#EF553B",
           "#00cc96",
           "#ab63fa",
           "#FFA15A",
           "#19d3f3",
           "#FF6692",
           "#B6E880",
           "#FF97FF",
           "#FECB52"
          ],
          "font": {
           "color": "#2a3f5f"
          },
          "geo": {
           "bgcolor": "white",
           "lakecolor": "white",
           "landcolor": "#E5ECF6",
           "showlakes": true,
           "showland": true,
           "subunitcolor": "white"
          },
          "hoverlabel": {
           "align": "left"
          },
          "hovermode": "closest",
          "mapbox": {
           "style": "light"
          },
          "paper_bgcolor": "white",
          "plot_bgcolor": "#E5ECF6",
          "polar": {
           "angularaxis": {
            "gridcolor": "white",
            "linecolor": "white",
            "ticks": ""
           },
           "bgcolor": "#E5ECF6",
           "radialaxis": {
            "gridcolor": "white",
            "linecolor": "white",
            "ticks": ""
           }
          },
          "scene": {
           "xaxis": {
            "backgroundcolor": "#E5ECF6",
            "gridcolor": "white",
            "gridwidth": 2,
            "linecolor": "white",
            "showbackground": true,
            "ticks": "",
            "zerolinecolor": "white"
           },
           "yaxis": {
            "backgroundcolor": "#E5ECF6",
            "gridcolor": "white",
            "gridwidth": 2,
            "linecolor": "white",
            "showbackground": true,
            "ticks": "",
            "zerolinecolor": "white"
           },
           "zaxis": {
            "backgroundcolor": "#E5ECF6",
            "gridcolor": "white",
            "gridwidth": 2,
            "linecolor": "white",
            "showbackground": true,
            "ticks": "",
            "zerolinecolor": "white"
           }
          },
          "shapedefaults": {
           "line": {
            "color": "#2a3f5f"
           }
          },
          "ternary": {
           "aaxis": {
            "gridcolor": "white",
            "linecolor": "white",
            "ticks": ""
           },
           "baxis": {
            "gridcolor": "white",
            "linecolor": "white",
            "ticks": ""
           },
           "bgcolor": "#E5ECF6",
           "caxis": {
            "gridcolor": "white",
            "linecolor": "white",
            "ticks": ""
           }
          },
          "title": {
           "x": 0.05
          },
          "xaxis": {
           "automargin": true,
           "gridcolor": "white",
           "linecolor": "white",
           "ticks": "",
           "title": {
            "standoff": 15
           },
           "zerolinecolor": "white",
           "zerolinewidth": 2
          },
          "yaxis": {
           "automargin": true,
           "gridcolor": "white",
           "linecolor": "white",
           "ticks": "",
           "title": {
            "standoff": 15
           },
           "zerolinecolor": "white",
           "zerolinewidth": 2
          }
         }
        }
       }
      }
     },
     "metadata": {},
     "output_type": "display_data"
    }
   ],
   "source": [
    "import plotly.graph_objects as go\n",
    "\n",
    "# create trace1 \n",
    "trace1 = go.Bar(x = state_sales2014['State'],\n",
    "               y = state_sales2014['Sales'],\n",
    "               name = 'citations',\n",
    "               marker = dict(color = 'rgba(255, 174, 255, 0.5)',\n",
    "                            line = dict(color='rgb(0,0,0)', width = 1.5)),\n",
    "               text = state_sales2014['State'])\n",
    "\n",
    "data = [trace1]\n",
    "\n",
    "layout = go.Layout(barmode = \"group\")\n",
    "\n",
    "fig = go.Figure(data = data, layout = layout)\n",
    "\n",
    "fig"
   ]
  },
  {
   "attachments": {},
   "cell_type": "markdown",
   "metadata": {
    "id": "ORjGPnb_imh0"
   },
   "source": [
    "## 2. Create an interactive line chart showing Sales and Profit in 2014."
   ]
  },
  {
   "cell_type": "code",
   "execution_count": 67,
   "metadata": {},
   "outputs": [
    {
     "data": {
      "text/html": [
       "<div>\n",
       "<style scoped>\n",
       "    .dataframe tbody tr th:only-of-type {\n",
       "        vertical-align: middle;\n",
       "    }\n",
       "\n",
       "    .dataframe tbody tr th {\n",
       "        vertical-align: top;\n",
       "    }\n",
       "\n",
       "    .dataframe thead th {\n",
       "        text-align: right;\n",
       "    }\n",
       "</style>\n",
       "<table border=\"1\" class=\"dataframe\">\n",
       "  <thead>\n",
       "    <tr style=\"text-align: right;\">\n",
       "      <th></th>\n",
       "      <th>Order ID</th>\n",
       "      <th>Order Date</th>\n",
       "      <th>Ship Date</th>\n",
       "      <th>Ship Mode</th>\n",
       "      <th>Customer ID</th>\n",
       "      <th>Customer Name</th>\n",
       "      <th>Segment</th>\n",
       "      <th>Country</th>\n",
       "      <th>City</th>\n",
       "      <th>State</th>\n",
       "      <th>...</th>\n",
       "      <th>Region</th>\n",
       "      <th>Product ID</th>\n",
       "      <th>Category</th>\n",
       "      <th>Sub-Category</th>\n",
       "      <th>Product Name</th>\n",
       "      <th>Sales</th>\n",
       "      <th>Quantity</th>\n",
       "      <th>Discount</th>\n",
       "      <th>Profit</th>\n",
       "      <th>Year</th>\n",
       "    </tr>\n",
       "  </thead>\n",
       "  <tbody>\n",
       "    <tr>\n",
       "      <th>5</th>\n",
       "      <td>CA-2014-115812</td>\n",
       "      <td>2014-06-09</td>\n",
       "      <td>2014-06-14</td>\n",
       "      <td>Standard Class</td>\n",
       "      <td>BH-11710</td>\n",
       "      <td>Brosina Hoffman</td>\n",
       "      <td>Consumer</td>\n",
       "      <td>United States</td>\n",
       "      <td>Los Angeles</td>\n",
       "      <td>California</td>\n",
       "      <td>...</td>\n",
       "      <td>West</td>\n",
       "      <td>FUR-FU-10001487</td>\n",
       "      <td>Furniture</td>\n",
       "      <td>Furnishings</td>\n",
       "      <td>Eldon Expressions Wood and Plastic Desk Access...</td>\n",
       "      <td>48.860</td>\n",
       "      <td>7</td>\n",
       "      <td>0.0</td>\n",
       "      <td>14.1694</td>\n",
       "      <td>2014</td>\n",
       "    </tr>\n",
       "    <tr>\n",
       "      <th>6</th>\n",
       "      <td>CA-2014-115812</td>\n",
       "      <td>2014-06-09</td>\n",
       "      <td>2014-06-14</td>\n",
       "      <td>Standard Class</td>\n",
       "      <td>BH-11710</td>\n",
       "      <td>Brosina Hoffman</td>\n",
       "      <td>Consumer</td>\n",
       "      <td>United States</td>\n",
       "      <td>Los Angeles</td>\n",
       "      <td>California</td>\n",
       "      <td>...</td>\n",
       "      <td>West</td>\n",
       "      <td>OFF-AR-10002833</td>\n",
       "      <td>Office Supplies</td>\n",
       "      <td>Art</td>\n",
       "      <td>Newell 322</td>\n",
       "      <td>7.280</td>\n",
       "      <td>4</td>\n",
       "      <td>0.0</td>\n",
       "      <td>1.9656</td>\n",
       "      <td>2014</td>\n",
       "    </tr>\n",
       "    <tr>\n",
       "      <th>7</th>\n",
       "      <td>CA-2014-115812</td>\n",
       "      <td>2014-06-09</td>\n",
       "      <td>2014-06-14</td>\n",
       "      <td>Standard Class</td>\n",
       "      <td>BH-11710</td>\n",
       "      <td>Brosina Hoffman</td>\n",
       "      <td>Consumer</td>\n",
       "      <td>United States</td>\n",
       "      <td>Los Angeles</td>\n",
       "      <td>California</td>\n",
       "      <td>...</td>\n",
       "      <td>West</td>\n",
       "      <td>TEC-PH-10002275</td>\n",
       "      <td>Technology</td>\n",
       "      <td>Phones</td>\n",
       "      <td>Mitel 5320 IP Phone VoIP phone</td>\n",
       "      <td>907.152</td>\n",
       "      <td>6</td>\n",
       "      <td>0.2</td>\n",
       "      <td>90.7152</td>\n",
       "      <td>2014</td>\n",
       "    </tr>\n",
       "    <tr>\n",
       "      <th>8</th>\n",
       "      <td>CA-2014-115812</td>\n",
       "      <td>2014-06-09</td>\n",
       "      <td>2014-06-14</td>\n",
       "      <td>Standard Class</td>\n",
       "      <td>BH-11710</td>\n",
       "      <td>Brosina Hoffman</td>\n",
       "      <td>Consumer</td>\n",
       "      <td>United States</td>\n",
       "      <td>Los Angeles</td>\n",
       "      <td>California</td>\n",
       "      <td>...</td>\n",
       "      <td>West</td>\n",
       "      <td>OFF-BI-10003910</td>\n",
       "      <td>Office Supplies</td>\n",
       "      <td>Binders</td>\n",
       "      <td>DXL Angle-View Binders with Locking Rings by S...</td>\n",
       "      <td>18.504</td>\n",
       "      <td>3</td>\n",
       "      <td>0.2</td>\n",
       "      <td>5.7825</td>\n",
       "      <td>2014</td>\n",
       "    </tr>\n",
       "    <tr>\n",
       "      <th>9</th>\n",
       "      <td>CA-2014-115812</td>\n",
       "      <td>2014-06-09</td>\n",
       "      <td>2014-06-14</td>\n",
       "      <td>Standard Class</td>\n",
       "      <td>BH-11710</td>\n",
       "      <td>Brosina Hoffman</td>\n",
       "      <td>Consumer</td>\n",
       "      <td>United States</td>\n",
       "      <td>Los Angeles</td>\n",
       "      <td>California</td>\n",
       "      <td>...</td>\n",
       "      <td>West</td>\n",
       "      <td>OFF-AP-10002892</td>\n",
       "      <td>Office Supplies</td>\n",
       "      <td>Appliances</td>\n",
       "      <td>Belkin F5C206VTEL 6 Outlet Surge</td>\n",
       "      <td>114.900</td>\n",
       "      <td>5</td>\n",
       "      <td>0.0</td>\n",
       "      <td>34.4700</td>\n",
       "      <td>2014</td>\n",
       "    </tr>\n",
       "    <tr>\n",
       "      <th>...</th>\n",
       "      <td>...</td>\n",
       "      <td>...</td>\n",
       "      <td>...</td>\n",
       "      <td>...</td>\n",
       "      <td>...</td>\n",
       "      <td>...</td>\n",
       "      <td>...</td>\n",
       "      <td>...</td>\n",
       "      <td>...</td>\n",
       "      <td>...</td>\n",
       "      <td>...</td>\n",
       "      <td>...</td>\n",
       "      <td>...</td>\n",
       "      <td>...</td>\n",
       "      <td>...</td>\n",
       "      <td>...</td>\n",
       "      <td>...</td>\n",
       "      <td>...</td>\n",
       "      <td>...</td>\n",
       "      <td>...</td>\n",
       "      <td>...</td>\n",
       "    </tr>\n",
       "    <tr>\n",
       "      <th>9946</th>\n",
       "      <td>CA-2014-111157</td>\n",
       "      <td>2014-03-02</td>\n",
       "      <td>2014-03-06</td>\n",
       "      <td>Standard Class</td>\n",
       "      <td>NH-18610</td>\n",
       "      <td>Nicole Hansen</td>\n",
       "      <td>Corporate</td>\n",
       "      <td>United States</td>\n",
       "      <td>Philadelphia</td>\n",
       "      <td>Pennsylvania</td>\n",
       "      <td>...</td>\n",
       "      <td>East</td>\n",
       "      <td>TEC-AC-10004353</td>\n",
       "      <td>Technology</td>\n",
       "      <td>Accessories</td>\n",
       "      <td>Hypercom P1300 Pinpad</td>\n",
       "      <td>151.200</td>\n",
       "      <td>3</td>\n",
       "      <td>0.2</td>\n",
       "      <td>32.1300</td>\n",
       "      <td>2014</td>\n",
       "    </tr>\n",
       "    <tr>\n",
       "      <th>9956</th>\n",
       "      <td>US-2014-143287</td>\n",
       "      <td>2014-11-11</td>\n",
       "      <td>2014-11-17</td>\n",
       "      <td>Standard Class</td>\n",
       "      <td>KN-16705</td>\n",
       "      <td>Kristina Nunn</td>\n",
       "      <td>Home Office</td>\n",
       "      <td>United States</td>\n",
       "      <td>New Rochelle</td>\n",
       "      <td>New York</td>\n",
       "      <td>...</td>\n",
       "      <td>East</td>\n",
       "      <td>OFF-PA-10001776</td>\n",
       "      <td>Office Supplies</td>\n",
       "      <td>Paper</td>\n",
       "      <td>Wirebound Message Books, Four 2 3/4\" x 5\" Form...</td>\n",
       "      <td>46.350</td>\n",
       "      <td>5</td>\n",
       "      <td>0.0</td>\n",
       "      <td>21.7845</td>\n",
       "      <td>2014</td>\n",
       "    </tr>\n",
       "    <tr>\n",
       "      <th>9957</th>\n",
       "      <td>US-2014-143287</td>\n",
       "      <td>2014-11-11</td>\n",
       "      <td>2014-11-17</td>\n",
       "      <td>Standard Class</td>\n",
       "      <td>KN-16705</td>\n",
       "      <td>Kristina Nunn</td>\n",
       "      <td>Home Office</td>\n",
       "      <td>United States</td>\n",
       "      <td>New Rochelle</td>\n",
       "      <td>New York</td>\n",
       "      <td>...</td>\n",
       "      <td>East</td>\n",
       "      <td>OFF-PA-10004039</td>\n",
       "      <td>Office Supplies</td>\n",
       "      <td>Paper</td>\n",
       "      <td>Xerox 1882</td>\n",
       "      <td>223.920</td>\n",
       "      <td>4</td>\n",
       "      <td>0.0</td>\n",
       "      <td>109.7208</td>\n",
       "      <td>2014</td>\n",
       "    </tr>\n",
       "    <tr>\n",
       "      <th>9958</th>\n",
       "      <td>US-2014-143287</td>\n",
       "      <td>2014-11-11</td>\n",
       "      <td>2014-11-17</td>\n",
       "      <td>Standard Class</td>\n",
       "      <td>KN-16705</td>\n",
       "      <td>Kristina Nunn</td>\n",
       "      <td>Home Office</td>\n",
       "      <td>United States</td>\n",
       "      <td>New Rochelle</td>\n",
       "      <td>New York</td>\n",
       "      <td>...</td>\n",
       "      <td>East</td>\n",
       "      <td>OFF-SU-10001574</td>\n",
       "      <td>Office Supplies</td>\n",
       "      <td>Supplies</td>\n",
       "      <td>Acme Value Line Scissors</td>\n",
       "      <td>7.300</td>\n",
       "      <td>2</td>\n",
       "      <td>0.0</td>\n",
       "      <td>2.1900</td>\n",
       "      <td>2014</td>\n",
       "    </tr>\n",
       "    <tr>\n",
       "      <th>9989</th>\n",
       "      <td>CA-2014-110422</td>\n",
       "      <td>2014-01-21</td>\n",
       "      <td>2014-01-23</td>\n",
       "      <td>Second Class</td>\n",
       "      <td>TB-21400</td>\n",
       "      <td>Tom Boeckenhauer</td>\n",
       "      <td>Consumer</td>\n",
       "      <td>United States</td>\n",
       "      <td>Miami</td>\n",
       "      <td>Florida</td>\n",
       "      <td>...</td>\n",
       "      <td>South</td>\n",
       "      <td>FUR-FU-10001889</td>\n",
       "      <td>Furniture</td>\n",
       "      <td>Furnishings</td>\n",
       "      <td>Ultra Door Pull Handle</td>\n",
       "      <td>25.248</td>\n",
       "      <td>3</td>\n",
       "      <td>0.2</td>\n",
       "      <td>4.1028</td>\n",
       "      <td>2014</td>\n",
       "    </tr>\n",
       "  </tbody>\n",
       "</table>\n",
       "<p>1993 rows × 21 columns</p>\n",
       "</div>"
      ],
      "text/plain": [
       "            Order ID Order Date  Ship Date       Ship Mode Customer ID  \\\n",
       "5     CA-2014-115812 2014-06-09 2014-06-14  Standard Class    BH-11710   \n",
       "6     CA-2014-115812 2014-06-09 2014-06-14  Standard Class    BH-11710   \n",
       "7     CA-2014-115812 2014-06-09 2014-06-14  Standard Class    BH-11710   \n",
       "8     CA-2014-115812 2014-06-09 2014-06-14  Standard Class    BH-11710   \n",
       "9     CA-2014-115812 2014-06-09 2014-06-14  Standard Class    BH-11710   \n",
       "...              ...        ...        ...             ...         ...   \n",
       "9946  CA-2014-111157 2014-03-02 2014-03-06  Standard Class    NH-18610   \n",
       "9956  US-2014-143287 2014-11-11 2014-11-17  Standard Class    KN-16705   \n",
       "9957  US-2014-143287 2014-11-11 2014-11-17  Standard Class    KN-16705   \n",
       "9958  US-2014-143287 2014-11-11 2014-11-17  Standard Class    KN-16705   \n",
       "9989  CA-2014-110422 2014-01-21 2014-01-23    Second Class    TB-21400   \n",
       "\n",
       "         Customer Name      Segment        Country          City  \\\n",
       "5      Brosina Hoffman     Consumer  United States   Los Angeles   \n",
       "6      Brosina Hoffman     Consumer  United States   Los Angeles   \n",
       "7      Brosina Hoffman     Consumer  United States   Los Angeles   \n",
       "8      Brosina Hoffman     Consumer  United States   Los Angeles   \n",
       "9      Brosina Hoffman     Consumer  United States   Los Angeles   \n",
       "...                ...          ...            ...           ...   \n",
       "9946     Nicole Hansen    Corporate  United States  Philadelphia   \n",
       "9956     Kristina Nunn  Home Office  United States  New Rochelle   \n",
       "9957     Kristina Nunn  Home Office  United States  New Rochelle   \n",
       "9958     Kristina Nunn  Home Office  United States  New Rochelle   \n",
       "9989  Tom Boeckenhauer     Consumer  United States         Miami   \n",
       "\n",
       "             State  ...  Region       Product ID         Category  \\\n",
       "5       California  ...    West  FUR-FU-10001487        Furniture   \n",
       "6       California  ...    West  OFF-AR-10002833  Office Supplies   \n",
       "7       California  ...    West  TEC-PH-10002275       Technology   \n",
       "8       California  ...    West  OFF-BI-10003910  Office Supplies   \n",
       "9       California  ...    West  OFF-AP-10002892  Office Supplies   \n",
       "...            ...  ...     ...              ...              ...   \n",
       "9946  Pennsylvania  ...    East  TEC-AC-10004353       Technology   \n",
       "9956      New York  ...    East  OFF-PA-10001776  Office Supplies   \n",
       "9957      New York  ...    East  OFF-PA-10004039  Office Supplies   \n",
       "9958      New York  ...    East  OFF-SU-10001574  Office Supplies   \n",
       "9989       Florida  ...   South  FUR-FU-10001889        Furniture   \n",
       "\n",
       "     Sub-Category                                       Product Name    Sales  \\\n",
       "5     Furnishings  Eldon Expressions Wood and Plastic Desk Access...   48.860   \n",
       "6             Art                                         Newell 322    7.280   \n",
       "7          Phones                     Mitel 5320 IP Phone VoIP phone  907.152   \n",
       "8         Binders  DXL Angle-View Binders with Locking Rings by S...   18.504   \n",
       "9      Appliances                   Belkin F5C206VTEL 6 Outlet Surge  114.900   \n",
       "...           ...                                                ...      ...   \n",
       "9946  Accessories                              Hypercom P1300 Pinpad  151.200   \n",
       "9956        Paper  Wirebound Message Books, Four 2 3/4\" x 5\" Form...   46.350   \n",
       "9957        Paper                                         Xerox 1882  223.920   \n",
       "9958     Supplies                           Acme Value Line Scissors    7.300   \n",
       "9989  Furnishings                             Ultra Door Pull Handle   25.248   \n",
       "\n",
       "      Quantity  Discount    Profit  Year  \n",
       "5            7       0.0   14.1694  2014  \n",
       "6            4       0.0    1.9656  2014  \n",
       "7            6       0.2   90.7152  2014  \n",
       "8            3       0.2    5.7825  2014  \n",
       "9            5       0.0   34.4700  2014  \n",
       "...        ...       ...       ...   ...  \n",
       "9946         3       0.2   32.1300  2014  \n",
       "9956         5       0.0   21.7845  2014  \n",
       "9957         4       0.0  109.7208  2014  \n",
       "9958         2       0.0    2.1900  2014  \n",
       "9989         3       0.2    4.1028  2014  \n",
       "\n",
       "[1993 rows x 21 columns]"
      ]
     },
     "execution_count": 67,
     "metadata": {},
     "output_type": "execute_result"
    }
   ],
   "source": [
    "df = sales2014"
   ]
  },
  {
   "cell_type": "code",
   "execution_count": 86,
   "metadata": {},
   "outputs": [
    {
     "data": {
      "text/html": [
       "<div>\n",
       "<style scoped>\n",
       "    .dataframe tbody tr th:only-of-type {\n",
       "        vertical-align: middle;\n",
       "    }\n",
       "\n",
       "    .dataframe tbody tr th {\n",
       "        vertical-align: top;\n",
       "    }\n",
       "\n",
       "    .dataframe thead th {\n",
       "        text-align: right;\n",
       "    }\n",
       "</style>\n",
       "<table border=\"1\" class=\"dataframe\">\n",
       "  <thead>\n",
       "    <tr style=\"text-align: right;\">\n",
       "      <th></th>\n",
       "      <th>Order Date</th>\n",
       "      <th>Sales</th>\n",
       "      <th>Profit</th>\n",
       "    </tr>\n",
       "  </thead>\n",
       "  <tbody>\n",
       "    <tr>\n",
       "      <th>0</th>\n",
       "      <td>2014-01-03</td>\n",
       "      <td>16.448</td>\n",
       "      <td>5.5512</td>\n",
       "    </tr>\n",
       "    <tr>\n",
       "      <th>1</th>\n",
       "      <td>2014-01-04</td>\n",
       "      <td>288.060</td>\n",
       "      <td>-65.9901</td>\n",
       "    </tr>\n",
       "    <tr>\n",
       "      <th>2</th>\n",
       "      <td>2014-01-05</td>\n",
       "      <td>19.536</td>\n",
       "      <td>4.8840</td>\n",
       "    </tr>\n",
       "    <tr>\n",
       "      <th>3</th>\n",
       "      <td>2014-01-06</td>\n",
       "      <td>4407.100</td>\n",
       "      <td>1358.0524</td>\n",
       "    </tr>\n",
       "    <tr>\n",
       "      <th>4</th>\n",
       "      <td>2014-01-07</td>\n",
       "      <td>87.158</td>\n",
       "      <td>-71.9621</td>\n",
       "    </tr>\n",
       "    <tr>\n",
       "      <th>...</th>\n",
       "      <td>...</td>\n",
       "      <td>...</td>\n",
       "      <td>...</td>\n",
       "    </tr>\n",
       "    <tr>\n",
       "      <th>300</th>\n",
       "      <td>2014-12-27</td>\n",
       "      <td>2966.388</td>\n",
       "      <td>-336.3251</td>\n",
       "    </tr>\n",
       "    <tr>\n",
       "      <th>301</th>\n",
       "      <td>2014-12-28</td>\n",
       "      <td>3732.296</td>\n",
       "      <td>706.8574</td>\n",
       "    </tr>\n",
       "    <tr>\n",
       "      <th>302</th>\n",
       "      <td>2014-12-29</td>\n",
       "      <td>2072.096</td>\n",
       "      <td>568.0095</td>\n",
       "    </tr>\n",
       "    <tr>\n",
       "      <th>303</th>\n",
       "      <td>2014-12-30</td>\n",
       "      <td>2172.651</td>\n",
       "      <td>-594.5496</td>\n",
       "    </tr>\n",
       "    <tr>\n",
       "      <th>304</th>\n",
       "      <td>2014-12-31</td>\n",
       "      <td>5253.270</td>\n",
       "      <td>1444.5131</td>\n",
       "    </tr>\n",
       "  </tbody>\n",
       "</table>\n",
       "<p>305 rows × 3 columns</p>\n",
       "</div>"
      ],
      "text/plain": [
       "    Order Date     Sales     Profit\n",
       "0   2014-01-03    16.448     5.5512\n",
       "1   2014-01-04   288.060   -65.9901\n",
       "2   2014-01-05    19.536     4.8840\n",
       "3   2014-01-06  4407.100  1358.0524\n",
       "4   2014-01-07    87.158   -71.9621\n",
       "..         ...       ...        ...\n",
       "300 2014-12-27  2966.388  -336.3251\n",
       "301 2014-12-28  3732.296   706.8574\n",
       "302 2014-12-29  2072.096   568.0095\n",
       "303 2014-12-30  2172.651  -594.5496\n",
       "304 2014-12-31  5253.270  1444.5131\n",
       "\n",
       "[305 rows x 3 columns]"
      ]
     },
     "execution_count": 86,
     "metadata": {},
     "output_type": "execute_result"
    }
   ],
   "source": [
    "\n",
    "df_date = df.groupby('Order Date').agg({'Sales':'sum', 'Profit':'sum'}).reset_index()\n",
    "df_date"
   ]
  },
  {
   "cell_type": "code",
   "execution_count": 84,
   "metadata": {},
   "outputs": [
    {
     "data": {
      "application/vnd.plotly.v1+json": {
       "config": {
        "plotlyServerURL": "https://plot.ly"
       },
       "data": [
        {
         "mode": "lines",
         "name": "Ventas",
         "type": "scatter",
         "x": [
          "2014-01-03T00:00:00",
          "2014-01-04T00:00:00",
          "2014-01-05T00:00:00",
          "2014-01-06T00:00:00",
          "2014-01-07T00:00:00",
          "2014-01-09T00:00:00",
          "2014-01-10T00:00:00",
          "2014-01-11T00:00:00",
          "2014-01-13T00:00:00",
          "2014-01-14T00:00:00",
          "2014-01-15T00:00:00",
          "2014-01-16T00:00:00",
          "2014-01-18T00:00:00",
          "2014-01-19T00:00:00",
          "2014-01-20T00:00:00",
          "2014-01-21T00:00:00",
          "2014-01-23T00:00:00",
          "2014-01-26T00:00:00",
          "2014-01-27T00:00:00",
          "2014-01-28T00:00:00",
          "2014-01-30T00:00:00",
          "2014-01-31T00:00:00",
          "2014-02-01T00:00:00",
          "2014-02-02T00:00:00",
          "2014-02-03T00:00:00",
          "2014-02-04T00:00:00",
          "2014-02-06T00:00:00",
          "2014-02-07T00:00:00",
          "2014-02-08T00:00:00",
          "2014-02-11T00:00:00",
          "2014-02-12T00:00:00",
          "2014-02-14T00:00:00",
          "2014-02-15T00:00:00",
          "2014-02-16T00:00:00",
          "2014-02-17T00:00:00",
          "2014-02-18T00:00:00",
          "2014-02-20T00:00:00",
          "2014-02-21T00:00:00",
          "2014-02-22T00:00:00",
          "2014-02-23T00:00:00",
          "2014-02-24T00:00:00",
          "2014-02-27T00:00:00",
          "2014-03-01T00:00:00",
          "2014-03-02T00:00:00",
          "2014-03-03T00:00:00",
          "2014-03-04T00:00:00",
          "2014-03-05T00:00:00",
          "2014-03-07T00:00:00",
          "2014-03-10T00:00:00",
          "2014-03-11T00:00:00",
          "2014-03-14T00:00:00",
          "2014-03-15T00:00:00",
          "2014-03-16T00:00:00",
          "2014-03-17T00:00:00",
          "2014-03-18T00:00:00",
          "2014-03-19T00:00:00",
          "2014-03-21T00:00:00",
          "2014-03-22T00:00:00",
          "2014-03-23T00:00:00",
          "2014-03-24T00:00:00",
          "2014-03-25T00:00:00",
          "2014-03-26T00:00:00",
          "2014-03-28T00:00:00",
          "2014-03-29T00:00:00",
          "2014-03-30T00:00:00",
          "2014-03-31T00:00:00",
          "2014-04-01T00:00:00",
          "2014-04-02T00:00:00",
          "2014-04-03T00:00:00",
          "2014-04-04T00:00:00",
          "2014-04-05T00:00:00",
          "2014-04-06T00:00:00",
          "2014-04-07T00:00:00",
          "2014-04-08T00:00:00",
          "2014-04-11T00:00:00",
          "2014-04-12T00:00:00",
          "2014-04-13T00:00:00",
          "2014-04-15T00:00:00",
          "2014-04-16T00:00:00",
          "2014-04-18T00:00:00",
          "2014-04-19T00:00:00",
          "2014-04-20T00:00:00",
          "2014-04-21T00:00:00",
          "2014-04-22T00:00:00",
          "2014-04-23T00:00:00",
          "2014-04-25T00:00:00",
          "2014-04-26T00:00:00",
          "2014-04-28T00:00:00",
          "2014-04-29T00:00:00",
          "2014-04-30T00:00:00",
          "2014-05-02T00:00:00",
          "2014-05-03T00:00:00",
          "2014-05-04T00:00:00",
          "2014-05-05T00:00:00",
          "2014-05-06T00:00:00",
          "2014-05-07T00:00:00",
          "2014-05-08T00:00:00",
          "2014-05-09T00:00:00",
          "2014-05-10T00:00:00",
          "2014-05-11T00:00:00",
          "2014-05-12T00:00:00",
          "2014-05-13T00:00:00",
          "2014-05-14T00:00:00",
          "2014-05-16T00:00:00",
          "2014-05-17T00:00:00",
          "2014-05-18T00:00:00",
          "2014-05-19T00:00:00",
          "2014-05-20T00:00:00",
          "2014-05-21T00:00:00",
          "2014-05-22T00:00:00",
          "2014-05-23T00:00:00",
          "2014-05-24T00:00:00",
          "2014-05-25T00:00:00",
          "2014-05-26T00:00:00",
          "2014-05-27T00:00:00",
          "2014-05-28T00:00:00",
          "2014-05-30T00:00:00",
          "2014-05-31T00:00:00",
          "2014-06-01T00:00:00",
          "2014-06-02T00:00:00",
          "2014-06-03T00:00:00",
          "2014-06-04T00:00:00",
          "2014-06-06T00:00:00",
          "2014-06-07T00:00:00",
          "2014-06-08T00:00:00",
          "2014-06-09T00:00:00",
          "2014-06-10T00:00:00",
          "2014-06-13T00:00:00",
          "2014-06-14T00:00:00",
          "2014-06-15T00:00:00",
          "2014-06-16T00:00:00",
          "2014-06-17T00:00:00",
          "2014-06-18T00:00:00",
          "2014-06-20T00:00:00",
          "2014-06-21T00:00:00",
          "2014-06-22T00:00:00",
          "2014-06-23T00:00:00",
          "2014-06-24T00:00:00",
          "2014-06-25T00:00:00",
          "2014-06-27T00:00:00",
          "2014-06-28T00:00:00",
          "2014-06-29T00:00:00",
          "2014-06-30T00:00:00",
          "2014-07-01T00:00:00",
          "2014-07-02T00:00:00",
          "2014-07-04T00:00:00",
          "2014-07-05T00:00:00",
          "2014-07-06T00:00:00",
          "2014-07-07T00:00:00",
          "2014-07-08T00:00:00",
          "2014-07-09T00:00:00",
          "2014-07-11T00:00:00",
          "2014-07-12T00:00:00",
          "2014-07-13T00:00:00",
          "2014-07-14T00:00:00",
          "2014-07-15T00:00:00",
          "2014-07-18T00:00:00",
          "2014-07-19T00:00:00",
          "2014-07-20T00:00:00",
          "2014-07-21T00:00:00",
          "2014-07-22T00:00:00",
          "2014-07-23T00:00:00",
          "2014-07-25T00:00:00",
          "2014-07-26T00:00:00",
          "2014-07-27T00:00:00",
          "2014-07-28T00:00:00",
          "2014-07-30T00:00:00",
          "2014-08-01T00:00:00",
          "2014-08-02T00:00:00",
          "2014-08-03T00:00:00",
          "2014-08-04T00:00:00",
          "2014-08-05T00:00:00",
          "2014-08-06T00:00:00",
          "2014-08-08T00:00:00",
          "2014-08-09T00:00:00",
          "2014-08-11T00:00:00",
          "2014-08-12T00:00:00",
          "2014-08-15T00:00:00",
          "2014-08-16T00:00:00",
          "2014-08-17T00:00:00",
          "2014-08-19T00:00:00",
          "2014-08-20T00:00:00",
          "2014-08-22T00:00:00",
          "2014-08-23T00:00:00",
          "2014-08-24T00:00:00",
          "2014-08-25T00:00:00",
          "2014-08-26T00:00:00",
          "2014-08-27T00:00:00",
          "2014-08-29T00:00:00",
          "2014-08-30T00:00:00",
          "2014-08-31T00:00:00",
          "2014-09-01T00:00:00",
          "2014-09-02T00:00:00",
          "2014-09-03T00:00:00",
          "2014-09-05T00:00:00",
          "2014-09-06T00:00:00",
          "2014-09-07T00:00:00",
          "2014-09-08T00:00:00",
          "2014-09-09T00:00:00",
          "2014-09-10T00:00:00",
          "2014-09-11T00:00:00",
          "2014-09-12T00:00:00",
          "2014-09-13T00:00:00",
          "2014-09-14T00:00:00",
          "2014-09-15T00:00:00",
          "2014-09-16T00:00:00",
          "2014-09-17T00:00:00",
          "2014-09-19T00:00:00",
          "2014-09-20T00:00:00",
          "2014-09-21T00:00:00",
          "2014-09-22T00:00:00",
          "2014-09-23T00:00:00",
          "2014-09-24T00:00:00",
          "2014-09-25T00:00:00",
          "2014-09-26T00:00:00",
          "2014-09-27T00:00:00",
          "2014-09-28T00:00:00",
          "2014-09-29T00:00:00",
          "2014-09-30T00:00:00",
          "2014-10-01T00:00:00",
          "2014-10-02T00:00:00",
          "2014-10-03T00:00:00",
          "2014-10-04T00:00:00",
          "2014-10-05T00:00:00",
          "2014-10-06T00:00:00",
          "2014-10-07T00:00:00",
          "2014-10-08T00:00:00",
          "2014-10-09T00:00:00",
          "2014-10-10T00:00:00",
          "2014-10-11T00:00:00",
          "2014-10-12T00:00:00",
          "2014-10-13T00:00:00",
          "2014-10-14T00:00:00",
          "2014-10-15T00:00:00",
          "2014-10-16T00:00:00",
          "2014-10-17T00:00:00",
          "2014-10-18T00:00:00",
          "2014-10-19T00:00:00",
          "2014-10-20T00:00:00",
          "2014-10-21T00:00:00",
          "2014-10-22T00:00:00",
          "2014-10-24T00:00:00",
          "2014-10-25T00:00:00",
          "2014-10-26T00:00:00",
          "2014-10-27T00:00:00",
          "2014-10-28T00:00:00",
          "2014-10-29T00:00:00",
          "2014-10-31T00:00:00",
          "2014-11-01T00:00:00",
          "2014-11-02T00:00:00",
          "2014-11-03T00:00:00",
          "2014-11-04T00:00:00",
          "2014-11-05T00:00:00",
          "2014-11-06T00:00:00",
          "2014-11-07T00:00:00",
          "2014-11-08T00:00:00",
          "2014-11-09T00:00:00",
          "2014-11-10T00:00:00",
          "2014-11-11T00:00:00",
          "2014-11-12T00:00:00",
          "2014-11-14T00:00:00",
          "2014-11-15T00:00:00",
          "2014-11-16T00:00:00",
          "2014-11-17T00:00:00",
          "2014-11-18T00:00:00",
          "2014-11-19T00:00:00",
          "2014-11-20T00:00:00",
          "2014-11-21T00:00:00",
          "2014-11-22T00:00:00",
          "2014-11-23T00:00:00",
          "2014-11-24T00:00:00",
          "2014-11-25T00:00:00",
          "2014-11-26T00:00:00",
          "2014-11-27T00:00:00",
          "2014-11-28T00:00:00",
          "2014-11-29T00:00:00",
          "2014-11-30T00:00:00",
          "2014-12-01T00:00:00",
          "2014-12-02T00:00:00",
          "2014-12-03T00:00:00",
          "2014-12-04T00:00:00",
          "2014-12-05T00:00:00",
          "2014-12-06T00:00:00",
          "2014-12-07T00:00:00",
          "2014-12-08T00:00:00",
          "2014-12-09T00:00:00",
          "2014-12-10T00:00:00",
          "2014-12-12T00:00:00",
          "2014-12-13T00:00:00",
          "2014-12-14T00:00:00",
          "2014-12-15T00:00:00",
          "2014-12-16T00:00:00",
          "2014-12-17T00:00:00",
          "2014-12-19T00:00:00",
          "2014-12-20T00:00:00",
          "2014-12-21T00:00:00",
          "2014-12-22T00:00:00",
          "2014-12-23T00:00:00",
          "2014-12-24T00:00:00",
          "2014-12-26T00:00:00",
          "2014-12-27T00:00:00",
          "2014-12-28T00:00:00",
          "2014-12-29T00:00:00",
          "2014-12-30T00:00:00",
          "2014-12-31T00:00:00"
         ],
         "y": [
          16.448,
          288.06,
          19.536,
          4407.1,
          87.158,
          40.544000000000004,
          54.83,
          9.94,
          3553.795,
          61.96,
          149.95,
          299.964,
          64.864,
          378.59400000000005,
          2673.87,
          25.248,
          46.019999999999996,
          1097.25,
          426.67,
          3.9280000000000004,
          240.5,
          290.666,
          468.90000000000003,
          211.64600000000002,
          97.11200000000001,
          134.38400000000001,
          330.512,
          180.32,
          14.56,
          2043.4,
          129.568,
          576.726,
          21.36,
          9.039999999999997,
          54.208,
          37.784,
          95.59,
          8.849999999999998,
          19.44,
          11.364,
          55.672000000000004,
          19.456000000000003,
          2203.151,
          202.38400000000001,
          1345.892,
          370.45200000000006,
          705.562,
          1561.0620000000001,
          741.9560000000001,
          918.3140000000001,
          2108.55,
          370.78200000000004,
          471.92,
          3960.358,
          28106.716,
          590.7620000000001,
          4109.816,
          464.093,
          945.0639999999999,
          65.38,
          459.146,
          145.13000000000002,
          1823.8039999999999,
          890.8409999999999,
          1170.3220000000001,
          1959.552,
          119.888,
          1458.558,
          233.45,
          475.844,
          5295.097999999999,
          1650.69,
          1021.1699999999998,
          1958.75,
          1915.2400000000002,
          1912.123,
          638.576,
          294.71999999999997,
          39.072,
          1020.5319999999999,
          205.47000000000003,
          1250.4499999999998,
          845.3599999999999,
          257.752,
          643.9799999999999,
          2379.9939999999997,
          282.56800000000004,
          2578.4759999999997,
          768.844,
          1048.74,
          506.12000000000006,
          72.632,
          187.432,
          260.977,
          254.456,
          1091.3500000000001,
          1799.9699999999998,
          394.48,
          2343.799,
          1642.8019999999997,
          734.846,
          898.3820000000001,
          310.88000000000005,
          289.28,
          91.67999999999999,
          948.9480000000001,
          91.62,
          320.10400000000004,
          4264.328,
          180.93,
          323.758,
          116.28,
          119.53999999999998,
          1325.718,
          2157.394,
          221.96800000000002,
          1924.913,
          773.7,
          5188.5199999999995,
          738.598,
          741.336,
          456.272,
          1374.001,
          281.397,
          2501.264,
          5463.008,
          491.55,
          14.52,
          212.94,
          942.9739999999999,
          763.792,
          3418.5020000000004,
          139.8,
          1828.9496000000001,
          4107.443,
          1975.498,
          109.49600000000001,
          4.272,
          792.76,
          616.1400000000001,
          1645.791,
          46.67999999999999,
          739.624,
          601.024,
          79.56,
          247.40800000000002,
          1444.104,
          1038.4720000000002,
          241.194,
          763.0740000000001,
          265.521,
          2187.206,
          1960.0120000000002,
          351.216,
          292.594,
          9.510000000000002,
          273.04,
          461.326,
          2285.786,
          1961.4820000000002,
          1348.344,
          2613.184,
          8341.289999999999,
          5039.994,
          580.06,
          193.15200000000002,
          1367.84,
          228.32800000000003,
          886.28,
          477.994,
          2743.154,
          2408.7239999999997,
          262.89,
          3955.6290000000004,
          3605.6850000000004,
          451.62,
          1832.38,
          842.782,
          853.0919999999999,
          500.342,
          1439.106,
          1838.722,
          23.104000000000003,
          565.224,
          59.74,
          1451.65,
          366.81000000000006,
          2070.13,
          832.3225000000001,
          121.24,
          92.52,
          469.43600000000004,
          3254.15,
          22.08,
          296.304,
          100.36,
          3523.875,
          14228.427999999998,
          4043.588,
          1855.228,
          127.94999999999999,
          4904.660000000001,
          1275.408,
          5023.716,
          133.43599999999998,
          33.552,
          820.523,
          9338.636999999999,
          5335.968,
          2679.652,
          1240.266,
          10662.337,
          211.96,
          354.88879999999995,
          1480.614,
          773.4399999999999,
          490.29200000000003,
          8109.07,
          987.5320000000002,
          4.71,
          598.144,
          862.683,
          728.748,
          191.9,
          494.71,
          237.35999999999999,
          147.392,
          249.36,
          2049.3860000000004,
          1381.164,
          58.53,
          2212.182,
          4525.4839999999995,
          206.724,
          194.322,
          136.068,
          3134.916,
          641.104,
          1501.104,
          1356.602,
          223.808,
          56.49,
          103.882,
          447.88000000000005,
          22.320000000000004,
          1510.582,
          2813.8120000000004,
          5362.026,
          4732.08,
          2126.37,
          2784.163,
          6693.7480000000005,
          1694.564,
          43.68,
          1449.1419999999998,
          333.576,
          1574.094,
          2002.556,
          8114.548,
          1054.7612000000001,
          1034.73,
          1780.8220000000001,
          1355.9285,
          11544.274000000001,
          3406.855,
          7226.085999999999,
          907.5600000000001,
          1249.6219999999998,
          1103.298,
          1363.28,
          5578.606,
          4415.695,
          1705.99,
          203.65999999999997,
          2280.83,
          649.0439999999999,
          219.154,
          5624.39,
          1771.808,
          505.88,
          129.98,
          2963.642,
          1970.9779999999998,
          548.4,
          1095.1200000000001,
          1522.652,
          573.336,
          4938.4045,
          293.152,
          7641.657999999999,
          1264.466,
          4394.187000000001,
          45.534,
          3436.76,
          6962.4400000000005,
          1933.44,
          798.9680000000001,
          942.1080000000001,
          1950.202,
          2041.414,
          2966.3880000000004,
          3732.296,
          2072.096,
          2172.6510000000003,
          5253.2699999999995
         ]
        },
        {
         "mode": "lines",
         "name": "Beneficio",
         "type": "scatter",
         "x": [
          "2014-01-03T00:00:00",
          "2014-01-04T00:00:00",
          "2014-01-05T00:00:00",
          "2014-01-06T00:00:00",
          "2014-01-07T00:00:00",
          "2014-01-09T00:00:00",
          "2014-01-10T00:00:00",
          "2014-01-11T00:00:00",
          "2014-01-13T00:00:00",
          "2014-01-14T00:00:00",
          "2014-01-15T00:00:00",
          "2014-01-16T00:00:00",
          "2014-01-18T00:00:00",
          "2014-01-19T00:00:00",
          "2014-01-20T00:00:00",
          "2014-01-21T00:00:00",
          "2014-01-23T00:00:00",
          "2014-01-26T00:00:00",
          "2014-01-27T00:00:00",
          "2014-01-28T00:00:00",
          "2014-01-30T00:00:00",
          "2014-01-31T00:00:00",
          "2014-02-01T00:00:00",
          "2014-02-02T00:00:00",
          "2014-02-03T00:00:00",
          "2014-02-04T00:00:00",
          "2014-02-06T00:00:00",
          "2014-02-07T00:00:00",
          "2014-02-08T00:00:00",
          "2014-02-11T00:00:00",
          "2014-02-12T00:00:00",
          "2014-02-14T00:00:00",
          "2014-02-15T00:00:00",
          "2014-02-16T00:00:00",
          "2014-02-17T00:00:00",
          "2014-02-18T00:00:00",
          "2014-02-20T00:00:00",
          "2014-02-21T00:00:00",
          "2014-02-22T00:00:00",
          "2014-02-23T00:00:00",
          "2014-02-24T00:00:00",
          "2014-02-27T00:00:00",
          "2014-03-01T00:00:00",
          "2014-03-02T00:00:00",
          "2014-03-03T00:00:00",
          "2014-03-04T00:00:00",
          "2014-03-05T00:00:00",
          "2014-03-07T00:00:00",
          "2014-03-10T00:00:00",
          "2014-03-11T00:00:00",
          "2014-03-14T00:00:00",
          "2014-03-15T00:00:00",
          "2014-03-16T00:00:00",
          "2014-03-17T00:00:00",
          "2014-03-18T00:00:00",
          "2014-03-19T00:00:00",
          "2014-03-21T00:00:00",
          "2014-03-22T00:00:00",
          "2014-03-23T00:00:00",
          "2014-03-24T00:00:00",
          "2014-03-25T00:00:00",
          "2014-03-26T00:00:00",
          "2014-03-28T00:00:00",
          "2014-03-29T00:00:00",
          "2014-03-30T00:00:00",
          "2014-03-31T00:00:00",
          "2014-04-01T00:00:00",
          "2014-04-02T00:00:00",
          "2014-04-03T00:00:00",
          "2014-04-04T00:00:00",
          "2014-04-05T00:00:00",
          "2014-04-06T00:00:00",
          "2014-04-07T00:00:00",
          "2014-04-08T00:00:00",
          "2014-04-11T00:00:00",
          "2014-04-12T00:00:00",
          "2014-04-13T00:00:00",
          "2014-04-15T00:00:00",
          "2014-04-16T00:00:00",
          "2014-04-18T00:00:00",
          "2014-04-19T00:00:00",
          "2014-04-20T00:00:00",
          "2014-04-21T00:00:00",
          "2014-04-22T00:00:00",
          "2014-04-23T00:00:00",
          "2014-04-25T00:00:00",
          "2014-04-26T00:00:00",
          "2014-04-28T00:00:00",
          "2014-04-29T00:00:00",
          "2014-04-30T00:00:00",
          "2014-05-02T00:00:00",
          "2014-05-03T00:00:00",
          "2014-05-04T00:00:00",
          "2014-05-05T00:00:00",
          "2014-05-06T00:00:00",
          "2014-05-07T00:00:00",
          "2014-05-08T00:00:00",
          "2014-05-09T00:00:00",
          "2014-05-10T00:00:00",
          "2014-05-11T00:00:00",
          "2014-05-12T00:00:00",
          "2014-05-13T00:00:00",
          "2014-05-14T00:00:00",
          "2014-05-16T00:00:00",
          "2014-05-17T00:00:00",
          "2014-05-18T00:00:00",
          "2014-05-19T00:00:00",
          "2014-05-20T00:00:00",
          "2014-05-21T00:00:00",
          "2014-05-22T00:00:00",
          "2014-05-23T00:00:00",
          "2014-05-24T00:00:00",
          "2014-05-25T00:00:00",
          "2014-05-26T00:00:00",
          "2014-05-27T00:00:00",
          "2014-05-28T00:00:00",
          "2014-05-30T00:00:00",
          "2014-05-31T00:00:00",
          "2014-06-01T00:00:00",
          "2014-06-02T00:00:00",
          "2014-06-03T00:00:00",
          "2014-06-04T00:00:00",
          "2014-06-06T00:00:00",
          "2014-06-07T00:00:00",
          "2014-06-08T00:00:00",
          "2014-06-09T00:00:00",
          "2014-06-10T00:00:00",
          "2014-06-13T00:00:00",
          "2014-06-14T00:00:00",
          "2014-06-15T00:00:00",
          "2014-06-16T00:00:00",
          "2014-06-17T00:00:00",
          "2014-06-18T00:00:00",
          "2014-06-20T00:00:00",
          "2014-06-21T00:00:00",
          "2014-06-22T00:00:00",
          "2014-06-23T00:00:00",
          "2014-06-24T00:00:00",
          "2014-06-25T00:00:00",
          "2014-06-27T00:00:00",
          "2014-06-28T00:00:00",
          "2014-06-29T00:00:00",
          "2014-06-30T00:00:00",
          "2014-07-01T00:00:00",
          "2014-07-02T00:00:00",
          "2014-07-04T00:00:00",
          "2014-07-05T00:00:00",
          "2014-07-06T00:00:00",
          "2014-07-07T00:00:00",
          "2014-07-08T00:00:00",
          "2014-07-09T00:00:00",
          "2014-07-11T00:00:00",
          "2014-07-12T00:00:00",
          "2014-07-13T00:00:00",
          "2014-07-14T00:00:00",
          "2014-07-15T00:00:00",
          "2014-07-18T00:00:00",
          "2014-07-19T00:00:00",
          "2014-07-20T00:00:00",
          "2014-07-21T00:00:00",
          "2014-07-22T00:00:00",
          "2014-07-23T00:00:00",
          "2014-07-25T00:00:00",
          "2014-07-26T00:00:00",
          "2014-07-27T00:00:00",
          "2014-07-28T00:00:00",
          "2014-07-30T00:00:00",
          "2014-08-01T00:00:00",
          "2014-08-02T00:00:00",
          "2014-08-03T00:00:00",
          "2014-08-04T00:00:00",
          "2014-08-05T00:00:00",
          "2014-08-06T00:00:00",
          "2014-08-08T00:00:00",
          "2014-08-09T00:00:00",
          "2014-08-11T00:00:00",
          "2014-08-12T00:00:00",
          "2014-08-15T00:00:00",
          "2014-08-16T00:00:00",
          "2014-08-17T00:00:00",
          "2014-08-19T00:00:00",
          "2014-08-20T00:00:00",
          "2014-08-22T00:00:00",
          "2014-08-23T00:00:00",
          "2014-08-24T00:00:00",
          "2014-08-25T00:00:00",
          "2014-08-26T00:00:00",
          "2014-08-27T00:00:00",
          "2014-08-29T00:00:00",
          "2014-08-30T00:00:00",
          "2014-08-31T00:00:00",
          "2014-09-01T00:00:00",
          "2014-09-02T00:00:00",
          "2014-09-03T00:00:00",
          "2014-09-05T00:00:00",
          "2014-09-06T00:00:00",
          "2014-09-07T00:00:00",
          "2014-09-08T00:00:00",
          "2014-09-09T00:00:00",
          "2014-09-10T00:00:00",
          "2014-09-11T00:00:00",
          "2014-09-12T00:00:00",
          "2014-09-13T00:00:00",
          "2014-09-14T00:00:00",
          "2014-09-15T00:00:00",
          "2014-09-16T00:00:00",
          "2014-09-17T00:00:00",
          "2014-09-19T00:00:00",
          "2014-09-20T00:00:00",
          "2014-09-21T00:00:00",
          "2014-09-22T00:00:00",
          "2014-09-23T00:00:00",
          "2014-09-24T00:00:00",
          "2014-09-25T00:00:00",
          "2014-09-26T00:00:00",
          "2014-09-27T00:00:00",
          "2014-09-28T00:00:00",
          "2014-09-29T00:00:00",
          "2014-09-30T00:00:00",
          "2014-10-01T00:00:00",
          "2014-10-02T00:00:00",
          "2014-10-03T00:00:00",
          "2014-10-04T00:00:00",
          "2014-10-05T00:00:00",
          "2014-10-06T00:00:00",
          "2014-10-07T00:00:00",
          "2014-10-08T00:00:00",
          "2014-10-09T00:00:00",
          "2014-10-10T00:00:00",
          "2014-10-11T00:00:00",
          "2014-10-12T00:00:00",
          "2014-10-13T00:00:00",
          "2014-10-14T00:00:00",
          "2014-10-15T00:00:00",
          "2014-10-16T00:00:00",
          "2014-10-17T00:00:00",
          "2014-10-18T00:00:00",
          "2014-10-19T00:00:00",
          "2014-10-20T00:00:00",
          "2014-10-21T00:00:00",
          "2014-10-22T00:00:00",
          "2014-10-24T00:00:00",
          "2014-10-25T00:00:00",
          "2014-10-26T00:00:00",
          "2014-10-27T00:00:00",
          "2014-10-28T00:00:00",
          "2014-10-29T00:00:00",
          "2014-10-31T00:00:00",
          "2014-11-01T00:00:00",
          "2014-11-02T00:00:00",
          "2014-11-03T00:00:00",
          "2014-11-04T00:00:00",
          "2014-11-05T00:00:00",
          "2014-11-06T00:00:00",
          "2014-11-07T00:00:00",
          "2014-11-08T00:00:00",
          "2014-11-09T00:00:00",
          "2014-11-10T00:00:00",
          "2014-11-11T00:00:00",
          "2014-11-12T00:00:00",
          "2014-11-14T00:00:00",
          "2014-11-15T00:00:00",
          "2014-11-16T00:00:00",
          "2014-11-17T00:00:00",
          "2014-11-18T00:00:00",
          "2014-11-19T00:00:00",
          "2014-11-20T00:00:00",
          "2014-11-21T00:00:00",
          "2014-11-22T00:00:00",
          "2014-11-23T00:00:00",
          "2014-11-24T00:00:00",
          "2014-11-25T00:00:00",
          "2014-11-26T00:00:00",
          "2014-11-27T00:00:00",
          "2014-11-28T00:00:00",
          "2014-11-29T00:00:00",
          "2014-11-30T00:00:00",
          "2014-12-01T00:00:00",
          "2014-12-02T00:00:00",
          "2014-12-03T00:00:00",
          "2014-12-04T00:00:00",
          "2014-12-05T00:00:00",
          "2014-12-06T00:00:00",
          "2014-12-07T00:00:00",
          "2014-12-08T00:00:00",
          "2014-12-09T00:00:00",
          "2014-12-10T00:00:00",
          "2014-12-12T00:00:00",
          "2014-12-13T00:00:00",
          "2014-12-14T00:00:00",
          "2014-12-15T00:00:00",
          "2014-12-16T00:00:00",
          "2014-12-17T00:00:00",
          "2014-12-19T00:00:00",
          "2014-12-20T00:00:00",
          "2014-12-21T00:00:00",
          "2014-12-22T00:00:00",
          "2014-12-23T00:00:00",
          "2014-12-24T00:00:00",
          "2014-12-26T00:00:00",
          "2014-12-27T00:00:00",
          "2014-12-28T00:00:00",
          "2014-12-29T00:00:00",
          "2014-12-30T00:00:00",
          "2014-12-31T00:00:00"
         ],
         "y": [
          5.551199999999998,
          -65.99010000000001,
          4.884,
          1358.0523999999996,
          -71.96209999999999,
          10.917999999999996,
          22.6537,
          3.0813999999999995,
          673.6385999999999,
          -53.28560000000001,
          65.97800000000001,
          -5.933500000000016,
          6.486400000000003,
          -287.9976,
          584.3694999999999,
          4.102799999999999,
          19.2384,
          150.327,
          9.682700000000004,
          1.3256999999999999,
          11.650200000000002,
          3.4195999999999884,
          206.31600000000006,
          7.152499999999995,
          31.5614,
          51.1432,
          76.48329999999999,
          59.34880000000001,
          5.5328,
          293.52849999999995,
          -24.29400000000002,
          120.17639999999999,
          7.209,
          -15.658000000000003,
          8.808799999999998,
          -13.846800000000002,
          35.5612,
          -13.717499999999998,
          9.3312,
          -4.522499999999998,
          18.789299999999997,
          3.404799999999998,
          -208.96140000000014,
          56.0112,
          -629.7989000000001,
          20.07779999999996,
          261.19010000000003,
          134.1538999999999,
          4.188599999999905,
          279.06100000000004,
          528.5024,
          33.59799999999998,
          29.49500000000002,
          -831.8571999999999,
          -954.7089000000024,
          68.63529999999997,
          1055.3735000000004,
          -50.93450000000001,
          126.92240000000002,
          26.275799999999997,
          96.6684,
          30.7658,
          -11.075399999999945,
          -152.7156,
          232.75289999999998,
          355.1097000000001,
          26.089599999999997,
          407.3962,
          85.6044,
          105.45209999999999,
          253.90440000000007,
          299.51519999999994,
          305.05600000000004,
          359.84810000000004,
          523.2729,
          152.65809999999996,
          -384.7941999999999,
          107.99999999999999,
          9.768,
          169.9373999999999,
          87.5664,
          -194.45280000000008,
          5.5755,
          124.78689999999999,
          -0.30529999999998303,
          332.86710000000005,
          40.74499999999999,
          292.1672000000001,
          101.68139999999991,
          276.49559999999997,
          91.95719999999999,
          28.862399999999994,
          58.5624,
          34.51309999999998,
          85.7158,
          215.8138,
          239.9960000000001,
          95.17360000000001,
          57.82600000000002,
          -289.6088,
          -119.22550000000001,
          -242.28369999999995,
          23.31599999999999,
          20.85000000000001,
          45.839999999999996,
          -158.00399999999996,
          35.6472,
          62.05810000000001,
          1719.5087,
          46.581,
          58.050200000000004,
          56.977199999999996,
          -183.78380000000004,
          130.50859999999994,
          111.54079999999993,
          59.30879999999999,
          222.03579999999988,
          230.97269999999995,
          1576.7508999999998,
          218.36079999999995,
          96.10859999999998,
          -6.493200000000023,
          -265.23670000000016,
          -230.33159999999998,
          193.3649999999999,
          629.0288999999998,
          240.8595,
          4.7916,
          57.4938,
          -78.241,
          76.68759999999993,
          1126.6296999999997,
          12.232500000000009,
          -62.95939999999999,
          849.4221,
          40.21470000000001,
          3.180299999999999,
          0.9611999999999998,
          49.71719999999997,
          76.10520000000002,
          109.762,
          8.557499999999997,
          249.55719999999994,
          75.33319999999998,
          22.150800000000004,
          83.94479999999999,
          182.79359999999997,
          222.8455,
          -34.65980000000001,
          -8.442000000000066,
          57.20779999999999,
          537.7298,
          88.45439999999992,
          4.390199999999979,
          -31.10140000000002,
          3.988200000000001,
          -21.39479999999999,
          103.20620000000002,
          162.1880999999999,
          34.12600000000005,
          229.83479999999997,
          267.48439999999994,
          384.50839999999965,
          -3570.9710000000014,
          70.31220000000002,
          34.69839999999999,
          259.8896,
          66.475,
          248.02760000000004,
          -76.7149,
          833.4829000000001,
          504.1059,
          106.6392,
          1129.1342,
          700.8937999999999,
          45.6444,
          357.593,
          118.18259999999995,
          -227.49120000000016,
          193.18359999999998,
          175.46190000000004,
          569.8904999999999,
          4.8787,
          160.40159999999997,
          20.1332,
          118.8423,
          92.0889,
          513.7322999999999,
          -376.4694999999999,
          21.485,
          18.50399999999999,
          85.9402,
          916.2511999999999,
          -4.4639999999999995,
          21.822999999999997,
          39.630799999999994,
          -481.24629999999996,
          -1452.6877000000025,
          16.361599999999953,
          259.62080000000003,
          21.751499999999986,
          600.8836000000001,
          243.82370000000003,
          1530.7599,
          30.1722,
          12.581999999999999,
          233.5287,
          -1539.1441000000011,
          670.1013999999998,
          877.4457,
          87.47569999999996,
          4808.597500000001,
          8.478399999999993,
          -87.55940000000002,
          230.72659999999996,
          123.10640000000001,
          64.36859999999997,
          890.2808999999997,
          119.49049999999998,
          0,
          133.76319999999998,
          -65.42790000000005,
          45.07089999999994,
          46.48299999999999,
          50.0395,
          31.85600000000001,
          60.751799999999996,
          70.00429999999997,
          169.9526,
          110.6137999999999,
          12.877099999999997,
          454.1033,
          1059.3592,
          -0.9321000000000002,
          91.40880000000001,
          -36.83800000000003,
          606.1101999999998,
          124.54770000000002,
          -65.98380000000004,
          26.062299999999915,
          23.303199999999983,
          18.559199999999997,
          9.4491,
          41.59200000000001,
          7.6626,
          93.42820000000003,
          378.5485999999997,
          -48.10750000000026,
          663.3640999999997,
          286.57539999999995,
          -108.2213000000001,
          2443.392,
          -61.611600000000024,
          20.9664,
          155.48629999999997,
          25.018199999999993,
          222.6885999999999,
          436.63309999999996,
          -449.531100000001,
          79.63399999999994,
          308.9068,
          400.0780999999999,
          137.55819999999994,
          1954.1345999999996,
          -347.52270000000004,
          1979.1982000000005,
          251.172,
          378.1699,
          461.89209999999997,
          -105.23840000000004,
          -97.35740000000013,
          148.62719999999993,
          -62.16120000000003,
          41.29599999999999,
          12.473199999999878,
          104.67719999999997,
          11.828999999999997,
          875.1448000000003,
          111.37489999999994,
          146.8304,
          62.3904,
          425.0407999999999,
          -19.019000000000027,
          201.7832,
          125.92729999999999,
          125.75129999999987,
          101.14259999999996,
          -72.10080000000005,
          8.73140000000001,
          2220.5214999999994,
          -144.732,
          415.64239999999995,
          7.192399999999999,
          356.9568999999999,
          1557.0101999999997,
          178.26479999999987,
          183.12109999999998,
          67.37939999999995,
          264.3079999999999,
          -3.597400000000123,
          -336.3251,
          706.8573999999998,
          568.0094999999999,
          -594.5496000000003,
          1444.5131
         ]
        }
       ],
       "layout": {
        "template": {
         "data": {
          "bar": [
           {
            "error_x": {
             "color": "#2a3f5f"
            },
            "error_y": {
             "color": "#2a3f5f"
            },
            "marker": {
             "line": {
              "color": "#E5ECF6",
              "width": 0.5
             },
             "pattern": {
              "fillmode": "overlay",
              "size": 10,
              "solidity": 0.2
             }
            },
            "type": "bar"
           }
          ],
          "barpolar": [
           {
            "marker": {
             "line": {
              "color": "#E5ECF6",
              "width": 0.5
             },
             "pattern": {
              "fillmode": "overlay",
              "size": 10,
              "solidity": 0.2
             }
            },
            "type": "barpolar"
           }
          ],
          "carpet": [
           {
            "aaxis": {
             "endlinecolor": "#2a3f5f",
             "gridcolor": "white",
             "linecolor": "white",
             "minorgridcolor": "white",
             "startlinecolor": "#2a3f5f"
            },
            "baxis": {
             "endlinecolor": "#2a3f5f",
             "gridcolor": "white",
             "linecolor": "white",
             "minorgridcolor": "white",
             "startlinecolor": "#2a3f5f"
            },
            "type": "carpet"
           }
          ],
          "choropleth": [
           {
            "colorbar": {
             "outlinewidth": 0,
             "ticks": ""
            },
            "type": "choropleth"
           }
          ],
          "contour": [
           {
            "colorbar": {
             "outlinewidth": 0,
             "ticks": ""
            },
            "colorscale": [
             [
              0,
              "#0d0887"
             ],
             [
              0.1111111111111111,
              "#46039f"
             ],
             [
              0.2222222222222222,
              "#7201a8"
             ],
             [
              0.3333333333333333,
              "#9c179e"
             ],
             [
              0.4444444444444444,
              "#bd3786"
             ],
             [
              0.5555555555555556,
              "#d8576b"
             ],
             [
              0.6666666666666666,
              "#ed7953"
             ],
             [
              0.7777777777777778,
              "#fb9f3a"
             ],
             [
              0.8888888888888888,
              "#fdca26"
             ],
             [
              1,
              "#f0f921"
             ]
            ],
            "type": "contour"
           }
          ],
          "contourcarpet": [
           {
            "colorbar": {
             "outlinewidth": 0,
             "ticks": ""
            },
            "type": "contourcarpet"
           }
          ],
          "heatmap": [
           {
            "colorbar": {
             "outlinewidth": 0,
             "ticks": ""
            },
            "colorscale": [
             [
              0,
              "#0d0887"
             ],
             [
              0.1111111111111111,
              "#46039f"
             ],
             [
              0.2222222222222222,
              "#7201a8"
             ],
             [
              0.3333333333333333,
              "#9c179e"
             ],
             [
              0.4444444444444444,
              "#bd3786"
             ],
             [
              0.5555555555555556,
              "#d8576b"
             ],
             [
              0.6666666666666666,
              "#ed7953"
             ],
             [
              0.7777777777777778,
              "#fb9f3a"
             ],
             [
              0.8888888888888888,
              "#fdca26"
             ],
             [
              1,
              "#f0f921"
             ]
            ],
            "type": "heatmap"
           }
          ],
          "heatmapgl": [
           {
            "colorbar": {
             "outlinewidth": 0,
             "ticks": ""
            },
            "colorscale": [
             [
              0,
              "#0d0887"
             ],
             [
              0.1111111111111111,
              "#46039f"
             ],
             [
              0.2222222222222222,
              "#7201a8"
             ],
             [
              0.3333333333333333,
              "#9c179e"
             ],
             [
              0.4444444444444444,
              "#bd3786"
             ],
             [
              0.5555555555555556,
              "#d8576b"
             ],
             [
              0.6666666666666666,
              "#ed7953"
             ],
             [
              0.7777777777777778,
              "#fb9f3a"
             ],
             [
              0.8888888888888888,
              "#fdca26"
             ],
             [
              1,
              "#f0f921"
             ]
            ],
            "type": "heatmapgl"
           }
          ],
          "histogram": [
           {
            "marker": {
             "pattern": {
              "fillmode": "overlay",
              "size": 10,
              "solidity": 0.2
             }
            },
            "type": "histogram"
           }
          ],
          "histogram2d": [
           {
            "colorbar": {
             "outlinewidth": 0,
             "ticks": ""
            },
            "colorscale": [
             [
              0,
              "#0d0887"
             ],
             [
              0.1111111111111111,
              "#46039f"
             ],
             [
              0.2222222222222222,
              "#7201a8"
             ],
             [
              0.3333333333333333,
              "#9c179e"
             ],
             [
              0.4444444444444444,
              "#bd3786"
             ],
             [
              0.5555555555555556,
              "#d8576b"
             ],
             [
              0.6666666666666666,
              "#ed7953"
             ],
             [
              0.7777777777777778,
              "#fb9f3a"
             ],
             [
              0.8888888888888888,
              "#fdca26"
             ],
             [
              1,
              "#f0f921"
             ]
            ],
            "type": "histogram2d"
           }
          ],
          "histogram2dcontour": [
           {
            "colorbar": {
             "outlinewidth": 0,
             "ticks": ""
            },
            "colorscale": [
             [
              0,
              "#0d0887"
             ],
             [
              0.1111111111111111,
              "#46039f"
             ],
             [
              0.2222222222222222,
              "#7201a8"
             ],
             [
              0.3333333333333333,
              "#9c179e"
             ],
             [
              0.4444444444444444,
              "#bd3786"
             ],
             [
              0.5555555555555556,
              "#d8576b"
             ],
             [
              0.6666666666666666,
              "#ed7953"
             ],
             [
              0.7777777777777778,
              "#fb9f3a"
             ],
             [
              0.8888888888888888,
              "#fdca26"
             ],
             [
              1,
              "#f0f921"
             ]
            ],
            "type": "histogram2dcontour"
           }
          ],
          "mesh3d": [
           {
            "colorbar": {
             "outlinewidth": 0,
             "ticks": ""
            },
            "type": "mesh3d"
           }
          ],
          "parcoords": [
           {
            "line": {
             "colorbar": {
              "outlinewidth": 0,
              "ticks": ""
             }
            },
            "type": "parcoords"
           }
          ],
          "pie": [
           {
            "automargin": true,
            "type": "pie"
           }
          ],
          "scatter": [
           {
            "fillpattern": {
             "fillmode": "overlay",
             "size": 10,
             "solidity": 0.2
            },
            "type": "scatter"
           }
          ],
          "scatter3d": [
           {
            "line": {
             "colorbar": {
              "outlinewidth": 0,
              "ticks": ""
             }
            },
            "marker": {
             "colorbar": {
              "outlinewidth": 0,
              "ticks": ""
             }
            },
            "type": "scatter3d"
           }
          ],
          "scattercarpet": [
           {
            "marker": {
             "colorbar": {
              "outlinewidth": 0,
              "ticks": ""
             }
            },
            "type": "scattercarpet"
           }
          ],
          "scattergeo": [
           {
            "marker": {
             "colorbar": {
              "outlinewidth": 0,
              "ticks": ""
             }
            },
            "type": "scattergeo"
           }
          ],
          "scattergl": [
           {
            "marker": {
             "colorbar": {
              "outlinewidth": 0,
              "ticks": ""
             }
            },
            "type": "scattergl"
           }
          ],
          "scattermapbox": [
           {
            "marker": {
             "colorbar": {
              "outlinewidth": 0,
              "ticks": ""
             }
            },
            "type": "scattermapbox"
           }
          ],
          "scatterpolar": [
           {
            "marker": {
             "colorbar": {
              "outlinewidth": 0,
              "ticks": ""
             }
            },
            "type": "scatterpolar"
           }
          ],
          "scatterpolargl": [
           {
            "marker": {
             "colorbar": {
              "outlinewidth": 0,
              "ticks": ""
             }
            },
            "type": "scatterpolargl"
           }
          ],
          "scatterternary": [
           {
            "marker": {
             "colorbar": {
              "outlinewidth": 0,
              "ticks": ""
             }
            },
            "type": "scatterternary"
           }
          ],
          "surface": [
           {
            "colorbar": {
             "outlinewidth": 0,
             "ticks": ""
            },
            "colorscale": [
             [
              0,
              "#0d0887"
             ],
             [
              0.1111111111111111,
              "#46039f"
             ],
             [
              0.2222222222222222,
              "#7201a8"
             ],
             [
              0.3333333333333333,
              "#9c179e"
             ],
             [
              0.4444444444444444,
              "#bd3786"
             ],
             [
              0.5555555555555556,
              "#d8576b"
             ],
             [
              0.6666666666666666,
              "#ed7953"
             ],
             [
              0.7777777777777778,
              "#fb9f3a"
             ],
             [
              0.8888888888888888,
              "#fdca26"
             ],
             [
              1,
              "#f0f921"
             ]
            ],
            "type": "surface"
           }
          ],
          "table": [
           {
            "cells": {
             "fill": {
              "color": "#EBF0F8"
             },
             "line": {
              "color": "white"
             }
            },
            "header": {
             "fill": {
              "color": "#C8D4E3"
             },
             "line": {
              "color": "white"
             }
            },
            "type": "table"
           }
          ]
         },
         "layout": {
          "annotationdefaults": {
           "arrowcolor": "#2a3f5f",
           "arrowhead": 0,
           "arrowwidth": 1
          },
          "autotypenumbers": "strict",
          "coloraxis": {
           "colorbar": {
            "outlinewidth": 0,
            "ticks": ""
           }
          },
          "colorscale": {
           "diverging": [
            [
             0,
             "#8e0152"
            ],
            [
             0.1,
             "#c51b7d"
            ],
            [
             0.2,
             "#de77ae"
            ],
            [
             0.3,
             "#f1b6da"
            ],
            [
             0.4,
             "#fde0ef"
            ],
            [
             0.5,
             "#f7f7f7"
            ],
            [
             0.6,
             "#e6f5d0"
            ],
            [
             0.7,
             "#b8e186"
            ],
            [
             0.8,
             "#7fbc41"
            ],
            [
             0.9,
             "#4d9221"
            ],
            [
             1,
             "#276419"
            ]
           ],
           "sequential": [
            [
             0,
             "#0d0887"
            ],
            [
             0.1111111111111111,
             "#46039f"
            ],
            [
             0.2222222222222222,
             "#7201a8"
            ],
            [
             0.3333333333333333,
             "#9c179e"
            ],
            [
             0.4444444444444444,
             "#bd3786"
            ],
            [
             0.5555555555555556,
             "#d8576b"
            ],
            [
             0.6666666666666666,
             "#ed7953"
            ],
            [
             0.7777777777777778,
             "#fb9f3a"
            ],
            [
             0.8888888888888888,
             "#fdca26"
            ],
            [
             1,
             "#f0f921"
            ]
           ],
           "sequentialminus": [
            [
             0,
             "#0d0887"
            ],
            [
             0.1111111111111111,
             "#46039f"
            ],
            [
             0.2222222222222222,
             "#7201a8"
            ],
            [
             0.3333333333333333,
             "#9c179e"
            ],
            [
             0.4444444444444444,
             "#bd3786"
            ],
            [
             0.5555555555555556,
             "#d8576b"
            ],
            [
             0.6666666666666666,
             "#ed7953"
            ],
            [
             0.7777777777777778,
             "#fb9f3a"
            ],
            [
             0.8888888888888888,
             "#fdca26"
            ],
            [
             1,
             "#f0f921"
            ]
           ]
          },
          "colorway": [
           "#636efa",
           "#EF553B",
           "#00cc96",
           "#ab63fa",
           "#FFA15A",
           "#19d3f3",
           "#FF6692",
           "#B6E880",
           "#FF97FF",
           "#FECB52"
          ],
          "font": {
           "color": "#2a3f5f"
          },
          "geo": {
           "bgcolor": "white",
           "lakecolor": "white",
           "landcolor": "#E5ECF6",
           "showlakes": true,
           "showland": true,
           "subunitcolor": "white"
          },
          "hoverlabel": {
           "align": "left"
          },
          "hovermode": "closest",
          "mapbox": {
           "style": "light"
          },
          "paper_bgcolor": "white",
          "plot_bgcolor": "#E5ECF6",
          "polar": {
           "angularaxis": {
            "gridcolor": "white",
            "linecolor": "white",
            "ticks": ""
           },
           "bgcolor": "#E5ECF6",
           "radialaxis": {
            "gridcolor": "white",
            "linecolor": "white",
            "ticks": ""
           }
          },
          "scene": {
           "xaxis": {
            "backgroundcolor": "#E5ECF6",
            "gridcolor": "white",
            "gridwidth": 2,
            "linecolor": "white",
            "showbackground": true,
            "ticks": "",
            "zerolinecolor": "white"
           },
           "yaxis": {
            "backgroundcolor": "#E5ECF6",
            "gridcolor": "white",
            "gridwidth": 2,
            "linecolor": "white",
            "showbackground": true,
            "ticks": "",
            "zerolinecolor": "white"
           },
           "zaxis": {
            "backgroundcolor": "#E5ECF6",
            "gridcolor": "white",
            "gridwidth": 2,
            "linecolor": "white",
            "showbackground": true,
            "ticks": "",
            "zerolinecolor": "white"
           }
          },
          "shapedefaults": {
           "line": {
            "color": "#2a3f5f"
           }
          },
          "ternary": {
           "aaxis": {
            "gridcolor": "white",
            "linecolor": "white",
            "ticks": ""
           },
           "baxis": {
            "gridcolor": "white",
            "linecolor": "white",
            "ticks": ""
           },
           "bgcolor": "#E5ECF6",
           "caxis": {
            "gridcolor": "white",
            "linecolor": "white",
            "ticks": ""
           }
          },
          "title": {
           "x": 0.05
          },
          "xaxis": {
           "automargin": true,
           "gridcolor": "white",
           "linecolor": "white",
           "ticks": "",
           "title": {
            "standoff": 15
           },
           "zerolinecolor": "white",
           "zerolinewidth": 2
          },
          "yaxis": {
           "automargin": true,
           "gridcolor": "white",
           "linecolor": "white",
           "ticks": "",
           "title": {
            "standoff": 15
           },
           "zerolinecolor": "white",
           "zerolinewidth": 2
          }
         }
        },
        "title": {
         "text": "Ventas y Beneficios en 2014"
        },
        "xaxis": {
         "title": {
          "text": "Fechas"
         }
        },
        "yaxis": {
         "title": {
          "text": "Total (€)"
         }
        }
       }
      }
     },
     "metadata": {},
     "output_type": "display_data"
    }
   ],
   "source": [
    "\n",
    "df_date = df.groupby('Order Date').agg({'Sales':'sum', 'Profit':'sum'}).reset_index()\n",
    "\n",
    "\n",
    "trace1 = go.Scatter(x=df_date['Order Date'],\n",
    "                     y=df_date['Sales'],\n",
    "                    mode='lines', name='Ventas')\n",
    "\n",
    "trace2 =go.Scatter(x=df_date['Order Date'],\n",
    "                    y=df_date['Profit'],\n",
    "                    mode='lines', name='Beneficio')\n",
    "\n",
    "data = [trace1, trace2]\n",
    "\n",
    "layout = go.Layout(title='Ventas y Beneficios en 2014',\n",
    "                   xaxis_title='Fechas',\n",
    "                   yaxis_title='Total (€)')\n",
    "\n",
    "fig = go.Figure(data = data, layout = layout)\n",
    "\n",
    "fig.show()\n"
   ]
  },
  {
   "attachments": {},
   "cell_type": "markdown",
   "metadata": {
    "id": "XeZgfB8Dimh3"
   },
   "source": [
    "## 3. Create a set of 3 interactive histograms showing the distributions of quantity per order for the following states: California, New York and Texas."
   ]
  },
  {
   "cell_type": "code",
   "execution_count": 89,
   "metadata": {},
   "outputs": [],
   "source": [
    "from plotly.subplots import make_subplots"
   ]
  },
  {
   "cell_type": "code",
   "execution_count": 94,
   "metadata": {},
   "outputs": [
    {
     "data": {
      "application/vnd.plotly.v1+json": {
       "config": {
        "plotlyServerURL": "https://plot.ly"
       },
       "data": [
        {
         "name": "California",
         "type": "histogram",
         "x": [
          3,
          5,
          3,
          5,
          2,
          2,
          3,
          1,
          4,
          2,
          5,
          4,
          3,
          2,
          2,
          2,
          3,
          3,
          3,
          2,
          1,
          10,
          2,
          4,
          7,
          2,
          6,
          2,
          6,
          4,
          2,
          2,
          4,
          3,
          2,
          2,
          5,
          2,
          2,
          2,
          2,
          4,
          3,
          2,
          2,
          2,
          6,
          2,
          3,
          3,
          2,
          3,
          1,
          7,
          1,
          4,
          3,
          4,
          2,
          14,
          7,
          2,
          4,
          2,
          5,
          4,
          4,
          3,
          4,
          5,
          1,
          5,
          3,
          5,
          2,
          5,
          6,
          3,
          5,
          6,
          8,
          2,
          4,
          3,
          1,
          6,
          5,
          2,
          2,
          6,
          3,
          5,
          3,
          8,
          2,
          2,
          2,
          2,
          10,
          1,
          12,
          4,
          7,
          4,
          9,
          3,
          2,
          5,
          2,
          6,
          4,
          3,
          5,
          5,
          5,
          6,
          2,
          6,
          3,
          4,
          6,
          2,
          6,
          1,
          5,
          1,
          2,
          3,
          9,
          8,
          3,
          2,
          3,
          3,
          4,
          2,
          3,
          4,
          2,
          1,
          6,
          1,
          2,
          5,
          3,
          10,
          3,
          4,
          6,
          3,
          3,
          5,
          6,
          4,
          1,
          4,
          5,
          8,
          2,
          2,
          3,
          2,
          2,
          3,
          1,
          7,
          2,
          3,
          11,
          8,
          5,
          2,
          1,
          8,
          8,
          3,
          3,
          3,
          4,
          4,
          3,
          2,
          7,
          2,
          1,
          4,
          5,
          4,
          8,
          3,
          2,
          4,
          2,
          2,
          3,
          6,
          8,
          5,
          4,
          2,
          2,
          1,
          2,
          5,
          2,
          3,
          3,
          3,
          2,
          2,
          3,
          4,
          4,
          2,
          9,
          5,
          2,
          2,
          3,
          3,
          5,
          2,
          3,
          2,
          4,
          3,
          3,
          2,
          2,
          5,
          2,
          1,
          2,
          4,
          1,
          1,
          3,
          5,
          2,
          2,
          3,
          1,
          3,
          2,
          3,
          4,
          2,
          1,
          5,
          1,
          3,
          3,
          6,
          5,
          3,
          3,
          1,
          3,
          6,
          3,
          3,
          4,
          6,
          2,
          2,
          2,
          5,
          9,
          5,
          2,
          3,
          3,
          3,
          4,
          13,
          2,
          3,
          3,
          5,
          2,
          2,
          4,
          2,
          1,
          7,
          3,
          4,
          3,
          4,
          6,
          7,
          3,
          3,
          2,
          4,
          6,
          5,
          7,
          8,
          1,
          2,
          5,
          8,
          8,
          1,
          3,
          4,
          2,
          9,
          2,
          3,
          3,
          3,
          2,
          3,
          3,
          2,
          4,
          3,
          2,
          7,
          3,
          1,
          2,
          2,
          9,
          1,
          3,
          2,
          5,
          1,
          4,
          6,
          3,
          3,
          4,
          5,
          4,
          1,
          3,
          2,
          3,
          2,
          2,
          4,
          7,
          3,
          4,
          5,
          2,
          3,
          6,
          3,
          9,
          4,
          7,
          3,
          3,
          2,
          3,
          6,
          1,
          3,
          3,
          6,
          12,
          3,
          3,
          6,
          2,
          2,
          5,
          2,
          5,
          4,
          4,
          5,
          2,
          5,
          2,
          2,
          1,
          5,
          3,
          6,
          4,
          1,
          1,
          1,
          1,
          6,
          3,
          3,
          2,
          7,
          2,
          3,
          4,
          3,
          1,
          3,
          3,
          3,
          3,
          9,
          5,
          6,
          3,
          9,
          6,
          4,
          6,
          5,
          4,
          3
         ],
         "xaxis": "x",
         "yaxis": "y"
        },
        {
         "name": "New York",
         "type": "histogram",
         "x": [
          1,
          4,
          3,
          2,
          5,
          1,
          3,
          5,
          2,
          3,
          3,
          2,
          6,
          14,
          7,
          4,
          7,
          3,
          4,
          5,
          7,
          5,
          5,
          1,
          3,
          8,
          2,
          2,
          3,
          3,
          3,
          5,
          2,
          1,
          2,
          4,
          2,
          5,
          4,
          3,
          2,
          4,
          2,
          2,
          3,
          2,
          9,
          2,
          6,
          2,
          4,
          3,
          5,
          3,
          3,
          3,
          3,
          3,
          7,
          1,
          3,
          1,
          1,
          4,
          5,
          3,
          3,
          2,
          2,
          2,
          2,
          11,
          2,
          10,
          2,
          1,
          7,
          2,
          1,
          4,
          4,
          2,
          3,
          2,
          3,
          1,
          3,
          5,
          3,
          1,
          5,
          3,
          2,
          2,
          2,
          6,
          1,
          3,
          5,
          3,
          9,
          4,
          2,
          1,
          3,
          9,
          7,
          2,
          3,
          1,
          7,
          5,
          2,
          6,
          1,
          9,
          2,
          3,
          4,
          1,
          3,
          4,
          3,
          4,
          2,
          3,
          4,
          9,
          3,
          1,
          5,
          4,
          3,
          3,
          3,
          6,
          7,
          6,
          4,
          2,
          2,
          1,
          2,
          6,
          4,
          1,
          4,
          4,
          3,
          9,
          5,
          4,
          2,
          2,
          2,
          3,
          3,
          10,
          7,
          3,
          3,
          6,
          4,
          4,
          3,
          4,
          3,
          4,
          9,
          4,
          5,
          2,
          2,
          2,
          4,
          8,
          5,
          4,
          2,
          7,
          2,
          4,
          3,
          4,
          13,
          3,
          2,
          6,
          14,
          7,
          3,
          7,
          3,
          3
         ],
         "xaxis": "x2",
         "yaxis": "y2"
        },
        {
         "name": "Texas",
         "type": "histogram",
         "x": [
          2,
          3,
          7,
          3,
          2,
          3,
          3,
          2,
          2,
          5,
          3,
          3,
          6,
          5,
          3,
          3,
          6,
          3,
          3,
          1,
          2,
          3,
          3,
          7,
          7,
          5,
          7,
          5,
          6,
          3,
          2,
          3,
          3,
          5,
          5,
          2,
          2,
          3,
          6,
          2,
          3,
          2,
          1,
          4,
          2,
          8,
          1,
          3,
          2,
          2,
          5,
          3,
          6,
          2,
          1,
          10,
          2,
          2,
          1,
          3,
          4,
          2,
          2,
          2,
          2,
          2,
          4,
          7,
          3,
          4,
          5,
          6,
          11,
          3,
          3,
          2,
          4,
          2,
          3,
          7,
          3,
          2,
          2,
          5,
          3,
          1,
          3,
          5,
          5,
          1,
          8,
          2,
          3,
          4,
          9,
          5,
          2,
          8,
          3,
          3,
          3,
          3,
          6,
          3,
          5,
          3,
          2,
          3,
          4,
          1,
          2,
          5,
          6,
          3,
          8,
          3,
          9,
          4,
          6,
          5,
          3,
          5,
          6,
          2,
          2,
          5,
          4,
          7,
          3,
          2,
          2,
          2,
          8,
          2,
          1,
          3,
          2,
          3,
          4,
          3,
          10,
          7,
          1,
          5,
          6,
          5,
          4,
          3,
          5,
          2,
          3,
          3,
          3,
          3,
          4,
          7,
          8,
          5,
          3,
          1,
          3,
          2,
          5,
          3,
          6,
          4,
          1,
          2,
          7,
          1,
          3,
          4,
          9,
          3,
          1,
          5,
          1,
          2,
          7,
          2,
          2,
          3,
          2,
          5,
          3,
          3,
          1,
          3,
          5,
          5,
          3,
          5,
          7,
          5,
          3,
          2,
          3,
          2,
          2,
          1,
          5,
          3,
          7,
          7,
          4,
          2,
          2,
          5,
          1,
          3,
          1,
          2,
          2,
          3,
          3,
          3,
          2
         ],
         "xaxis": "x3",
         "yaxis": "y3"
        }
       ],
       "layout": {
        "annotations": [
         {
          "font": {
           "size": 16
          },
          "showarrow": false,
          "text": "California",
          "x": 0.14444444444444446,
          "xanchor": "center",
          "xref": "paper",
          "y": 1,
          "yanchor": "bottom",
          "yref": "paper"
         },
         {
          "font": {
           "size": 16
          },
          "showarrow": false,
          "text": "New York",
          "x": 0.5,
          "xanchor": "center",
          "xref": "paper",
          "y": 1,
          "yanchor": "bottom",
          "yref": "paper"
         },
         {
          "font": {
           "size": 16
          },
          "showarrow": false,
          "text": "Texas",
          "x": 0.8555555555555556,
          "xanchor": "center",
          "xref": "paper",
          "y": 1,
          "yanchor": "bottom",
          "yref": "paper"
         }
        ],
        "showlegend": false,
        "template": {
         "data": {
          "bar": [
           {
            "error_x": {
             "color": "#2a3f5f"
            },
            "error_y": {
             "color": "#2a3f5f"
            },
            "marker": {
             "line": {
              "color": "#E5ECF6",
              "width": 0.5
             },
             "pattern": {
              "fillmode": "overlay",
              "size": 10,
              "solidity": 0.2
             }
            },
            "type": "bar"
           }
          ],
          "barpolar": [
           {
            "marker": {
             "line": {
              "color": "#E5ECF6",
              "width": 0.5
             },
             "pattern": {
              "fillmode": "overlay",
              "size": 10,
              "solidity": 0.2
             }
            },
            "type": "barpolar"
           }
          ],
          "carpet": [
           {
            "aaxis": {
             "endlinecolor": "#2a3f5f",
             "gridcolor": "white",
             "linecolor": "white",
             "minorgridcolor": "white",
             "startlinecolor": "#2a3f5f"
            },
            "baxis": {
             "endlinecolor": "#2a3f5f",
             "gridcolor": "white",
             "linecolor": "white",
             "minorgridcolor": "white",
             "startlinecolor": "#2a3f5f"
            },
            "type": "carpet"
           }
          ],
          "choropleth": [
           {
            "colorbar": {
             "outlinewidth": 0,
             "ticks": ""
            },
            "type": "choropleth"
           }
          ],
          "contour": [
           {
            "colorbar": {
             "outlinewidth": 0,
             "ticks": ""
            },
            "colorscale": [
             [
              0,
              "#0d0887"
             ],
             [
              0.1111111111111111,
              "#46039f"
             ],
             [
              0.2222222222222222,
              "#7201a8"
             ],
             [
              0.3333333333333333,
              "#9c179e"
             ],
             [
              0.4444444444444444,
              "#bd3786"
             ],
             [
              0.5555555555555556,
              "#d8576b"
             ],
             [
              0.6666666666666666,
              "#ed7953"
             ],
             [
              0.7777777777777778,
              "#fb9f3a"
             ],
             [
              0.8888888888888888,
              "#fdca26"
             ],
             [
              1,
              "#f0f921"
             ]
            ],
            "type": "contour"
           }
          ],
          "contourcarpet": [
           {
            "colorbar": {
             "outlinewidth": 0,
             "ticks": ""
            },
            "type": "contourcarpet"
           }
          ],
          "heatmap": [
           {
            "colorbar": {
             "outlinewidth": 0,
             "ticks": ""
            },
            "colorscale": [
             [
              0,
              "#0d0887"
             ],
             [
              0.1111111111111111,
              "#46039f"
             ],
             [
              0.2222222222222222,
              "#7201a8"
             ],
             [
              0.3333333333333333,
              "#9c179e"
             ],
             [
              0.4444444444444444,
              "#bd3786"
             ],
             [
              0.5555555555555556,
              "#d8576b"
             ],
             [
              0.6666666666666666,
              "#ed7953"
             ],
             [
              0.7777777777777778,
              "#fb9f3a"
             ],
             [
              0.8888888888888888,
              "#fdca26"
             ],
             [
              1,
              "#f0f921"
             ]
            ],
            "type": "heatmap"
           }
          ],
          "heatmapgl": [
           {
            "colorbar": {
             "outlinewidth": 0,
             "ticks": ""
            },
            "colorscale": [
             [
              0,
              "#0d0887"
             ],
             [
              0.1111111111111111,
              "#46039f"
             ],
             [
              0.2222222222222222,
              "#7201a8"
             ],
             [
              0.3333333333333333,
              "#9c179e"
             ],
             [
              0.4444444444444444,
              "#bd3786"
             ],
             [
              0.5555555555555556,
              "#d8576b"
             ],
             [
              0.6666666666666666,
              "#ed7953"
             ],
             [
              0.7777777777777778,
              "#fb9f3a"
             ],
             [
              0.8888888888888888,
              "#fdca26"
             ],
             [
              1,
              "#f0f921"
             ]
            ],
            "type": "heatmapgl"
           }
          ],
          "histogram": [
           {
            "marker": {
             "pattern": {
              "fillmode": "overlay",
              "size": 10,
              "solidity": 0.2
             }
            },
            "type": "histogram"
           }
          ],
          "histogram2d": [
           {
            "colorbar": {
             "outlinewidth": 0,
             "ticks": ""
            },
            "colorscale": [
             [
              0,
              "#0d0887"
             ],
             [
              0.1111111111111111,
              "#46039f"
             ],
             [
              0.2222222222222222,
              "#7201a8"
             ],
             [
              0.3333333333333333,
              "#9c179e"
             ],
             [
              0.4444444444444444,
              "#bd3786"
             ],
             [
              0.5555555555555556,
              "#d8576b"
             ],
             [
              0.6666666666666666,
              "#ed7953"
             ],
             [
              0.7777777777777778,
              "#fb9f3a"
             ],
             [
              0.8888888888888888,
              "#fdca26"
             ],
             [
              1,
              "#f0f921"
             ]
            ],
            "type": "histogram2d"
           }
          ],
          "histogram2dcontour": [
           {
            "colorbar": {
             "outlinewidth": 0,
             "ticks": ""
            },
            "colorscale": [
             [
              0,
              "#0d0887"
             ],
             [
              0.1111111111111111,
              "#46039f"
             ],
             [
              0.2222222222222222,
              "#7201a8"
             ],
             [
              0.3333333333333333,
              "#9c179e"
             ],
             [
              0.4444444444444444,
              "#bd3786"
             ],
             [
              0.5555555555555556,
              "#d8576b"
             ],
             [
              0.6666666666666666,
              "#ed7953"
             ],
             [
              0.7777777777777778,
              "#fb9f3a"
             ],
             [
              0.8888888888888888,
              "#fdca26"
             ],
             [
              1,
              "#f0f921"
             ]
            ],
            "type": "histogram2dcontour"
           }
          ],
          "mesh3d": [
           {
            "colorbar": {
             "outlinewidth": 0,
             "ticks": ""
            },
            "type": "mesh3d"
           }
          ],
          "parcoords": [
           {
            "line": {
             "colorbar": {
              "outlinewidth": 0,
              "ticks": ""
             }
            },
            "type": "parcoords"
           }
          ],
          "pie": [
           {
            "automargin": true,
            "type": "pie"
           }
          ],
          "scatter": [
           {
            "fillpattern": {
             "fillmode": "overlay",
             "size": 10,
             "solidity": 0.2
            },
            "type": "scatter"
           }
          ],
          "scatter3d": [
           {
            "line": {
             "colorbar": {
              "outlinewidth": 0,
              "ticks": ""
             }
            },
            "marker": {
             "colorbar": {
              "outlinewidth": 0,
              "ticks": ""
             }
            },
            "type": "scatter3d"
           }
          ],
          "scattercarpet": [
           {
            "marker": {
             "colorbar": {
              "outlinewidth": 0,
              "ticks": ""
             }
            },
            "type": "scattercarpet"
           }
          ],
          "scattergeo": [
           {
            "marker": {
             "colorbar": {
              "outlinewidth": 0,
              "ticks": ""
             }
            },
            "type": "scattergeo"
           }
          ],
          "scattergl": [
           {
            "marker": {
             "colorbar": {
              "outlinewidth": 0,
              "ticks": ""
             }
            },
            "type": "scattergl"
           }
          ],
          "scattermapbox": [
           {
            "marker": {
             "colorbar": {
              "outlinewidth": 0,
              "ticks": ""
             }
            },
            "type": "scattermapbox"
           }
          ],
          "scatterpolar": [
           {
            "marker": {
             "colorbar": {
              "outlinewidth": 0,
              "ticks": ""
             }
            },
            "type": "scatterpolar"
           }
          ],
          "scatterpolargl": [
           {
            "marker": {
             "colorbar": {
              "outlinewidth": 0,
              "ticks": ""
             }
            },
            "type": "scatterpolargl"
           }
          ],
          "scatterternary": [
           {
            "marker": {
             "colorbar": {
              "outlinewidth": 0,
              "ticks": ""
             }
            },
            "type": "scatterternary"
           }
          ],
          "surface": [
           {
            "colorbar": {
             "outlinewidth": 0,
             "ticks": ""
            },
            "colorscale": [
             [
              0,
              "#0d0887"
             ],
             [
              0.1111111111111111,
              "#46039f"
             ],
             [
              0.2222222222222222,
              "#7201a8"
             ],
             [
              0.3333333333333333,
              "#9c179e"
             ],
             [
              0.4444444444444444,
              "#bd3786"
             ],
             [
              0.5555555555555556,
              "#d8576b"
             ],
             [
              0.6666666666666666,
              "#ed7953"
             ],
             [
              0.7777777777777778,
              "#fb9f3a"
             ],
             [
              0.8888888888888888,
              "#fdca26"
             ],
             [
              1,
              "#f0f921"
             ]
            ],
            "type": "surface"
           }
          ],
          "table": [
           {
            "cells": {
             "fill": {
              "color": "#EBF0F8"
             },
             "line": {
              "color": "white"
             }
            },
            "header": {
             "fill": {
              "color": "#C8D4E3"
             },
             "line": {
              "color": "white"
             }
            },
            "type": "table"
           }
          ]
         },
         "layout": {
          "annotationdefaults": {
           "arrowcolor": "#2a3f5f",
           "arrowhead": 0,
           "arrowwidth": 1
          },
          "autotypenumbers": "strict",
          "coloraxis": {
           "colorbar": {
            "outlinewidth": 0,
            "ticks": ""
           }
          },
          "colorscale": {
           "diverging": [
            [
             0,
             "#8e0152"
            ],
            [
             0.1,
             "#c51b7d"
            ],
            [
             0.2,
             "#de77ae"
            ],
            [
             0.3,
             "#f1b6da"
            ],
            [
             0.4,
             "#fde0ef"
            ],
            [
             0.5,
             "#f7f7f7"
            ],
            [
             0.6,
             "#e6f5d0"
            ],
            [
             0.7,
             "#b8e186"
            ],
            [
             0.8,
             "#7fbc41"
            ],
            [
             0.9,
             "#4d9221"
            ],
            [
             1,
             "#276419"
            ]
           ],
           "sequential": [
            [
             0,
             "#0d0887"
            ],
            [
             0.1111111111111111,
             "#46039f"
            ],
            [
             0.2222222222222222,
             "#7201a8"
            ],
            [
             0.3333333333333333,
             "#9c179e"
            ],
            [
             0.4444444444444444,
             "#bd3786"
            ],
            [
             0.5555555555555556,
             "#d8576b"
            ],
            [
             0.6666666666666666,
             "#ed7953"
            ],
            [
             0.7777777777777778,
             "#fb9f3a"
            ],
            [
             0.8888888888888888,
             "#fdca26"
            ],
            [
             1,
             "#f0f921"
            ]
           ],
           "sequentialminus": [
            [
             0,
             "#0d0887"
            ],
            [
             0.1111111111111111,
             "#46039f"
            ],
            [
             0.2222222222222222,
             "#7201a8"
            ],
            [
             0.3333333333333333,
             "#9c179e"
            ],
            [
             0.4444444444444444,
             "#bd3786"
            ],
            [
             0.5555555555555556,
             "#d8576b"
            ],
            [
             0.6666666666666666,
             "#ed7953"
            ],
            [
             0.7777777777777778,
             "#fb9f3a"
            ],
            [
             0.8888888888888888,
             "#fdca26"
            ],
            [
             1,
             "#f0f921"
            ]
           ]
          },
          "colorway": [
           "#636efa",
           "#EF553B",
           "#00cc96",
           "#ab63fa",
           "#FFA15A",
           "#19d3f3",
           "#FF6692",
           "#B6E880",
           "#FF97FF",
           "#FECB52"
          ],
          "font": {
           "color": "#2a3f5f"
          },
          "geo": {
           "bgcolor": "white",
           "lakecolor": "white",
           "landcolor": "#E5ECF6",
           "showlakes": true,
           "showland": true,
           "subunitcolor": "white"
          },
          "hoverlabel": {
           "align": "left"
          },
          "hovermode": "closest",
          "mapbox": {
           "style": "light"
          },
          "paper_bgcolor": "white",
          "plot_bgcolor": "#E5ECF6",
          "polar": {
           "angularaxis": {
            "gridcolor": "white",
            "linecolor": "white",
            "ticks": ""
           },
           "bgcolor": "#E5ECF6",
           "radialaxis": {
            "gridcolor": "white",
            "linecolor": "white",
            "ticks": ""
           }
          },
          "scene": {
           "xaxis": {
            "backgroundcolor": "#E5ECF6",
            "gridcolor": "white",
            "gridwidth": 2,
            "linecolor": "white",
            "showbackground": true,
            "ticks": "",
            "zerolinecolor": "white"
           },
           "yaxis": {
            "backgroundcolor": "#E5ECF6",
            "gridcolor": "white",
            "gridwidth": 2,
            "linecolor": "white",
            "showbackground": true,
            "ticks": "",
            "zerolinecolor": "white"
           },
           "zaxis": {
            "backgroundcolor": "#E5ECF6",
            "gridcolor": "white",
            "gridwidth": 2,
            "linecolor": "white",
            "showbackground": true,
            "ticks": "",
            "zerolinecolor": "white"
           }
          },
          "shapedefaults": {
           "line": {
            "color": "#2a3f5f"
           }
          },
          "ternary": {
           "aaxis": {
            "gridcolor": "white",
            "linecolor": "white",
            "ticks": ""
           },
           "baxis": {
            "gridcolor": "white",
            "linecolor": "white",
            "ticks": ""
           },
           "bgcolor": "#E5ECF6",
           "caxis": {
            "gridcolor": "white",
            "linecolor": "white",
            "ticks": ""
           }
          },
          "title": {
           "x": 0.05
          },
          "xaxis": {
           "automargin": true,
           "gridcolor": "white",
           "linecolor": "white",
           "ticks": "",
           "title": {
            "standoff": 15
           },
           "zerolinecolor": "white",
           "zerolinewidth": 2
          },
          "yaxis": {
           "automargin": true,
           "gridcolor": "white",
           "linecolor": "white",
           "ticks": "",
           "title": {
            "standoff": 15
           },
           "zerolinecolor": "white",
           "zerolinewidth": 2
          }
         }
        },
        "title": {
         "text": "Cantidad por envio en 3 Estados"
        },
        "xaxis": {
         "anchor": "y",
         "domain": [
          0,
          0.2888888888888889
         ],
         "title": {
          "text": "Cantidad"
         }
        },
        "xaxis2": {
         "anchor": "y2",
         "domain": [
          0.35555555555555557,
          0.6444444444444445
         ],
         "title": {
          "text": "Cantidad"
         }
        },
        "xaxis3": {
         "anchor": "y3",
         "domain": [
          0.7111111111111111,
          1
         ],
         "title": {
          "text": "Cantidad"
         }
        },
        "yaxis": {
         "anchor": "x",
         "domain": [
          0,
          1
         ],
         "title": {
          "text": "Total"
         }
        },
        "yaxis2": {
         "anchor": "x2",
         "domain": [
          0,
          1
         ],
         "title": {
          "text": "Total"
         }
        },
        "yaxis3": {
         "anchor": "x3",
         "domain": [
          0,
          1
         ],
         "title": {
          "text": "Total"
         }
        }
       }
      }
     },
     "metadata": {},
     "output_type": "display_data"
    }
   ],
   "source": [
    "\n",
    "df_california = df[df['State'] == 'California']\n",
    "df_new_york = df[df['State'] == 'New York']\n",
    "df_texas = df[df['State'] == 'Texas']\n",
    "\n",
    "trace1 = go.Histogram(x=df_california['Quantity'], name='California')\n",
    "trace2 = go.Histogram(x=df_new_york['Quantity'], name='New York')\n",
    "trace3 = go.Histogram(x=df_texas['Quantity'], name='Texas')\n",
    "\n",
    "\n",
    "fig = make_subplots(rows=1, cols=3,subplot_titles=('California', 'New York', 'Texas'))\n",
    "\n",
    "fig.add_trace(trace1,1,1)\n",
    "fig.add_trace(trace2,1,2)\n",
    "fig.add_trace(trace3,1,3)\n",
    "\n",
    "fig.update_layout(title_text='Cantidad por envio en 3 Estados', showlegend=False)\n",
    "fig.update_xaxes(title_text='Cantidad')\n",
    "fig.update_yaxes(title_text='Total')\n",
    "\n",
    "fig.show()\n"
   ]
  },
  {
   "attachments": {},
   "cell_type": "markdown",
   "metadata": {
    "id": "KRcREZg5imh7"
   },
   "source": [
    "## 4. Create an interactive stacked bar chart showing the revenue by state (bars) for each of the products categories for California, New York and Texas."
   ]
  },
  {
   "cell_type": "code",
   "execution_count": 82,
   "metadata": {},
   "outputs": [
    {
     "data": {
      "application/vnd.plotly.v1+json": {
       "config": {
        "plotlyServerURL": "https://plot.ly"
       },
       "data": [
        {
         "name": "Furniture",
         "type": "bar",
         "x": [
          "Kentucky",
          "Texas",
          "Virginia",
          "Delaware",
          "California",
          "South Carolina",
          "Pennsylvania",
          "Pennsylvania",
          "Arizona",
          "California",
          "Michigan",
          "Arkansas",
          "Michigan",
          "Arkansas",
          "Florida",
          "Virginia",
          "Virginia",
          "South Dakota",
          "California",
          "California",
          "Nevada",
          "Missouri",
          "Missouri",
          "Virginia",
          "California",
          "Texas",
          "Indiana",
          "Texas",
          "Texas",
          "Illinois",
          "Texas",
          "Washington",
          "California",
          "Ohio",
          "Washington",
          "Washington",
          "Washington",
          "Ohio",
          "Virginia",
          "Florida",
          "New York",
          "New York",
          "New York",
          "California",
          "Florida",
          "California",
          "Florida",
          "Florida",
          "Florida",
          "Tennessee",
          "Tennessee",
          "Arizona",
          "California",
          "New York",
          "Iowa",
          "Ohio",
          "Texas",
          "California",
          "Texas",
          "Florida",
          "Virginia",
          "Michigan",
          "California",
          "California",
          "Pennsylvania",
          "Washington",
          "Alabama",
          "California",
          "Ohio",
          "Alabama",
          "California",
          "California",
          "Texas",
          "California",
          "California",
          "Texas",
          "Texas",
          "Ohio",
          "Ohio",
          "Ohio",
          "California",
          "California",
          "California",
          "New York",
          "Tennessee",
          "Louisiana",
          "Washington",
          "Connecticut",
          "Texas",
          "Massachusetts",
          "Massachusetts",
          "Pennsylvania",
          "California",
          "Texas",
          "Texas",
          "Massachusetts",
          "Wisconsin",
          "California",
          "Florida",
          "California",
          "Ohio",
          "Texas",
          "New Hampshire",
          "Texas",
          "Illinois",
          "California",
          "Illinois",
          "California",
          "California",
          "Illinois",
          "Minnesota",
          "Arkansas",
          "Utah",
          "Illinois",
          "Washington",
          "New York",
          "New York",
          "New York",
          "New York",
          "Illinois",
          "Tennessee",
          "Washington",
          "Nevada",
          "California",
          "California",
          "Virginia",
          "Michigan",
          "Texas",
          "Texas",
          "Indiana",
          "Washington",
          "Texas",
          "Pennsylvania",
          "Virginia",
          "Pennsylvania",
          "Pennsylvania",
          "Arizona",
          "California",
          "Mississippi",
          "Pennsylvania",
          "Florida",
          "Florida",
          "California",
          "Pennsylvania",
          "Pennsylvania",
          "California",
          "New York",
          "California",
          "New Jersey",
          "New Jersey",
          "California",
          "Texas",
          "Washington",
          "California",
          "Pennsylvania",
          "Arizona",
          "Connecticut",
          "Texas",
          "Texas",
          "California",
          "Texas",
          "California",
          "California",
          "California",
          "California",
          "California",
          "Georgia",
          "Texas",
          "Nevada",
          "Georgia",
          "Nevada",
          "Florida",
          "Washington",
          "North Carolina",
          "Colorado",
          "Texas",
          "Connecticut",
          "California",
          "Michigan",
          "Arizona",
          "California",
          "Florida",
          "Washington",
          "California",
          "California",
          "Pennsylvania",
          "California",
          "Arkansas",
          "Virginia",
          "Illinois",
          "Colorado",
          "New York",
          "California",
          "Delaware",
          "Virginia",
          "Virginia",
          "Florida",
          "New York",
          "Florida",
          "California",
          "Oklahoma",
          "Texas",
          "Oklahoma",
          "Oklahoma",
          "Oklahoma",
          "Pennsylvania",
          "Texas",
          "Washington",
          "Texas",
          "New York",
          "Pennsylvania",
          "Ohio",
          "Massachusetts",
          "Oregon",
          "New Jersey",
          "California",
          "Kansas",
          "New York",
          "Texas",
          "Washington",
          "Florida",
          "Texas",
          "New York",
          "Georgia",
          "New York",
          "Pennsylvania",
          "Washington",
          "Arizona",
          "New York",
          "Maryland",
          "Illinois",
          "New York",
          "Maryland",
          "New York",
          "Illinois",
          "Texas",
          "New York",
          "New York",
          "California",
          "Texas",
          "California",
          "Pennsylvania",
          "California",
          "New Jersey",
          "California",
          "Florida",
          "California",
          "Pennsylvania",
          "Washington",
          "Washington",
          "Pennsylvania",
          "New York",
          "New York",
          "Texas",
          "California",
          "California",
          "Illinois",
          "New York",
          "Pennsylvania",
          "Arizona",
          "California",
          "Washington",
          "Arkansas",
          "California",
          "Washington",
          "New Jersey",
          "Massachusetts",
          "Florida",
          "Ohio",
          "Texas",
          "Alabama",
          "Arkansas",
          "Tennessee",
          "Ohio",
          "Virginia",
          "Louisiana",
          "Ohio",
          "Washington",
          "California",
          "Ohio",
          "Rhode Island",
          "Rhode Island",
          "Rhode Island",
          "Rhode Island",
          "California",
          "Ohio",
          "New York",
          "New York",
          "North Carolina",
          "North Carolina",
          "California",
          "New York",
          "California",
          "California",
          "Pennsylvania",
          "Virginia",
          "Texas",
          "California",
          "New York",
          "Michigan",
          "California",
          "California",
          "California",
          "Colorado",
          "Pennsylvania",
          "Illinois",
          "Illinois",
          "Pennsylvania",
          "California",
          "Texas",
          "Texas",
          "New York",
          "California",
          "Illinois",
          "California",
          "Delaware",
          "Pennsylvania",
          "Minnesota",
          "New York",
          "Illinois",
          "Illinois",
          "Illinois",
          "Washington",
          "Washington",
          "Wisconsin",
          "Colorado",
          "Pennsylvania",
          "Delaware",
          "California",
          "Texas",
          "California",
          "Texas",
          "Ohio",
          "Virginia",
          "California",
          "California",
          "Ohio",
          "Texas",
          "California",
          "Texas",
          "California",
          "Rhode Island",
          "New York",
          "Texas",
          "New York",
          "South Carolina",
          "California",
          "California",
          "Wisconsin",
          "Texas",
          "Ohio",
          "Ohio",
          "Massachusetts",
          "Massachusetts",
          "Maryland",
          "Maryland",
          "Texas",
          "New York",
          "Texas",
          "Oregon",
          "Texas",
          "Illinois",
          "Illinois",
          "California",
          "California",
          "Washington",
          "Idaho",
          "California",
          "California",
          "California",
          "California",
          "California",
          "California",
          "Illinois",
          "Arizona",
          "Ohio",
          "Florida",
          "Illinois",
          "Pennsylvania",
          "Texas",
          "California",
          "Virginia",
          "Florida",
          "Texas",
          "Texas",
          "California",
          "California",
          "California",
          "Alabama",
          "New York",
          "Virginia",
          "Virginia",
          "Ohio",
          "Tennessee",
          "Arizona",
          "Arizona",
          "California",
          "California",
          "New York",
          "Florida",
          "California",
          "California",
          "Ohio",
          "Texas",
          "California",
          "Colorado",
          "Colorado",
          "Colorado",
          "New York",
          "Illinois",
          "Ohio",
          "California",
          "California",
          "Illinois",
          "Illinois",
          "California",
          "Pennsylvania",
          "Rhode Island",
          "New York",
          "Massachusetts",
          "Rhode Island"
         ],
         "y": [
          2573.82,
          76.72800000000001,
          51.94,
          9.94,
          333.99899999999997,
          545.9399999999999,
          61.96,
          127.10400000000001,
          181.47000000000003,
          19.3,
          272.94,
          1067.94,
          14.73,
          38.6,
          25.248,
          12.419999999999998,
          62.82000000000001,
          141.96,
          333,
          290.666,
          14.56,
          332.94,
          60.89,
          1256.22,
          129.568,
          25.16,
          20.32,
          362.24999999999994,
          376.50899999999996,
          634.116,
          63.55200000000001,
          457.56800000000004,
          626.3520000000001,
          302.45,
          481.56800000000004,
          48.712,
          436.70400000000006,
          8.32,
          1139.92,
          45.696,
          1579.746,
          613.908,
          1071.576,
          1198.33,
          122.352,
          111,
          30.768,
          20.016000000000002,
          4.992000000000001,
          32.952000000000005,
          218.376,
          314.352,
          40.48,
          366.786,
          1184.72,
          330.588,
          890.8409999999999,
          205.666,
          127.30199999999999,
          1125.4879999999998,
          177.68,
          5.47,
          91.96,
          33.11,
          154.764,
          653.55,
          8.96,
          99.592,
          172.11,
          1215.92,
          308.499,
          187.76,
          317.058,
          76.14,
          59.92,
          744.0999999999999,
          401.59000000000003,
          281.37199999999996,
          281.37199999999996,
          22.336000000000002,
          1487.04,
          303.25,
          230.28000000000003,
          17.46,
          561.5840000000001,
          51.96,
          12.18,
          27.46,
          127.869,
          194.25,
          872.32,
          349.965,
          256.78400000000005,
          66.11200000000001,
          1212.9599999999998,
          700.056,
          34.79,
          279.456,
          310.88000000000005,
          232.88,
          149.232,
          10.332,
          139.86,
          107.772,
          29.32,
          225.29600000000002,
          359.772,
          290.666,
          567.12,
          355.455,
          2001.8600000000001,
          22.200000000000003,
          73.32000000000001,
          61.544,
          515.88,
          353.568,
          56.96,
          13.96,
          991.7640000000001,
          268.935,
          170.35200000000003,
          585.552,
          37.4,
          48.86,
          1706.1840000000002,
          1441.3,
          212.94,
          797.944,
          99.918,
          647.84,
          6.24,
          193.0656,
          3.9840000000000004,
          104.01,
          170.058,
          853.9299999999998,
          4.272,
          447.84,
          85.98,
          1228.465,
          19.52,
          213.216,
          478.48,
          69.00800000000001,
          172.18599999999998,
          502.48800000000006,
          63.882000000000005,
          119.83299999999998,
          854.94,
          124.10999999999999,
          698.3520000000001,
          512.358,
          123.136,
          351.216,
          31.983999999999998,
          259.136,
          70.55999999999999,
          981.372,
          16.74,
          43.019999999999996,
          657.93,
          272.848,
          801.5680000000001,
          717.72,
          170.35200000000003,
          77.92,
          67.88,
          17.496000000000002,
          674.3520000000001,
          25.71,
          134.01,
          129.888,
          1367.84,
          44.128,
          218.75,
          489.22999999999996,
          1133.35,
          340.14400000000006,
          53.88,
          121.376,
          327.76,
          155.45600000000002,
          12.35,
          85.44,
          195.136,
          853.0919999999999,
          289.24,
          638.82,
          500.23999999999995,
          421.372,
          4.224,
          13.28,
          6.28,
          10.68,
          29.12,
          1202.94,
          174.0585,
          70.71,
          31.983999999999998,
          41.88,
          161.96,
          200.79500000000002,
          821.8799999999999,
          57.69,
          429.90000000000003,
          42.368,
          966.6999999999998,
          975.92,
          1740.0599999999997,
          172.764,
          17.472,
          60.67200000000001,
          785.8799999999999,
          1487.04,
          254.89999999999998,
          127.94999999999999,
          40.56,
          3785.2920000000004,
          340.116,
          14.190000000000001,
          13.128,
          9.96,
          464.29200000000003,
          142.4,
          14.56,
          103.93599999999999,
          35.34,
          73.915,
          887.103,
          362.94,
          493.42999999999995,
          631.782,
          164.22,
          801.5680000000001,
          617.7,
          8.544,
          97.44,
          579.528,
          435.999,
          300.53279999999995,
          585.552,
          21.184,
          145.568,
          87.53999999999999,
          603.92,
          337.088,
          204.6,
          67.17599999999999,
          6.16,
          2348.82,
          409.272,
          117.36,
          15.24,
          31.776000000000003,
          143.432,
          122.352,
          258.279,
          589.41,
          129.92,
          46.872,
          122.352,
          63.47,
          8.92,
          433.56800000000004,
          1298.55,
          245.98,
          1628.82,
          15.384,
          183.37199999999999,
          5.312,
          545.88,
          605.34,
          328.59000000000003,
          409.59000000000003,
          591.32,
          129.92,
          93.888,
          63.92,
          616.998,
          1421.664,
          14.76,
          17.669999999999998,
          1604.9,
          385.686,
          146.352,
          68.704,
          31.68,
          89.34,
          410.352,
          945.0360000000001,
          35.34,
          135.882,
          573.728,
          20.04,
          273.568,
          149.9,
          683.1439999999999,
          222.66599999999997,
          56.52,
          563.9399999999999,
          39.88,
          53.2,
          112.64800000000001,
          603.92,
          521.96,
          797.944,
          10.984000000000002,
          23.968000000000004,
          629.0640000000001,
          67.99319999999999,
          25.128000000000004,
          69.264,
          10.11,
          37.296,
          305.9745,
          124.41,
          657.93,
          479.90000000000003,
          4007.8400000000006,
          292.1,
          8.544,
          424.116,
          730.2,
          137.54,
          392.93999999999994,
          145.98,
          60.312,
          1025.8799999999999,
          381.44000000000005,
          155.37199999999999,
          603.92,
          6.368,
          611.058,
          111.15,
          120.71199999999999,
          151.72,
          35.168000000000006,
          1218.7349999999997,
          23.88,
          6.096,
          725.344,
          52.96,
          275.952,
          19.3,
          199.89999999999998,
          397.59999999999997,
          411.332,
          58.199999999999996,
          2807.84,
          674.058,
          8.128,
          909.7199999999998,
          45.839999999999996,
          9.82,
          60.72,
          239.84,
          39.96000000000001,
          883.92,
          58.36,
          275.49,
          23.976000000000003,
          214.95000000000002,
          10.776000000000002,
          39.88,
          79.44,
          603.92,
          338.352,
          43.31,
          254.97449999999998,
          9.24,
          764.6880000000001,
          3610.848,
          12.54,
          94.428,
          87.96000000000001,
          136.53,
          186.304,
          8.544,
          445.802,
          763.28,
          6.16,
          29.46,
          1013.8320000000001,
          8.624000000000002,
          56.568,
          44.46,
          1403.9200000000003,
          241.56799999999998,
          1819.8600000000001,
          192.18600000000004,
          455.1,
          2244.48,
          190.848,
          662.88,
          51.967999999999996,
          242.35200000000003,
          572.1600000000001,
          1325.76,
          53.315999999999995,
          64.784,
          23.99,
          292.27200000000005,
          30.36,
          600.558,
          3.48,
          300.416,
          230.35200000000003,
          218.35200000000003,
          767.214,
          32.952000000000005,
          182.35200000000003,
          230.28000000000003,
          70.56,
          8.736,
          38.976,
          24.900000000000002,
          523.764,
          605.88,
          1573.488,
          63.2,
          341.96
         ]
        },
        {
         "name": "Office Supplies",
         "type": "bar",
         "x": [
          "Texas",
          "Illinois",
          "Illinois",
          "Illinois",
          "Pennsylvania",
          "Georgia",
          "California",
          "Kentucky",
          "Kentucky",
          "Kentucky",
          "Kentucky",
          "Texas",
          "Texas",
          "Virginia",
          "California",
          "California",
          "Louisiana",
          "Louisiana",
          "Ohio",
          "Louisiana",
          "Louisiana",
          "Ohio",
          "Pennsylvania",
          "Pennsylvania",
          "Oregon",
          "Arizona",
          "Arizona",
          "Arizona",
          "California",
          "Michigan",
          "Michigan",
          "Arkansas",
          "Michigan",
          "Arkansas",
          "Arkansas",
          "Tennessee",
          "Michigan",
          "Michigan",
          "Michigan",
          "Indiana",
          "Nevada",
          "Virginia",
          "Virginia",
          "South Dakota",
          "Virginia",
          "California",
          "California",
          "New York",
          "Michigan",
          "Michigan",
          "Florida",
          "California",
          "Washington",
          "Washington",
          "California",
          "California",
          "California",
          "Illinois",
          "Virginia",
          "New York",
          "Missouri",
          "Missouri",
          "Missouri",
          "Missouri",
          "Virginia",
          "Texas",
          "Washington",
          "Washington",
          "Washington",
          "Texas",
          "Texas",
          "Illinois",
          "Texas",
          "California",
          "Illinois",
          "California",
          "Texas",
          "Texas",
          "Oregon",
          "Oregon",
          "Ohio",
          "Illinois",
          "Texas",
          "Texas",
          "Texas",
          "New York",
          "Pennsylvania",
          "New York",
          "North Carolina",
          "Ohio",
          "New York",
          "Ohio",
          "Texas",
          "New York",
          "South Carolina",
          "Florida",
          "New York",
          "New York",
          "New York",
          "New York",
          "Washington",
          "Washington",
          "Washington",
          "Washington",
          "Washington",
          "Michigan",
          "Colorado",
          "Colorado",
          "New York",
          "Ohio",
          "California",
          "Kentucky",
          "Kentucky",
          "Utah",
          "Utah",
          "Utah",
          "Utah",
          "California",
          "California",
          "Florida",
          "Illinois",
          "Florida",
          "Florida",
          "Florida",
          "Florida",
          "Mississippi",
          "Texas",
          "Texas",
          "Minnesota",
          "Minnesota",
          "Minnesota",
          "Mississippi",
          "New York",
          "New York",
          "Mississippi",
          "Minnesota",
          "Texas",
          "Minnesota",
          "Mississippi",
          "Mississippi",
          "Pennsylvania",
          "Florida",
          "Florida",
          "California",
          "Florida",
          "Florida",
          "Florida",
          "Florida",
          "Tennessee",
          "North Carolina",
          "Ohio",
          "Ohio",
          "Virginia",
          "Virginia",
          "Virginia",
          "Virginia",
          "Indiana",
          "North Carolina",
          "North Carolina",
          "Arizona",
          "California",
          "Florida",
          "New York",
          "California",
          "California",
          "California",
          "California",
          "California",
          "California",
          "Iowa",
          "Washington",
          "New York",
          "New York",
          "Minnesota",
          "Washington",
          "Texas",
          "Florida",
          "Florida",
          "Florida",
          "Pennsylvania",
          "Illinois",
          "California",
          "California",
          "California",
          "Massachusetts",
          "California",
          "Massachusetts",
          "Georgia",
          "Texas",
          "Georgia",
          "Texas",
          "California",
          "Louisiana",
          "California",
          "Michigan",
          "Louisiana",
          "California",
          "Louisiana",
          "Illinois",
          "Illinois",
          "Kentucky",
          "Virginia",
          "Virginia",
          "New York",
          "Virginia",
          "Michigan",
          "Michigan",
          "Virginia",
          "Michigan",
          "Michigan",
          "California",
          "California",
          "California",
          "California",
          "Pennsylvania",
          "Pennsylvania",
          "Georgia",
          "South Carolina",
          "Arizona",
          "Arizona",
          "Arizona",
          "Idaho",
          "Florida",
          "Florida",
          "Montana",
          "Indiana",
          "California",
          "California",
          "Maryland",
          "Pennsylvania",
          "Pennsylvania",
          "Pennsylvania",
          "California",
          "North Carolina",
          "Texas",
          "California",
          "Texas",
          "California",
          "California",
          "Virginia",
          "Virginia",
          "Texas",
          "Kentucky",
          "California",
          "New York",
          "New York",
          "California",
          "Ohio",
          "Pennsylvania",
          "Texas",
          "Texas",
          "California",
          "California",
          "California",
          "California",
          "Ohio",
          "Ohio",
          "Maryland",
          "Maryland",
          "Maryland",
          "Maryland",
          "Ohio",
          "Louisiana",
          "Tennessee",
          "Kentucky",
          "Kentucky",
          "Ohio",
          "Wisconsin",
          "New York",
          "New York",
          "Texas",
          "Texas",
          "Michigan",
          "Washington",
          "Kentucky",
          "Virginia",
          "Illinois",
          "Virginia",
          "Kentucky",
          "Kentucky",
          "California",
          "California",
          "California",
          "Massachusetts",
          "Massachusetts",
          "Kentucky",
          "Kentucky",
          "Kentucky",
          "Kentucky",
          "Washington",
          "Pennsylvania",
          "California",
          "California",
          "New York",
          "Illinois",
          "Illinois",
          "Florida",
          "Florida",
          "California",
          "Utah",
          "Wisconsin",
          "Ohio",
          "Texas",
          "Virginia",
          "Michigan",
          "New Hampshire",
          "New Hampshire",
          "Texas",
          "Texas",
          "Texas",
          "Massachusetts",
          "Massachusetts",
          "Texas",
          "Virginia",
          "California",
          "Texas",
          "Massachusetts",
          "Pennsylvania",
          "New York",
          "New York",
          "Pennsylvania",
          "Washington",
          "New York",
          "Maryland",
          "Illinois",
          "New York",
          "Illinois",
          "Illinois",
          "Utah",
          "Illinois",
          "California",
          "Washington",
          "New York",
          "New York",
          "Virginia",
          "New York",
          "New York",
          "New Jersey",
          "New Jersey",
          "Minnesota",
          "Minnesota",
          "Minnesota",
          "Minnesota",
          "Michigan",
          "Michigan",
          "Utah",
          "Georgia",
          "Georgia",
          "Illinois",
          "Illinois",
          "Michigan",
          "New York",
          "Ohio",
          "Florida",
          "New York",
          "New York",
          "Illinois",
          "Florida",
          "Texas",
          "New York",
          "Illinois",
          "Illinois",
          "New York",
          "New York",
          "Nevada",
          "Nevada",
          "Texas",
          "California",
          "California",
          "California",
          "California",
          "California",
          "Michigan",
          "California",
          "Texas",
          "Texas",
          "New York",
          "New York",
          "New York",
          "Washington",
          "Washington",
          "Illinois",
          "Texas",
          "Oklahoma",
          "Oklahoma",
          "Texas",
          "Texas",
          "Texas",
          "Pennsylvania",
          "Virginia",
          "New York",
          "New York",
          "Connecticut",
          "Pennsylvania",
          "New Jersey",
          "Colorado",
          "Colorado",
          "Pennsylvania",
          "Minnesota",
          "Minnesota",
          "Arizona",
          "North Carolina",
          "North Carolina",
          "Oregon",
          "Oregon",
          "Mississippi",
          "Pennsylvania",
          "Michigan",
          "Pennsylvania",
          "Pennsylvania",
          "Pennsylvania",
          "Ohio",
          "New York",
          "California",
          "Texas",
          "Texas",
          "Illinois",
          "New York",
          "New York",
          "New York",
          "North Carolina",
          "Florida",
          "Washington",
          "New Jersey",
          "Virginia",
          "Virginia",
          "Colorado",
          "Colorado",
          "Mississippi",
          "Mississippi",
          "California",
          "Texas",
          "Texas",
          "Tennessee",
          "Florida",
          "California",
          "California",
          "California",
          "California",
          "Texas",
          "Texas",
          "California",
          "California",
          "California",
          "New Jersey",
          "New Jersey",
          "Texas",
          "New York",
          "New York",
          "Illinois",
          "Texas",
          "California",
          "Texas",
          "California",
          "Texas",
          "Washington",
          "Pennsylvania",
          "New York",
          "Delaware",
          "Arizona",
          "Illinois",
          "South Dakota",
          "New York",
          "Montana",
          "Connecticut",
          "Connecticut",
          "California",
          "Ohio",
          "California",
          "Ohio",
          "California",
          "California",
          "Texas",
          "California",
          "California",
          "California",
          "California",
          "Texas",
          "Texas",
          "Texas",
          "California",
          "Texas",
          "California",
          "New York",
          "California",
          "California",
          "Arizona",
          "California",
          "Arizona",
          "California",
          "California",
          "California",
          "California",
          "Georgia",
          "Texas",
          "Texas",
          "Texas",
          "Texas",
          "Illinois",
          "California",
          "New York",
          "Florida",
          "Florida",
          "California",
          "Pennsylvania",
          "North Carolina",
          "North Carolina",
          "North Carolina",
          "Missouri",
          "Missouri",
          "New York",
          "New York",
          "Colorado",
          "New York",
          "Arizona",
          "Utah",
          "Utah",
          "Utah",
          "Utah",
          "Utah",
          "Maine",
          "Maine",
          "New York",
          "California",
          "California",
          "Connecticut",
          "California",
          "Connecticut",
          "California",
          "California",
          "Michigan",
          "Michigan",
          "California",
          "Arizona",
          "Florida",
          "Washington",
          "California",
          "California",
          "Arizona",
          "New York",
          "Washington",
          "Washington",
          "New Jersey",
          "Florida",
          "Florida",
          "Georgia",
          "Florida",
          "Florida",
          "Florida",
          "California",
          "California",
          "California",
          "Connecticut",
          "California",
          "Texas",
          "Florida",
          "Florida",
          "Arkansas",
          "Arkansas",
          "Texas",
          "Arkansas",
          "California",
          "Ohio",
          "Ohio",
          "Ohio",
          "Georgia",
          "Virginia",
          "Virginia",
          "Ohio",
          "Florida",
          "Missouri",
          "Colorado",
          "California",
          "Michigan",
          "New York",
          "New York",
          "Colorado",
          "Colorado",
          "Colorado",
          "Montana",
          "New York",
          "Kentucky",
          "Texas",
          "Ohio",
          "California",
          "California",
          "Ohio",
          "Ohio",
          "Ohio",
          "Ohio",
          "Ohio",
          "Texas",
          "Ohio",
          "Delaware",
          "Delaware",
          "Delaware",
          "Virginia",
          "California",
          "California",
          "California",
          "Florida",
          "California",
          "Florida",
          "Connecticut",
          "Connecticut",
          "New York",
          "Texas",
          "California",
          "Texas",
          "New York",
          "New York",
          "New York",
          "New York",
          "Arkansas",
          "Texas",
          "New York",
          "Ohio",
          "California",
          "Texas",
          "Texas",
          "Illinois",
          "Oklahoma",
          "Oklahoma",
          "Oklahoma",
          "Illinois",
          "California",
          "Illinois",
          "California",
          "Pennsylvania",
          "Oklahoma",
          "California",
          "Washington",
          "Texas",
          "Virginia",
          "California",
          "Texas",
          "Washington",
          "California",
          "Washington",
          "Texas",
          "Texas",
          "California",
          "New York",
          "Texas",
          "Texas",
          "Texas",
          "New York",
          "California",
          "Pennsylvania",
          "Michigan",
          "Ohio",
          "Massachusetts",
          "Massachusetts",
          "Illinois",
          "Massachusetts",
          "New Jersey",
          "Oregon",
          "Virginia",
          "Texas",
          "Kansas",
          "Kansas",
          "Ohio",
          "North Carolina",
          "North Carolina",
          "Ohio",
          "North Carolina",
          "Arizona",
          "Washington",
          "Washington",
          "Pennsylvania",
          "Washington",
          "Washington",
          "New York",
          "Texas",
          "Georgia",
          "Texas",
          "New York",
          "Illinois",
          "Florida",
          "New York",
          "Texas",
          "New York",
          "New York",
          "Illinois",
          "New York",
          "New York",
          "New York",
          "Washington",
          "Oregon",
          "Oregon",
          "Oregon",
          "Washington",
          "Washington",
          "Oregon",
          "North Carolina",
          "Pennsylvania",
          "California",
          "California",
          "Washington",
          "California",
          "North Carolina",
          "California",
          "California",
          "California",
          "New York",
          "New York",
          "California",
          "California",
          "Florida",
          "California",
          "New York",
          "Pennsylvania",
          "Nebraska",
          "California",
          "Nebraska",
          "Nebraska",
          "California",
          "Pennsylvania",
          "Pennsylvania",
          "California",
          "California",
          "California",
          "New York",
          "Florida",
          "New York",
          "Illinois",
          "California",
          "Minnesota",
          "Minnesota",
          "New York",
          "Delaware",
          "Delaware",
          "Delaware",
          "Minnesota",
          "Minnesota",
          "Ohio",
          "New York",
          "California",
          "Colorado",
          "Texas",
          "Texas",
          "Texas",
          "California",
          "Pennsylvania",
          "Washington",
          "Pennsylvania",
          "Ohio",
          "Texas",
          "Pennsylvania",
          "Ohio",
          "California",
          "North Carolina",
          "North Carolina",
          "Massachusetts",
          "California",
          "Washington",
          "Pennsylvania",
          "Pennsylvania",
          "California",
          "Pennsylvania",
          "Pennsylvania",
          "California",
          "Washington",
          "New York",
          "New York",
          "New York",
          "Washington",
          "Florida",
          "Tennessee",
          "New York",
          "Ohio",
          "Nevada",
          "Arizona",
          "Arizona",
          "Arizona",
          "Arizona",
          "Texas",
          "Texas",
          "North Carolina",
          "Texas",
          "Ohio",
          "Texas",
          "North Carolina",
          "Ohio",
          "Washington",
          "California",
          "California",
          "Ohio",
          "Pennsylvania",
          "Indiana",
          "Nebraska",
          "Texas",
          "New York",
          "North Carolina",
          "California",
          "California",
          "Ohio",
          "Texas",
          "Texas",
          "New Mexico",
          "California",
          "Pennsylvania",
          "Pennsylvania",
          "California",
          "Arkansas",
          "California",
          "Illinois",
          "California",
          "Washington",
          "Washington",
          "Virginia",
          "Virginia",
          "New York",
          "New Jersey",
          "Virginia",
          "Illinois",
          "Illinois",
          "Illinois",
          "New Hampshire",
          "New Hampshire",
          "Texas",
          "Massachusetts",
          "Ohio",
          "California",
          "Texas",
          "Alabama",
          "Washington",
          "Pennsylvania",
          "Washington",
          "Pennsylvania",
          "Pennsylvania",
          "California",
          "California",
          "California",
          "California",
          "California",
          "Illinois",
          "Illinois",
          "Illinois",
          "Tennessee",
          "Michigan",
          "Illinois",
          "Virginia",
          "Ohio",
          "Virginia",
          "California",
          "Florida",
          "California",
          "South Carolina",
          "California",
          "Pennsylvania",
          "North Carolina",
          "North Carolina",
          "California",
          "California",
          "California",
          "California",
          "Indiana",
          "California",
          "California",
          "California",
          "Rhode Island",
          "Rhode Island",
          "California",
          "Rhode Island",
          "California",
          "California",
          "California",
          "Ohio",
          "Illinois",
          "North Carolina",
          "California",
          "Ohio",
          "California",
          "North Carolina",
          "New York",
          "New Jersey",
          "Colorado",
          "Kentucky",
          "Kentucky",
          "North Carolina",
          "New York",
          "Oregon",
          "California",
          "Ohio",
          "New York",
          "Connecticut",
          "Pennsylvania",
          "California",
          "New York",
          "New York",
          "New Jersey",
          "North Carolina",
          "North Carolina",
          "Tennessee",
          "Tennessee",
          "North Carolina",
          "California",
          "North Carolina",
          "New York",
          "California",
          "California",
          "New York",
          "Pennsylvania",
          "Pennsylvania",
          "Georgia",
          "Wisconsin",
          "Wisconsin",
          "Wisconsin",
          "Wisconsin",
          "Texas",
          "New York",
          "Texas",
          "Oregon",
          "Oregon",
          "Texas",
          "California",
          "New York",
          "Texas",
          "California",
          "California",
          "California",
          "California",
          "Michigan",
          "Michigan",
          "Michigan",
          "Michigan",
          "California",
          "California",
          "Michigan",
          "Texas",
          "California",
          "Colorado",
          "Texas",
          "Texas",
          "California",
          "New York",
          "Washington",
          "California",
          "Texas",
          "New York",
          "Texas",
          "Wisconsin",
          "Washington",
          "New York",
          "California",
          "North Carolina",
          "Texas",
          "Texas",
          "Texas",
          "Texas",
          "Michigan",
          "New York",
          "Virginia",
          "Michigan",
          "Connecticut",
          "Texas",
          "Tennessee",
          "Tennessee",
          "California",
          "California",
          "Tennessee",
          "Texas",
          "Indiana",
          "California",
          "California",
          "Indiana",
          "Indiana",
          "Indiana",
          "Delaware",
          "Delaware",
          "Texas",
          "New York",
          "Pennsylvania",
          "New York",
          "California",
          "California",
          "Ohio",
          "Illinois",
          "Pennsylvania",
          "Illinois",
          "Pennsylvania",
          "Utah",
          "Pennsylvania",
          "Colorado",
          "Illinois",
          "Minnesota",
          "Utah",
          "Minnesota",
          "Delaware",
          "Delaware",
          "Pennsylvania",
          "Delaware",
          "New York",
          "New York",
          "New York",
          "Kentucky",
          "Kentucky",
          "Kentucky",
          "California",
          "Texas",
          "California",
          "Texas",
          "Georgia",
          "Georgia",
          "Georgia",
          "Illinois",
          "California",
          "Georgia",
          "Georgia",
          "Texas",
          "Pennsylvania",
          "California",
          "Arizona",
          "Michigan",
          "Texas",
          "Washington",
          "Illinois",
          "Michigan",
          "Michigan",
          "Washington",
          "Ohio",
          "Michigan",
          "Michigan",
          "Ohio",
          "Washington",
          "Washington",
          "Texas",
          "California",
          "California",
          "Texas",
          "Texas",
          "New York",
          "California",
          "Oregon",
          "California",
          "California",
          "Oregon",
          "California",
          "California",
          "California",
          "New York",
          "New York",
          "New York",
          "New York",
          "Oregon",
          "New York",
          "South Carolina",
          "California",
          "California",
          "South Carolina",
          "Indiana",
          "South Carolina",
          "Alabama",
          "New York",
          "California",
          "Pennsylvania",
          "Illinois",
          "California",
          "New York",
          "New York",
          "Florida",
          "Arizona",
          "Wisconsin",
          "Ohio",
          "Maryland",
          "Maryland",
          "Georgia",
          "Illinois",
          "New York",
          "Texas",
          "Missouri",
          "Illinois",
          "California",
          "California",
          "Pennsylvania",
          "Pennsylvania",
          "Virginia",
          "Ohio",
          "Arizona",
          "California",
          "Ohio",
          "Ohio",
          "California",
          "Tennessee",
          "Oregon",
          "Illinois",
          "Illinois",
          "Illinois",
          "California",
          "California",
          "California",
          "Washington",
          "Virginia",
          "Oregon",
          "Oregon",
          "Oregon",
          "Oregon",
          "Washington",
          "Texas",
          "Oregon",
          "Oregon",
          "Illinois",
          "Arizona",
          "Illinois",
          "Pennsylvania",
          "Texas",
          "California",
          "Texas",
          "New York",
          "Idaho",
          "Idaho",
          "New York",
          "Florida",
          "Texas",
          "California",
          "Arizona",
          "California",
          "Texas",
          "Kentucky",
          "Ohio",
          "Illinois",
          "Illinois",
          "Illinois",
          "Florida",
          "Texas",
          "Michigan",
          "Florida",
          "Georgia",
          "Ohio",
          "Florida",
          "California",
          "Illinois",
          "Illinois",
          "California",
          "Alabama",
          "Alabama",
          "California",
          "Arizona",
          "Arizona",
          "Virginia",
          "Washington",
          "California",
          "California",
          "Texas",
          "Virginia",
          "California",
          "Tennessee",
          "Tennessee",
          "Indiana",
          "Indiana",
          "Delaware",
          "Tennessee",
          "New York",
          "Illinois",
          "California",
          "New York",
          "Illinois",
          "Illinois",
          "Texas",
          "New York",
          "Florida",
          "Florida",
          "Florida",
          "Indiana",
          "Florida",
          "California",
          "California",
          "Florida",
          "California",
          "California",
          "Pennsylvania",
          "New York",
          "Pennsylvania",
          "Pennsylvania",
          "Colorado",
          "Pennsylvania",
          "Pennsylvania",
          "Illinois",
          "California",
          "Colorado",
          "California",
          "Illinois",
          "Texas",
          "Alabama",
          "Arizona",
          "California",
          "California",
          "Ohio",
          "California",
          "California",
          "California",
          "Massachusetts",
          "California",
          "Massachusetts",
          "Pennsylvania",
          "Massachusetts",
          "California",
          "Minnesota",
          "California",
          "Ohio",
          "California",
          "New Mexico",
          "California",
          "California",
          "Michigan",
          "Arizona",
          "New York",
          "New York",
          "Texas",
          "Texas",
          "Tennessee",
          "Rhode Island",
          "Rhode Island",
          "New York",
          "Texas",
          "Missouri"
         ],
         "y": [
          16.448,
          11.784,
          272.736,
          3.539999999999999,
          19.536,
          12.78,
          19.44,
          31.12,
          609.98,
          5.48,
          6.54,
          10.429999999999998,
          9.344,
          2.89,
          19.9,
          1325.8500000000001,
          572.58,
          5.64,
          3.4380000000000006,
          50.94,
          11.36,
          37.408,
          18.588000000000005,
          30.072000000000003,
          64.864,
          56.064,
          32.34,
          108.72,
          19.36,
          13.98,
          66.58,
          22.959999999999997,
          29.700000000000003,
          6.63,
          23.34,
          67.194,
          247.716,
          19.05,
          43.92,
          5.9399999999999995,
          40.08,
          16.68,
          489.92,
          10.68,
          19.44,
          57.23,
          36.44,
          3.9280000000000004,
          10.56,
          229.94,
          18.336000000000002,
          12.350000000000001,
          83.84,
          13.272000000000002,
          34.24,
          82.896,
          17.248,
          8.951999999999998,
          15,
          64.96,
          64.96,
          51.900000000000006,
          14.940000000000001,
          9.64,
          17.46,
          16.176000000000002,
          81.96,
          238.62,
          21.36,
          1.0799999999999998,
          7.959999999999997,
          54.208,
          12.624,
          12.96,
          8.849999999999998,
          19.44,
          6.936000000000001,
          4.427999999999999,
          32.896,
          22.776000000000003,
          19.456000000000003,
          17.472,
          18.84,
          137.352,
          129.552,
          11.36,
          3.4240000000000004,
          36.4,
          19.456000000000003,
          15.120000000000001,
          125.76,
          44.672000000000004,
          176.77199999999996,
          25.32,
          354.90000000000003,
          15.552000000000003,
          97.82,
          59.519999999999996,
          18.62,
          49.632000000000005,
          242.94,
          17.94,
          20.65,
          204.89999999999998,
          107.64800000000001,
          22.38,
          83.168,
          636.4080000000001,
          108.92,
          10.464000000000002,
          7.98,
          146.76,
          14.940000000000001,
          33.088,
          80.98,
          21.36,
          62.048,
          10.56,
          3.38,
          91.056,
          8.448,
          142.776,
          7.218,
          43.18800000000001,
          131.904,
          12.96,
          5.184000000000001,
          4.4479999999999995,
          35.88,
          93.78,
          47.18,
          16,
          155.04,
          34.86,
          30.44,
          19.68,
          15.552000000000003,
          53.4,
          11.43,
          32.67,
          126.624,
          21.376,
          18.936,
          1856.19,
          8.016,
          11.808,
          33.57,
          26.160000000000004,
          59.20000000000001,
          16.272000000000002,
          7.408,
          6.048,
          14.399999999999999,
          122.94,
          122.97,
          9.32,
          16.28,
          51.46500000000002,
          7.644000000000001,
          74.352,
          330.4,
          9.912,
          24.900000000000002,
          25.44,
          14.88,
          6.56,
          27.936000000000003,
          3.36,
          18.75,
          6.12,
          15.84,
          49.65,
          10.5,
          129.3,
          44.400000000000006,
          335.72,
          4.032,
          12.645000000000001,
          1.8690000000000004,
          0.8520000000000001,
          8.133999999999999,
          52.98,
          673.5680000000001,
          29.6,
          6.24,
          17.088,
          66.96,
          154.9,
          33.48800000000001,
          15.84,
          26.720000000000002,
          11.16,
          232.54999999999998,
          7.184000000000001,
          79.36,
          12.96,
          18.9,
          19.44,
          52.096000000000004,
          49.632000000000005,
          115.36,
          22.959999999999997,
          12.96,
          55.48,
          22.959999999999997,
          40.199999999999996,
          13.89,
          4164.049999999999,
          689.8199999999999,
          26.7,
          19.44,
          70.94999999999999,
          65.568,
          55.48,
          44.91000000000001,
          10.304000000000002,
          58.32000000000001,
          122.97,
          2.368,
          19.008000000000003,
          49.792,
          9.584000000000001,
          6.911999999999999,
          10.368000000000002,
          87.08,
          32.400000000000006,
          39.68,
          18.088,
          7.83,
          17.856,
          509.9700000000001,
          30.991999999999997,
          106.96,
          39.072,
          2.688,
          11.62,
          149.352,
          10.75,
          13.12,
          58.050000000000004,
          71.28,
          44.84000000000001,
          828.8399999999999,
          16.520000000000003,
          9.912,
          247.84,
          48.91,
          7.488000000000001,
          2.5020000000000002,
          10.368000000000002,
          6.24,
          270.71999999999997,
          12.6,
          21.400000000000002,
          18.288,
          27.096,
          6.911999999999999,
          20.86,
          497.61,
          5.34,
          3.15,
          177.568,
          17.94,
          99.92000000000002,
          826,
          174.95000000000002,
          26.136000000000003,
          21.560000000000002,
          10.896,
          40.176,
          5.4719999999999995,
          37.839999999999996,
          46.8,
          57.68,
          9.42,
          11.88,
          45.248000000000005,
          35.44,
          6.56,
          24.56,
          107.94,
          140.736,
          5.78,
          16.14,
          8.64,
          9.45,
          45.36,
          20.65,
          83.25,
          158.13,
          22.32,
          41.04,
          39.96,
          35.910000000000004,
          104.57999999999998,
          17.472,
          398.35200000000003,
          7.104000000000001,
          8,
          55.5,
          91.67999999999999,
          15.936000000000002,
          3.9840000000000004,
          34.2,
          57.42,
          38.52,
          33.28,
          10.368000000000002,
          66.96,
          18.239999999999995,
          17.94,
          245.88,
          56.06399999999999,
          2715.9300000000003,
          31.84,
          4.832000000000001,
          447.85999999999996,
          21.168,
          17.96,
          5.04,
          3.2820000000000005,
          12.96,
          208.16,
          116.28,
          75.59999999999998,
          14.62,
          102.624,
          13.392000000000001,
          48.4,
          17.459999999999997,
          359.32,
          136.96,
          39.96,
          25.584000000000003,
          13.620000000000001,
          70.368,
          235.95000000000002,
          289.20000000000005,
          45.480000000000004,
          25.92,
          1503.25,
          166.72,
          47.88,
          138.56,
          65.52000000000001,
          59.80800000000001,
          8.56,
          356.94,
          132.696,
          15.936000000000002,
          15.28,
          15.56,
          16.224,
          62.016,
          17.14,
          149.54399999999998,
          13.984000000000002,
          1.3650000000000002,
          100.24000000000001,
          13.36,
          24.587999999999994,
          12.461999999999996,
          1676.88,
          68.48,
          79.14,
          18.060000000000002,
          70.368,
          18.504,
          7.36,
          114.9,
          23.1,
          7.28,
          491.55,
          14.52,
          8.567999999999998,
          36.544000000000004,
          35,
          39.55200000000001,
          41.4,
          3266.376,
          17.9,
          62.016,
          11.648000000000001,
          471.90000000000003,
          3.52,
          3.3919999999999995,
          509.48800000000006,
          15.552000000000003,
          9.006000000000002,
          36.839999999999996,
          19.65,
          59.699999999999996,
          21.400000000000002,
          24.896,
          3.76,
          11.088000000000003,
          25.164,
          44.416000000000004,
          161.94,
          501.81000000000006,
          8.226,
          3.104,
          20.016,
          9.328000000000001,
          71.632,
          306.2,
          335.52,
          6.08,
          41.47200000000001,
          3.168000000000001,
          31.086000000000006,
          32.76,
          13.919999999999998,
          32.400000000000006,
          25.920000000000005,
          21.312000000000005,
          5.248,
          334.76800000000003,
          2.688,
          6.6000000000000005,
          310.688,
          5.184000000000001,
          19.92,
          5.58,
          15.600000000000001,
          21.84,
          32.432,
          177.536,
          19.44,
          14.62,
          180.96000000000004,
          281.42400000000004,
          220.776,
          4.368,
          9.810000000000002,
          196.704,
          23.92,
          41.904,
          5.56,
          14.352000000000002,
          10.368000000000002,
          14.303999999999998,
          32.400000000000006,
          2.88,
          14.399999999999999,
          177.2,
          10.368000000000002,
          49.12,
          18.28,
          35.856,
          16.032,
          7.712000000000001,
          22.288,
          249.75,
          3.4880000000000004,
          11.264000000000001,
          41.584,
          17.94,
          39.48,
          55.92,
          29.93199999999999,
          6.540000000000001,
          13.904,
          6.096,
          20.88,
          3.81,
          535.41,
          27.360000000000003,
          22.830000000000002,
          25.983999999999998,
          13.12,
          11.96,
          342.86400000000003,
          19.92,
          8.704,
          104.85,
          89.71200000000002,
          1.0439999999999998,
          4.991999999999999,
          87.92,
          99.2,
          26.632,
          236.5,
          5.96,
          11.52,
          19.68,
          9.24,
          40.7,
          8.160000000000002,
          15.52,
          6.48,
          53.72,
          8187.65,
          162.89,
          2177.5839999999994,
          4.8359999999999985,
          16.783999999999995,
          8.879999999999999,
          123.55199999999999,
          276.28,
          65.78,
          48.944,
          14.320000000000002,
          19.752000000000002,
          5.68,
          78.304,
          17.544,
          62.92000000000001,
          26.7,
          838.38,
          39.96,
          102.30000000000001,
          2.6,
          21.36,
          93.024,
          16.4,
          447.84,
          1089.75,
          13.184000000000001,
          158.9,
          101.96,
          259.74,
          15.959999999999999,
          110.96,
          45.98,
          79.47,
          20.94,
          4.56,
          15.78,
          423.28,
          167.535,
          38.339999999999996,
          76.12,
          9.345000000000002,
          15.552000000000003,
          2060.744,
          5.98,
          20.88,
          4.464,
          375.34,
          40.97,
          22.96,
          196.21,
          31.104000000000006,
          47.96,
          14.04,
          5.5520000000000005,
          2.952,
          211.248,
          152.91,
          92.94,
          17.856,
          62.94,
          46.440000000000005,
          30.959999999999994,
          91.36000000000001,
          152.24,
          12.67,
          17.96,
          15.552000000000003,
          114.2,
          69.456,
          76.77600000000001,
          9.184000000000001,
          10.72,
          344.90999999999997,
          20.12,
          896.99,
          3.912,
          7.6320000000000014,
          11.56,
          31.104000000000006,
          49.568000000000005,
          19.44,
          25.92,
          45.92,
          15.552000000000003,
          6.800000000000001,
          223.056,
          8.288,
          12.672,
          25.5,
          25.679999999999993,
          4.720000000000001,
          48.84,
          25.92,
          130.464,
          40.096000000000004,
          20.856,
          2.8620000000000005,
          6.528000000000001,
          12.383999999999997,
          23.976000000000003,
          17.34,
          3.38,
          8.64,
          13.36,
          8.56,
          22.72,
          13.36,
          29.808,
          109.92,
          505.1760000000001,
          25.299999999999997,
          95.94,
          23.744,
          3.6479999999999992,
          53.94,
          31.104000000000006,
          19.9,
          21.240000000000002,
          57.75,
          14.940000000000001,
          1793.98,
          7.679999999999998,
          14.399999999999999,
          264.32,
          58.48,
          2.9199999999999995,
          21.864,
          3.8279999999999994,
          32.06,
          42.81,
          12.96,
          13.16,
          83.92000000000002,
          304.98999999999995,
          27.36,
          64.784,
          19.86,
          20.56,
          485.88,
          17.904,
          45,
          8.608,
          182.112,
          303.84,
          14.97,
          5.88,
          9.936,
          275.928,
          56.65,
          3.52,
          51.18399999999998,
          32.064,
          177.97999999999996,
          16.78,
          4.02,
          15.552000000000003,
          103.60000000000001,
          30.816000000000003,
          1325.8500000000001,
          26.2,
          10.896,
          166.44,
          81.92,
          21.728,
          9.64,
          5.179999999999999,
          331.96,
          357.93,
          63.92400000000001,
          10.368000000000002,
          166.84,
          2.5020000000000002,
          18.648000000000003,
          79.4,
          5.699999999999999,
          7.3,
          15.552000000000003,
          48.94,
          22.66,
          5.46,
          6.848000000000001,
          7.16,
          8.551999999999998,
          449.15,
          52.44799999999999,
          13,
          11.07,
          6.048,
          601.3,
          44.82000000000001,
          20.16,
          68.46,
          14.940000000000001,
          33.552,
          57.92999999999999,
          40.24,
          38.256,
          5.248,
          30.28,
          137.24,
          148.704,
          4.6240000000000006,
          5.892000000000001,
          182.94,
          5.67,
          92.52,
          7.16,
          67.344,
          8.56,
          20.232,
          43.92,
          75.17999999999999,
          30.98,
          21.72,
          9.96,
          2.8160000000000003,
          38.52,
          66.03,
          6.570000000000001,
          6.48,
          78.35,
          36.269999999999996,
          25.96,
          15.56,
          11.352000000000002,
          20.808000000000003,
          59.519999999999996,
          19.35,
          169.45,
          13.04,
          4.608,
          3.9840000000000004,
          331.536,
          40.68,
          404.90000000000003,
          32.400000000000006,
          139.44,
          9.84,
          34.5,
          11.12,
          12.94,
          9449.95,
          28.8,
          18.464,
          211.96,
          14.576,
          2.7239999999999993,
          33.792,
          3.2640000000000002,
          19.44,
          5.970000000000001,
          310.12,
          143.952,
          16.704,
          0.8759999999999998,
          41.376,
          32.896,
          81.98,
          10.688,
          96.256,
          46.26,
          62.18,
          807.75,
          4.224,
          1801.632,
          8.72,
          55.44,
          20.928,
          6.48,
          10.048000000000002,
          77.52,
          18.9,
          1395.54,
          43.176,
          15.552000000000003,
          69.21600000000001,
          48.94,
          795.4080000000001,
          4.71,
          12.768,
          15.36,
          4.672,
          9.408,
          1.7879999999999996,
          4.928000000000001,
          6.192,
          15.072000000000001,
          55.98400000000001,
          4.344,
          61.568,
          14.480000000000002,
          29.24,
          14.450000000000001,
          95.64800000000001,
          91.92,
          83.92000000000002,
          386.34,
          15.36,
          107.44,
          123.92,
          88.768,
          144.60000000000002,
          15.28,
          18.264000000000003,
          0.8979999999999998,
          11.979999999999997,
          255.84999999999997,
          31.92,
          201.43200000000002,
          281.904,
          7.64,
          7.31,
          14.9,
          22.240000000000002,
          21.39,
          11.52,
          213.92,
          15.18,
          315.2,
          7.752000000000001,
          18.94,
          36.4,
          19.136000000000003,
          2.9459999999999993,
          322.192,
          22.92,
          269.9,
          3.1599999999999993,
          79.45,
          7.968000000000001,
          14.352000000000002,
          10.779999999999996,
          275.96999999999997,
          1.344,
          186.912,
          61.96,
          10.048000000000002,
          52.512,
          20.064,
          18.75,
          146.73,
          13.440000000000001,
          2.9920000000000004,
          8.681999999999997,
          3.808,
          505.32000000000005,
          98.352,
          211.96,
          24.424000000000003,
          2.84,
          121.79200000000002,
          194.7,
          36.36,
          10.368000000000002,
          34.272,
          11.850000000000001,
          49.408,
          13.698000000000002,
          11.952000000000002,
          10.368000000000002,
          7.184000000000001,
          6.28,
          480.74,
          141.4,
          75.88,
          80.3,
          11.34,
          12.39,
          34.08,
          10.16,
          19.296,
          49.25,
          405.64,
          64.74000000000001,
          15.968000000000002,
          3.132,
          15.696000000000002,
          47.80800000000001,
          44.400000000000006,
          22.428000000000004,
          21.400000000000002,
          10.272000000000002,
          533.9399999999999,
          76.12,
          43.176,
          5.64,
          69.52,
          7.52,
          167.94,
          443.92,
          362.92,
          19.242,
          34.86,
          11.64,
          286.34400000000005,
          6.72,
          48.896,
          7.856000000000001,
          5.76,
          14.301000000000002,
          25.983999999999998,
          143.85600000000002,
          3.4880000000000004,
          58.24000000000001,
          2.94,
          8.376000000000001,
          43.57,
          21.936000000000003,
          19.44,
          52.064,
          1080.096,
          13.194,
          43.68,
          12.39,
          22.58,
          36.63,
          245.88,
          74.352,
          5.92,
          26.045999999999992,
          25.920000000000005,
          120.76800000000001,
          1.4759999999999995,
          123.14399999999999,
          30.18,
          40.711999999999996,
          340.92,
          92.52,
          94.85,
          62.64999999999999,
          15.84,
          535.41,
          12.84,
          3.9,
          39.84,
          62.24,
          62.94,
          262.336,
          30.48,
          3.3920000000000003,
          21.720000000000002,
          67.56,
          123.92,
          46.349999999999994,
          22.98,
          7.78,
          1.2339999999999998,
          223.92,
          896.9899999999998,
          665.88,
          2033.584,
          7.3,
          11.96,
          7.872,
          16.656000000000002,
          49.632000000000005,
          2.672,
          36.28800000000001,
          11.52,
          11.36,
          32.400000000000006,
          12.72,
          43.8,
          20.736000000000004,
          333.05600000000004,
          24.896,
          10.95,
          20.46,
          4.224,
          604.6560000000001,
          29.12,
          344.90999999999997,
          5.22,
          78.35,
          31.68,
          169.45,
          2934.33,
          57.75,
          7.080000000000001,
          2152.7760000000003,
          12.448,
          34.44,
          733.9499999999999,
          241.44,
          11.808000000000002,
          2.8919999999999995,
          1.9440000000000004,
          381.72,
          76.792,
          21.98,
          50.99700000000001,
          35.808,
          14.479999999999997,
          67.15,
          166.44,
          221.16,
          213.08,
          22.5,
          5.88,
          9.96,
          12.96,
          34.74,
          25.92,
          5.46,
          629.0999999999999,
          193.95000000000002,
          6.58,
          1.6320000000000001,
          12.96,
          6.927999999999998,
          16.23,
          9.96,
          675.12,
          9.979999999999997,
          53.82000000000001,
          319.9,
          11.36,
          23.680000000000003,
          62.80800000000001,
          21.84,
          23.472,
          14.669999999999998,
          34.175999999999995,
          12.096000000000002,
          646.2,
          151.92,
          144.12,
          485.88,
          2.624,
          196.62,
          15.96,
          5.742000000000001,
          25.92,
          197.58,
          5.904,
          320.88,
          7.4399999999999995,
          15.696000000000002,
          2.52,
          1117.92,
          26.76,
          51.016000000000005,
          7.312000000000001,
          4.32,
          669.08,
          81.98,
          14.940000000000001,
          40.54,
          12.912,
          11.52,
          93.14999999999999,
          17.088,
          15.552000000000003,
          3.76,
          85.96,
          7.36,
          41.4,
          13.12,
          64.02,
          45.660000000000004,
          14.669999999999998,
          17.248,
          43.68,
          5.04,
          12.624,
          30.4,
          25.06,
          62.28,
          6.642000000000001,
          47.992000000000004,
          46.64,
          36.28800000000001,
          15.66,
          146.82,
          15.24,
          2.3939999999999997,
          46.72,
          16.464,
          25.92,
          24.816000000000003,
          250.26,
          15,
          172.736,
          348.488,
          24.56,
          98.376,
          1113.0240000000001,
          26.46,
          29.940000000000005,
          17.472,
          49.12,
          42.208,
          53.42400000000001,
          14.015999999999996,
          4.599999999999999,
          35.168,
          1261.33,
          8.64,
          164.88,
          269.35999999999996,
          105.52,
          27.888,
          6.456,
          13.88,
          11.52,
          45.68,
          60.416,
          10.368000000000002,
          39.072,
          20.387999999999995,
          100.70400000000001,
          8.448,
          30.672,
          237.09600000000003,
          34.68,
          10.688,
          106.344,
          25.92,
          91.36,
          11.36,
          23.472,
          210.39199999999997,
          8.94,
          5.214,
          90.24,
          2.92,
          12.39,
          2.624,
          5.103999999999999,
          9.263999999999998,
          2.8960000000000004,
          1.984,
          36.28800000000001,
          114.2,
          1.1670000000000003,
          40.05,
          5.484000000000001,
          4.812,
          14.62,
          15.552000000000003,
          32.592,
          22.549999999999997,
          7.27,
          152.76,
          47.3,
          221.92000000000002,
          8.448,
          122.48,
          31.049999999999997,
          487.98400000000004,
          4.13,
          19.431999999999995,
          62.31,
          155.12,
          25.920000000000005,
          43.512,
          3.69,
          1103.97,
          17.28,
          18.240000000000002,
          216.4,
          132.16,
          11.76,
          296.71200000000005,
          124.032,
          17.903999999999996,
          5.184000000000001,
          56.519999999999996,
          45.528,
          424.27200000000005,
          1.344,
          207.24,
          83.92000000000002,
          13.97,
          142.86,
          9.568000000000001,
          20.34,
          361.96,
          227.13600000000002,
          191.88,
          18.264000000000003,
          8.016,
          78.60000000000001,
          34.656,
          81.552,
          8.689999999999998,
          11.91,
          27.552000000000003,
          11.56,
          30.016000000000005,
          4.983999999999999,
          23.92,
          946.7640000000002,
          7.86,
          10.98,
          118.16,
          37.056,
          51.449999999999996,
          12.84,
          704.25,
          998.82,
          141.76,
          99.13600000000001,
          1737.1799999999998,
          51.150000000000006,
          24.56,
          14.352000000000002,
          48.36,
          274.77,
          33.29,
          21.12,
          88.80000000000001,
          9.84,
          551.9850000000001,
          35.448,
          122.94,
          2.2859999999999996,
          12.984000000000002,
          39.128,
          14.940000000000001,
          195.64,
          18.9,
          49.568000000000005,
          29.68
         ]
        },
        {
         "name": "Technology",
         "type": "bar",
         "x": [
          "Kentucky",
          "Kentucky",
          "Texas",
          "Louisiana",
          "Georgia",
          "Pennsylvania",
          "Arkansas",
          "Virginia",
          "Virginia",
          "Wisconsin",
          "Florida",
          "Virginia",
          "Virginia",
          "New Jersey",
          "Virginia",
          "Washington",
          "Indiana",
          "New York",
          "Pennsylvania",
          "New York",
          "New York",
          "Kentucky",
          "Kentucky",
          "Utah",
          "Illinois",
          "North Carolina",
          "Florida",
          "California",
          "Florida",
          "Florida",
          "Florida",
          "Virginia",
          "California",
          "California",
          "California",
          "California",
          "New Mexico",
          "Texas",
          "Illinois",
          "Georgia",
          "California",
          "California",
          "Louisiana",
          "Virginia",
          "California",
          "Washington",
          "Pennsylvania",
          "Georgia",
          "South Carolina",
          "California",
          "Texas",
          "Montana",
          "Florida",
          "Florida",
          "Montana",
          "California",
          "California",
          "Pennsylvania",
          "Texas",
          "California",
          "North Carolina",
          "California",
          "New York",
          "Delaware",
          "Mississippi",
          "Florida",
          "Pennsylvania",
          "California",
          "California",
          "Washington",
          "California",
          "Texas",
          "Texas",
          "Texas",
          "California",
          "California",
          "Ohio",
          "Texas",
          "Virginia",
          "Alabama",
          "Alabama",
          "Pennsylvania",
          "California",
          "California",
          "California",
          "California",
          "Washington",
          "Washington",
          "Illinois",
          "New York",
          "Mississippi",
          "Mississippi",
          "Arkansas",
          "Georgia",
          "Texas",
          "California",
          "Texas",
          "California",
          "Delaware",
          "California",
          "Texas",
          "Texas",
          "New York",
          "Pennsylvania",
          "New York",
          "New Jersey",
          "Pennsylvania",
          "Virginia",
          "Pennsylvania",
          "Colorado",
          "Pennsylvania",
          "Oregon",
          "Mississippi",
          "Florida",
          "New Jersey",
          "Mississippi",
          "New York",
          "Texas",
          "New Jersey",
          "New York",
          "California",
          "Illinois",
          "Pennsylvania",
          "Illinois",
          "Pennsylvania",
          "South Dakota",
          "Connecticut",
          "California",
          "Nebraska",
          "New York",
          "California",
          "California",
          "Arizona",
          "California",
          "New York",
          "Arizona",
          "Texas",
          "Utah",
          "Nevada",
          "Nevada",
          "California",
          "Missouri",
          "Utah",
          "Maine",
          "New York",
          "California",
          "South Carolina",
          "New York",
          "California",
          "Michigan",
          "California",
          "Arizona",
          "Michigan",
          "Florida",
          "Washington",
          "Washington",
          "California",
          "Florida",
          "Georgia",
          "Arkansas",
          "Colorado",
          "Washington",
          "California",
          "California",
          "Delaware",
          "Virginia",
          "California",
          "New Mexico",
          "New York",
          "Texas",
          "Illinois",
          "Illinois",
          "Texas",
          "Texas",
          "Oklahoma",
          "New York",
          "Pennsylvania",
          "Pennsylvania",
          "Georgia",
          "Georgia",
          "Virginia",
          "California",
          "Texas",
          "Texas",
          "Pennsylvania",
          "Pennsylvania",
          "North Carolina",
          "Kansas",
          "North Carolina",
          "New York",
          "Washington",
          "Washington",
          "Pennsylvania",
          "Washington",
          "New York",
          "New York",
          "New York",
          "Oregon",
          "Oregon",
          "North Carolina",
          "Texas",
          "North Carolina",
          "Texas",
          "New York",
          "Illinois",
          "Maryland",
          "New York",
          "Washington",
          "Washington",
          "California",
          "California",
          "Ohio",
          "Illinois",
          "California",
          "Arizona",
          "Arizona",
          "Arizona",
          "Ohio",
          "California",
          "California",
          "North Carolina",
          "California",
          "Ohio",
          "Texas",
          "Texas",
          "Washington",
          "Washington",
          "Virginia",
          "Texas",
          "Massachusetts",
          "California",
          "Texas",
          "Alabama",
          "California",
          "California",
          "Illinois",
          "Pennsylvania",
          "Washington",
          "Kansas",
          "Indiana",
          "Illinois",
          "California",
          "California",
          "Arizona",
          "North Carolina",
          "Oregon",
          "Colorado",
          "California",
          "Texas",
          "Washington",
          "Ohio",
          "Ohio",
          "Washington",
          "Florida",
          "New York",
          "Nebraska",
          "New York",
          "New York",
          "New York",
          "California",
          "California",
          "Pennsylvania",
          "Pennsylvania",
          "Virginia",
          "California",
          "California",
          "California",
          "California",
          "Colorado",
          "California",
          "Washington",
          "Texas",
          "Texas",
          "Texas",
          "Texas",
          "Connecticut",
          "California",
          "Kansas",
          "California",
          "California",
          "Ohio",
          "Pennsylvania",
          "Louisiana",
          "Louisiana",
          "Louisiana",
          "New York",
          "Minnesota",
          "Pennsylvania",
          "New York",
          "California",
          "Texas",
          "Kentucky",
          "California",
          "Texas",
          "Ohio",
          "Ohio",
          "Missouri",
          "Texas",
          "California",
          "Oregon",
          "New York",
          "California",
          "Texas",
          "California",
          "Arizona",
          "Massachusetts",
          "North Carolina",
          "Ohio",
          "Georgia",
          "Ohio",
          "New York",
          "Oklahoma",
          "New York",
          "Arizona",
          "Ohio",
          "Ohio",
          "Illinois",
          "Illinois",
          "Oregon",
          "Oregon",
          "Pennsylvania",
          "Illinois",
          "New York",
          "Ohio",
          "Texas",
          "Virginia",
          "Texas",
          "California",
          "California",
          "Florida",
          "California",
          "California",
          "Illinois",
          "Colorado",
          "Texas",
          "Arizona",
          "California",
          "California",
          "California",
          "Alabama",
          "Minnesota",
          "California",
          "New Mexico",
          "California",
          "California",
          "Pennsylvania",
          "Texas",
          "Pennsylvania",
          "Texas",
          "Texas",
          "Massachusetts",
          "Missouri",
          "New York",
          "Nevada",
          "Rhode Island"
         ],
         "y": [
          391.98,
          755.96,
          31.200000000000003,
          646.74,
          149.95,
          124.19999999999999,
          699.93,
          155.35,
          187.98,
          468.90000000000003,
          180.96,
          161.61,
          144.95,
          115.36,
          234.45000000000002,
          239.96999999999997,
          62.31,
          5.9399999999999995,
          151.20000000000002,
          9.99,
          479.97,
          32.96,
          587.97,
          82.80000000000001,
          574.91,
          471.92,
          821.3,
          1279.968,
          22638.48,
          323.97600000000006,
          170.24,
          3499.9300000000003,
          604.752,
          45.48,
          66.30000000000001,
          28.784,
          302.376,
          251.94400000000002,
          79.98400000000001,
          1049.93,
          62.31,
          159.98,
          99.98,
          28.99,
          299.96999999999997,
          33.9,
          116.78399999999999,
          200.96999999999997,
          629.9499999999999,
          399.96,
          758.3520000000001,
          217.44,
          383.97600000000006,
          335.944,
          105.584,
          438.36800000000005,
          1075.088,
          71.928,
          227.976,
          287.968,
          302.376,
          1679.96,
          159.98,
          19.98,
          47.79,
          479.98400000000004,
          1799.9699999999998,
          67.8,
          167.97,
          43.6,
          1432.0000000000002,
          58.112,
          100.792,
          46.864000000000004,
          149.97,
          56.400000000000006,
          779.796,
          20.784000000000002,
          617.97,
          135.98,
          44.95,
          55.188,
          201.584,
          83.98400000000001,
          99.99,
          1113.504,
          27.6,
          57.40800000000001,
          719.9760000000001,
          464,
          659.97,
          113.72999999999999,
          881.93,
          239.96999999999997,
          63.98400000000001,
          911.424,
          7.992000000000001,
          907.152,
          65.97,
          139.8,
          418.8,
          201.584,
          1214.85,
          206.99100000000004,
          617.97,
          1322.93,
          95.968,
          284.82,
          82.78200000000001,
          196.752,
          86.376,
          263.96000000000004,
          223.96,
          575.92,
          73.98,
          479.97,
          559.9920000000001,
          575.9680000000001,
          197.96999999999997,
          164.85000000000002,
          255.93600000000004,
          23.840000000000003,
          23.987999999999996,
          38.272000000000006,
          13.493999999999998,
          2.9699999999999998,
          359.98,
          41.94,
          35.98,
          159.98,
          45,
          302.376,
          479.04,
          604.752,
          99.98,
          1023.9360000000001,
          431.136,
          111.93,
          911.984,
          170.97,
          238,
          21.2,
          399.96000000000004,
          255.42,
          135.99,
          16.36,
          62.91,
          199.98,
          1199.976,
          299.98,
          445.96000000000004,
          95.97600000000001,
          549.99,
          178.38400000000001,
          219.168,
          1091.1680000000001,
          806.336,
          158.928,
          272.61,
          339.96,
          143.64000000000001,
          1007.9440000000002,
          95.1,
          176.8,
          149.97,
          579.9499999999999,
          213.48000000000002,
          92.52,
          357,
          559.71,
          239.976,
          475.944,
          196.776,
          46.688,
          104.85000000000001,
          377.96999999999997,
          32.382,
          399.54,
          32.97,
          83.88,
          209.96999999999997,
          49.98,
          8159.951999999999,
          143.976,
          64.70400000000001,
          135.516,
          1299.99,
          57.400000000000006,
          15.216000000000001,
          69.99,
          144.96,
          118,
          252.00000000000003,
          199.98,
          2799.96,
          16.99,
          287.96999999999997,
          29.925,
          55.92,
          47.984,
          2519.9579999999996,
          2624.985,
          3059.982,
          629.9499999999999,
          11.120000000000001,
          59.98,
          1349.91,
          246.38400000000001,
          1799.97,
          239.98400000000004,
          83.98400000000001,
          3.152,
          153.824,
          686.32,
          7.16,
          230.376,
          318.40000000000003,
          142.488,
          99.98,
          9.09,
          23.472,
          15.991999999999999,
          101.99400000000001,
          755.9440000000002,
          719.9520000000001,
          345,
          25.78,
          22.96,
          1999.96,
          177,
          179.97,
          119.97600000000001,
          1394.95,
          117.57600000000002,
          321.552,
          319.968,
          40.775999999999996,
          383.96000000000004,
          257.98,
          1.98,
          2735.952,
          251.91,
          73.584,
          742.336,
          978.8399999999999,
          155.976,
          1983.968,
          46.384,
          88.77600000000001,
          52.792,
          539.9639999999999,
          50.232,
          41.94,
          799.9200000000001,
          783.96,
          89.97,
          3991.98,
          275.94,
          360,
          666.344,
          447.9680000000001,
          58.416,
          51.56,
          47.79,
          333.576,
          703.9680000000001,
          601.536,
          10.99,
          559.984,
          575.928,
          102.13,
          241.176,
          148.48,
          79.51200000000001,
          127.984,
          832.93,
          772.47,
          273.96,
          79.968,
          99.98,
          9.588,
          539.9639999999999,
          29,
          503.96,
          149.95,
          4548.81,
          281.96999999999997,
          47.496,
          833.94,
          94.99,
          267.96,
          36.99,
          29.99,
          5.5440000000000005,
          1502.376,
          1049.97,
          111.79,
          24.672,
          539.92,
          438.336,
          279.96,
          139.92999999999998,
          998.8499999999999,
          575.92,
          102.24000000000001,
          271.9,
          95.968,
          659.9879999999999,
          5.95,
          119.80000000000001,
          119.96,
          479.96,
          129.98,
          167.96800000000002,
          36.738,
          179.93999999999997,
          408.74399999999997,
          35.04,
          52.67999999999999,
          103.92000000000002,
          1079.9759999999999,
          35.016000000000005,
          6999.96,
          263.96,
          40.68,
          99.98,
          319.968,
          395,
          627.1680000000001,
          247.8,
          211.168,
          583.8,
          323.97600000000006,
          447.94399999999996,
          65.44,
          71.976,
          818.3760000000001,
          62.849999999999994,
          173.65600000000003,
          498,
          119.8,
          767.9520000000001,
          23.976000000000003,
          319.968,
          191.976,
          27.968000000000004,
          217.58400000000003,
          251.96399999999994,
          47.984,
          328.77600000000007,
          113.97,
          47.53,
          34.769999999999996,
          475.944,
          1687.8
         ]
        }
       ],
       "layout": {
        "barmode": "stack",
        "template": {
         "data": {
          "bar": [
           {
            "error_x": {
             "color": "#2a3f5f"
            },
            "error_y": {
             "color": "#2a3f5f"
            },
            "marker": {
             "line": {
              "color": "#E5ECF6",
              "width": 0.5
             },
             "pattern": {
              "fillmode": "overlay",
              "size": 10,
              "solidity": 0.2
             }
            },
            "type": "bar"
           }
          ],
          "barpolar": [
           {
            "marker": {
             "line": {
              "color": "#E5ECF6",
              "width": 0.5
             },
             "pattern": {
              "fillmode": "overlay",
              "size": 10,
              "solidity": 0.2
             }
            },
            "type": "barpolar"
           }
          ],
          "carpet": [
           {
            "aaxis": {
             "endlinecolor": "#2a3f5f",
             "gridcolor": "white",
             "linecolor": "white",
             "minorgridcolor": "white",
             "startlinecolor": "#2a3f5f"
            },
            "baxis": {
             "endlinecolor": "#2a3f5f",
             "gridcolor": "white",
             "linecolor": "white",
             "minorgridcolor": "white",
             "startlinecolor": "#2a3f5f"
            },
            "type": "carpet"
           }
          ],
          "choropleth": [
           {
            "colorbar": {
             "outlinewidth": 0,
             "ticks": ""
            },
            "type": "choropleth"
           }
          ],
          "contour": [
           {
            "colorbar": {
             "outlinewidth": 0,
             "ticks": ""
            },
            "colorscale": [
             [
              0,
              "#0d0887"
             ],
             [
              0.1111111111111111,
              "#46039f"
             ],
             [
              0.2222222222222222,
              "#7201a8"
             ],
             [
              0.3333333333333333,
              "#9c179e"
             ],
             [
              0.4444444444444444,
              "#bd3786"
             ],
             [
              0.5555555555555556,
              "#d8576b"
             ],
             [
              0.6666666666666666,
              "#ed7953"
             ],
             [
              0.7777777777777778,
              "#fb9f3a"
             ],
             [
              0.8888888888888888,
              "#fdca26"
             ],
             [
              1,
              "#f0f921"
             ]
            ],
            "type": "contour"
           }
          ],
          "contourcarpet": [
           {
            "colorbar": {
             "outlinewidth": 0,
             "ticks": ""
            },
            "type": "contourcarpet"
           }
          ],
          "heatmap": [
           {
            "colorbar": {
             "outlinewidth": 0,
             "ticks": ""
            },
            "colorscale": [
             [
              0,
              "#0d0887"
             ],
             [
              0.1111111111111111,
              "#46039f"
             ],
             [
              0.2222222222222222,
              "#7201a8"
             ],
             [
              0.3333333333333333,
              "#9c179e"
             ],
             [
              0.4444444444444444,
              "#bd3786"
             ],
             [
              0.5555555555555556,
              "#d8576b"
             ],
             [
              0.6666666666666666,
              "#ed7953"
             ],
             [
              0.7777777777777778,
              "#fb9f3a"
             ],
             [
              0.8888888888888888,
              "#fdca26"
             ],
             [
              1,
              "#f0f921"
             ]
            ],
            "type": "heatmap"
           }
          ],
          "heatmapgl": [
           {
            "colorbar": {
             "outlinewidth": 0,
             "ticks": ""
            },
            "colorscale": [
             [
              0,
              "#0d0887"
             ],
             [
              0.1111111111111111,
              "#46039f"
             ],
             [
              0.2222222222222222,
              "#7201a8"
             ],
             [
              0.3333333333333333,
              "#9c179e"
             ],
             [
              0.4444444444444444,
              "#bd3786"
             ],
             [
              0.5555555555555556,
              "#d8576b"
             ],
             [
              0.6666666666666666,
              "#ed7953"
             ],
             [
              0.7777777777777778,
              "#fb9f3a"
             ],
             [
              0.8888888888888888,
              "#fdca26"
             ],
             [
              1,
              "#f0f921"
             ]
            ],
            "type": "heatmapgl"
           }
          ],
          "histogram": [
           {
            "marker": {
             "pattern": {
              "fillmode": "overlay",
              "size": 10,
              "solidity": 0.2
             }
            },
            "type": "histogram"
           }
          ],
          "histogram2d": [
           {
            "colorbar": {
             "outlinewidth": 0,
             "ticks": ""
            },
            "colorscale": [
             [
              0,
              "#0d0887"
             ],
             [
              0.1111111111111111,
              "#46039f"
             ],
             [
              0.2222222222222222,
              "#7201a8"
             ],
             [
              0.3333333333333333,
              "#9c179e"
             ],
             [
              0.4444444444444444,
              "#bd3786"
             ],
             [
              0.5555555555555556,
              "#d8576b"
             ],
             [
              0.6666666666666666,
              "#ed7953"
             ],
             [
              0.7777777777777778,
              "#fb9f3a"
             ],
             [
              0.8888888888888888,
              "#fdca26"
             ],
             [
              1,
              "#f0f921"
             ]
            ],
            "type": "histogram2d"
           }
          ],
          "histogram2dcontour": [
           {
            "colorbar": {
             "outlinewidth": 0,
             "ticks": ""
            },
            "colorscale": [
             [
              0,
              "#0d0887"
             ],
             [
              0.1111111111111111,
              "#46039f"
             ],
             [
              0.2222222222222222,
              "#7201a8"
             ],
             [
              0.3333333333333333,
              "#9c179e"
             ],
             [
              0.4444444444444444,
              "#bd3786"
             ],
             [
              0.5555555555555556,
              "#d8576b"
             ],
             [
              0.6666666666666666,
              "#ed7953"
             ],
             [
              0.7777777777777778,
              "#fb9f3a"
             ],
             [
              0.8888888888888888,
              "#fdca26"
             ],
             [
              1,
              "#f0f921"
             ]
            ],
            "type": "histogram2dcontour"
           }
          ],
          "mesh3d": [
           {
            "colorbar": {
             "outlinewidth": 0,
             "ticks": ""
            },
            "type": "mesh3d"
           }
          ],
          "parcoords": [
           {
            "line": {
             "colorbar": {
              "outlinewidth": 0,
              "ticks": ""
             }
            },
            "type": "parcoords"
           }
          ],
          "pie": [
           {
            "automargin": true,
            "type": "pie"
           }
          ],
          "scatter": [
           {
            "fillpattern": {
             "fillmode": "overlay",
             "size": 10,
             "solidity": 0.2
            },
            "type": "scatter"
           }
          ],
          "scatter3d": [
           {
            "line": {
             "colorbar": {
              "outlinewidth": 0,
              "ticks": ""
             }
            },
            "marker": {
             "colorbar": {
              "outlinewidth": 0,
              "ticks": ""
             }
            },
            "type": "scatter3d"
           }
          ],
          "scattercarpet": [
           {
            "marker": {
             "colorbar": {
              "outlinewidth": 0,
              "ticks": ""
             }
            },
            "type": "scattercarpet"
           }
          ],
          "scattergeo": [
           {
            "marker": {
             "colorbar": {
              "outlinewidth": 0,
              "ticks": ""
             }
            },
            "type": "scattergeo"
           }
          ],
          "scattergl": [
           {
            "marker": {
             "colorbar": {
              "outlinewidth": 0,
              "ticks": ""
             }
            },
            "type": "scattergl"
           }
          ],
          "scattermapbox": [
           {
            "marker": {
             "colorbar": {
              "outlinewidth": 0,
              "ticks": ""
             }
            },
            "type": "scattermapbox"
           }
          ],
          "scatterpolar": [
           {
            "marker": {
             "colorbar": {
              "outlinewidth": 0,
              "ticks": ""
             }
            },
            "type": "scatterpolar"
           }
          ],
          "scatterpolargl": [
           {
            "marker": {
             "colorbar": {
              "outlinewidth": 0,
              "ticks": ""
             }
            },
            "type": "scatterpolargl"
           }
          ],
          "scatterternary": [
           {
            "marker": {
             "colorbar": {
              "outlinewidth": 0,
              "ticks": ""
             }
            },
            "type": "scatterternary"
           }
          ],
          "surface": [
           {
            "colorbar": {
             "outlinewidth": 0,
             "ticks": ""
            },
            "colorscale": [
             [
              0,
              "#0d0887"
             ],
             [
              0.1111111111111111,
              "#46039f"
             ],
             [
              0.2222222222222222,
              "#7201a8"
             ],
             [
              0.3333333333333333,
              "#9c179e"
             ],
             [
              0.4444444444444444,
              "#bd3786"
             ],
             [
              0.5555555555555556,
              "#d8576b"
             ],
             [
              0.6666666666666666,
              "#ed7953"
             ],
             [
              0.7777777777777778,
              "#fb9f3a"
             ],
             [
              0.8888888888888888,
              "#fdca26"
             ],
             [
              1,
              "#f0f921"
             ]
            ],
            "type": "surface"
           }
          ],
          "table": [
           {
            "cells": {
             "fill": {
              "color": "#EBF0F8"
             },
             "line": {
              "color": "white"
             }
            },
            "header": {
             "fill": {
              "color": "#C8D4E3"
             },
             "line": {
              "color": "white"
             }
            },
            "type": "table"
           }
          ]
         },
         "layout": {
          "annotationdefaults": {
           "arrowcolor": "#2a3f5f",
           "arrowhead": 0,
           "arrowwidth": 1
          },
          "autotypenumbers": "strict",
          "coloraxis": {
           "colorbar": {
            "outlinewidth": 0,
            "ticks": ""
           }
          },
          "colorscale": {
           "diverging": [
            [
             0,
             "#8e0152"
            ],
            [
             0.1,
             "#c51b7d"
            ],
            [
             0.2,
             "#de77ae"
            ],
            [
             0.3,
             "#f1b6da"
            ],
            [
             0.4,
             "#fde0ef"
            ],
            [
             0.5,
             "#f7f7f7"
            ],
            [
             0.6,
             "#e6f5d0"
            ],
            [
             0.7,
             "#b8e186"
            ],
            [
             0.8,
             "#7fbc41"
            ],
            [
             0.9,
             "#4d9221"
            ],
            [
             1,
             "#276419"
            ]
           ],
           "sequential": [
            [
             0,
             "#0d0887"
            ],
            [
             0.1111111111111111,
             "#46039f"
            ],
            [
             0.2222222222222222,
             "#7201a8"
            ],
            [
             0.3333333333333333,
             "#9c179e"
            ],
            [
             0.4444444444444444,
             "#bd3786"
            ],
            [
             0.5555555555555556,
             "#d8576b"
            ],
            [
             0.6666666666666666,
             "#ed7953"
            ],
            [
             0.7777777777777778,
             "#fb9f3a"
            ],
            [
             0.8888888888888888,
             "#fdca26"
            ],
            [
             1,
             "#f0f921"
            ]
           ],
           "sequentialminus": [
            [
             0,
             "#0d0887"
            ],
            [
             0.1111111111111111,
             "#46039f"
            ],
            [
             0.2222222222222222,
             "#7201a8"
            ],
            [
             0.3333333333333333,
             "#9c179e"
            ],
            [
             0.4444444444444444,
             "#bd3786"
            ],
            [
             0.5555555555555556,
             "#d8576b"
            ],
            [
             0.6666666666666666,
             "#ed7953"
            ],
            [
             0.7777777777777778,
             "#fb9f3a"
            ],
            [
             0.8888888888888888,
             "#fdca26"
            ],
            [
             1,
             "#f0f921"
            ]
           ]
          },
          "colorway": [
           "#636efa",
           "#EF553B",
           "#00cc96",
           "#ab63fa",
           "#FFA15A",
           "#19d3f3",
           "#FF6692",
           "#B6E880",
           "#FF97FF",
           "#FECB52"
          ],
          "font": {
           "color": "#2a3f5f"
          },
          "geo": {
           "bgcolor": "white",
           "lakecolor": "white",
           "landcolor": "#E5ECF6",
           "showlakes": true,
           "showland": true,
           "subunitcolor": "white"
          },
          "hoverlabel": {
           "align": "left"
          },
          "hovermode": "closest",
          "mapbox": {
           "style": "light"
          },
          "paper_bgcolor": "white",
          "plot_bgcolor": "#E5ECF6",
          "polar": {
           "angularaxis": {
            "gridcolor": "white",
            "linecolor": "white",
            "ticks": ""
           },
           "bgcolor": "#E5ECF6",
           "radialaxis": {
            "gridcolor": "white",
            "linecolor": "white",
            "ticks": ""
           }
          },
          "scene": {
           "xaxis": {
            "backgroundcolor": "#E5ECF6",
            "gridcolor": "white",
            "gridwidth": 2,
            "linecolor": "white",
            "showbackground": true,
            "ticks": "",
            "zerolinecolor": "white"
           },
           "yaxis": {
            "backgroundcolor": "#E5ECF6",
            "gridcolor": "white",
            "gridwidth": 2,
            "linecolor": "white",
            "showbackground": true,
            "ticks": "",
            "zerolinecolor": "white"
           },
           "zaxis": {
            "backgroundcolor": "#E5ECF6",
            "gridcolor": "white",
            "gridwidth": 2,
            "linecolor": "white",
            "showbackground": true,
            "ticks": "",
            "zerolinecolor": "white"
           }
          },
          "shapedefaults": {
           "line": {
            "color": "#2a3f5f"
           }
          },
          "ternary": {
           "aaxis": {
            "gridcolor": "white",
            "linecolor": "white",
            "ticks": ""
           },
           "baxis": {
            "gridcolor": "white",
            "linecolor": "white",
            "ticks": ""
           },
           "bgcolor": "#E5ECF6",
           "caxis": {
            "gridcolor": "white",
            "linecolor": "white",
            "ticks": ""
           }
          },
          "title": {
           "x": 0.05
          },
          "xaxis": {
           "automargin": true,
           "gridcolor": "white",
           "linecolor": "white",
           "ticks": "",
           "title": {
            "standoff": 15
           },
           "zerolinecolor": "white",
           "zerolinewidth": 2
          },
          "yaxis": {
           "automargin": true,
           "gridcolor": "white",
           "linecolor": "white",
           "ticks": "",
           "title": {
            "standoff": 15
           },
           "zerolinecolor": "white",
           "zerolinewidth": 2
          }
         }
        },
        "title": {
         "text": "Revenue by State and Product Category"
        }
       }
      }
     },
     "metadata": {},
     "output_type": "display_data"
    }
   ],
   "source": [
    "\n",
    "fig = go.Figure(data=[\n",
    "    go.Bar(name='Furniture', x=df['State'][df['Category'] == 'Furniture'], y=df['Sales'][df['Category'] == 'Furniture']),\n",
    "    go.Bar(name='Office Supplies', x=df['State'][df['Category'] == 'Office Supplies'], y=df['Sales'][df['Category'] == 'Office Supplies']),\n",
    "    go.Bar(name='Technology', x=df['State'][df['Category'] == 'Technology'], y=df['Sales'][df['Category'] == 'Technology'])\n",
    "])\n",
    "\n",
    "# Change the bar mode to stack\n",
    "fig.update_layout(barmode='stack', title_text='Revenue by State and Product Category')\n",
    "\n",
    "# Show the figure\n",
    "fig.show()"
   ]
  },
  {
   "attachments": {},
   "cell_type": "markdown",
   "metadata": {
    "id": "a1XDvjVAimiG"
   },
   "source": [
    "## 5. Create an interactive line chart showing sale by day for California."
   ]
  },
  {
   "cell_type": "code",
   "execution_count": 103,
   "metadata": {},
   "outputs": [
    {
     "data": {
      "text/html": [
       "<div>\n",
       "<style scoped>\n",
       "    .dataframe tbody tr th:only-of-type {\n",
       "        vertical-align: middle;\n",
       "    }\n",
       "\n",
       "    .dataframe tbody tr th {\n",
       "        vertical-align: top;\n",
       "    }\n",
       "\n",
       "    .dataframe thead th {\n",
       "        text-align: right;\n",
       "    }\n",
       "</style>\n",
       "<table border=\"1\" class=\"dataframe\">\n",
       "  <thead>\n",
       "    <tr style=\"text-align: right;\">\n",
       "      <th></th>\n",
       "      <th>Order Date</th>\n",
       "      <th>Sales</th>\n",
       "    </tr>\n",
       "  </thead>\n",
       "  <tbody>\n",
       "    <tr>\n",
       "      <th>0</th>\n",
       "      <td>2014-01-06</td>\n",
       "      <td>19.440</td>\n",
       "    </tr>\n",
       "    <tr>\n",
       "      <th>1</th>\n",
       "      <td>2014-01-13</td>\n",
       "      <td>1679.749</td>\n",
       "    </tr>\n",
       "    <tr>\n",
       "      <th>2</th>\n",
       "      <td>2014-01-20</td>\n",
       "      <td>38.660</td>\n",
       "    </tr>\n",
       "    <tr>\n",
       "      <th>3</th>\n",
       "      <td>2014-01-27</td>\n",
       "      <td>426.670</td>\n",
       "    </tr>\n",
       "    <tr>\n",
       "      <th>4</th>\n",
       "      <td>2014-01-31</td>\n",
       "      <td>290.666</td>\n",
       "    </tr>\n",
       "    <tr>\n",
       "      <th>...</th>\n",
       "      <td>...</td>\n",
       "      <td>...</td>\n",
       "    </tr>\n",
       "    <tr>\n",
       "      <th>138</th>\n",
       "      <td>2014-12-24</td>\n",
       "      <td>1910.274</td>\n",
       "    </tr>\n",
       "    <tr>\n",
       "      <th>139</th>\n",
       "      <td>2014-12-26</td>\n",
       "      <td>15.390</td>\n",
       "    </tr>\n",
       "    <tr>\n",
       "      <th>140</th>\n",
       "      <td>2014-12-27</td>\n",
       "      <td>362.026</td>\n",
       "    </tr>\n",
       "    <tr>\n",
       "      <th>141</th>\n",
       "      <td>2014-12-28</td>\n",
       "      <td>1049.970</td>\n",
       "    </tr>\n",
       "    <tr>\n",
       "      <th>142</th>\n",
       "      <td>2014-12-29</td>\n",
       "      <td>1774.398</td>\n",
       "    </tr>\n",
       "  </tbody>\n",
       "</table>\n",
       "<p>143 rows × 2 columns</p>\n",
       "</div>"
      ],
      "text/plain": [
       "    Order Date     Sales\n",
       "0   2014-01-06    19.440\n",
       "1   2014-01-13  1679.749\n",
       "2   2014-01-20    38.660\n",
       "3   2014-01-27   426.670\n",
       "4   2014-01-31   290.666\n",
       "..         ...       ...\n",
       "138 2014-12-24  1910.274\n",
       "139 2014-12-26    15.390\n",
       "140 2014-12-27   362.026\n",
       "141 2014-12-28  1049.970\n",
       "142 2014-12-29  1774.398\n",
       "\n",
       "[143 rows x 2 columns]"
      ]
     },
     "execution_count": 103,
     "metadata": {},
     "output_type": "execute_result"
    }
   ],
   "source": [
    "dfcalsales = df_california.groupby(\"Order Date\")[\"Sales\"].sum().reset_index()\n",
    "dfcalsales"
   ]
  },
  {
   "cell_type": "code",
   "execution_count": 104,
   "metadata": {
    "id": "5n_65PIQimiH"
   },
   "outputs": [
    {
     "data": {
      "application/vnd.plotly.v1+json": {
       "config": {
        "plotlyServerURL": "https://plot.ly"
       },
       "data": [
        {
         "mode": "lines",
         "name": "Ventas",
         "type": "scatter",
         "x": [
          "2014-01-06T00:00:00",
          "2014-01-13T00:00:00",
          "2014-01-20T00:00:00",
          "2014-01-27T00:00:00",
          "2014-01-31T00:00:00",
          "2014-02-02T00:00:00",
          "2014-02-04T00:00:00",
          "2014-02-12T00:00:00",
          "2014-02-20T00:00:00",
          "2014-02-22T00:00:00",
          "2014-03-03T00:00:00",
          "2014-03-11T00:00:00",
          "2014-03-14T00:00:00",
          "2014-03-18T00:00:00",
          "2014-03-23T00:00:00",
          "2014-03-24T00:00:00",
          "2014-03-25T00:00:00",
          "2014-03-26T00:00:00",
          "2014-03-30T00:00:00",
          "2014-03-31T00:00:00",
          "2014-04-01T00:00:00",
          "2014-04-03T00:00:00",
          "2014-04-04T00:00:00",
          "2014-04-06T00:00:00",
          "2014-04-08T00:00:00",
          "2014-04-12T00:00:00",
          "2014-04-15T00:00:00",
          "2014-04-18T00:00:00",
          "2014-04-19T00:00:00",
          "2014-04-20T00:00:00",
          "2014-04-21T00:00:00",
          "2014-04-23T00:00:00",
          "2014-04-25T00:00:00",
          "2014-04-26T00:00:00",
          "2014-04-28T00:00:00",
          "2014-05-06T00:00:00",
          "2014-05-09T00:00:00",
          "2014-05-10T00:00:00",
          "2014-05-13T00:00:00",
          "2014-05-16T00:00:00",
          "2014-05-21T00:00:00",
          "2014-05-26T00:00:00",
          "2014-05-27T00:00:00",
          "2014-06-09T00:00:00",
          "2014-06-13T00:00:00",
          "2014-06-18T00:00:00",
          "2014-06-25T00:00:00",
          "2014-06-30T00:00:00",
          "2014-07-05T00:00:00",
          "2014-07-06T00:00:00",
          "2014-07-08T00:00:00",
          "2014-07-09T00:00:00",
          "2014-07-12T00:00:00",
          "2014-07-13T00:00:00",
          "2014-07-20T00:00:00",
          "2014-07-21T00:00:00",
          "2014-07-22T00:00:00",
          "2014-07-23T00:00:00",
          "2014-07-25T00:00:00",
          "2014-07-27T00:00:00",
          "2014-08-01T00:00:00",
          "2014-08-05T00:00:00",
          "2014-08-08T00:00:00",
          "2014-08-09T00:00:00",
          "2014-08-12T00:00:00",
          "2014-08-15T00:00:00",
          "2014-08-19T00:00:00",
          "2014-08-23T00:00:00",
          "2014-08-25T00:00:00",
          "2014-08-26T00:00:00",
          "2014-08-27T00:00:00",
          "2014-08-29T00:00:00",
          "2014-09-01T00:00:00",
          "2014-09-06T00:00:00",
          "2014-09-07T00:00:00",
          "2014-09-08T00:00:00",
          "2014-09-11T00:00:00",
          "2014-09-17T00:00:00",
          "2014-09-19T00:00:00",
          "2014-09-20T00:00:00",
          "2014-09-21T00:00:00",
          "2014-09-22T00:00:00",
          "2014-09-23T00:00:00",
          "2014-09-24T00:00:00",
          "2014-09-26T00:00:00",
          "2014-09-27T00:00:00",
          "2014-09-29T00:00:00",
          "2014-10-03T00:00:00",
          "2014-10-04T00:00:00",
          "2014-10-05T00:00:00",
          "2014-10-06T00:00:00",
          "2014-10-09T00:00:00",
          "2014-10-10T00:00:00",
          "2014-10-11T00:00:00",
          "2014-10-12T00:00:00",
          "2014-10-16T00:00:00",
          "2014-10-19T00:00:00",
          "2014-10-21T00:00:00",
          "2014-10-24T00:00:00",
          "2014-10-25T00:00:00",
          "2014-10-28T00:00:00",
          "2014-10-31T00:00:00",
          "2014-11-01T00:00:00",
          "2014-11-02T00:00:00",
          "2014-11-03T00:00:00",
          "2014-11-04T00:00:00",
          "2014-11-05T00:00:00",
          "2014-11-07T00:00:00",
          "2014-11-08T00:00:00",
          "2014-11-09T00:00:00",
          "2014-11-10T00:00:00",
          "2014-11-11T00:00:00",
          "2014-11-12T00:00:00",
          "2014-11-15T00:00:00",
          "2014-11-16T00:00:00",
          "2014-11-17T00:00:00",
          "2014-11-21T00:00:00",
          "2014-11-22T00:00:00",
          "2014-11-23T00:00:00",
          "2014-11-24T00:00:00",
          "2014-11-25T00:00:00",
          "2014-11-26T00:00:00",
          "2014-11-28T00:00:00",
          "2014-11-29T00:00:00",
          "2014-12-01T00:00:00",
          "2014-12-05T00:00:00",
          "2014-12-06T00:00:00",
          "2014-12-07T00:00:00",
          "2014-12-08T00:00:00",
          "2014-12-09T00:00:00",
          "2014-12-12T00:00:00",
          "2014-12-13T00:00:00",
          "2014-12-15T00:00:00",
          "2014-12-16T00:00:00",
          "2014-12-19T00:00:00",
          "2014-12-20T00:00:00",
          "2014-12-21T00:00:00",
          "2014-12-22T00:00:00",
          "2014-12-24T00:00:00",
          "2014-12-26T00:00:00",
          "2014-12-27T00:00:00",
          "2014-12-28T00:00:00",
          "2014-12-29T00:00:00"
         ],
         "y": [
          19.44,
          1679.749,
          38.66,
          426.67,
          290.666,
          12.350000000000001,
          134.38400000000001,
          129.568,
          12.96,
          19.44,
          626.3520000000001,
          7.98,
          13.940000000000001,
          4445.488,
          935.1519999999999,
          40.48,
          92.36,
          145.13000000000002,
          205.666,
          726.5480000000001,
          46.688,
          233.45,
          26.084,
          636.478,
          499.55199999999996,
          1879.723,
          294.71999999999997,
          323.458,
          76.14,
          59.92,
          16.520000000000003,
          48.91,
          2061.0099999999998,
          282.56800000000004,
          1679.96,
          254.456,
          235.76999999999998,
          1769.7840000000003,
          437.42600000000004,
          289.28,
          31.84,
          801.5300000000001,
          2139.934,
          3744.7640000000006,
          14.52,
          139.8,
          447.84,
          32.400000000000006,
          180.96000000000004,
          478.48,
          699.192,
          240.801,
          1211.75,
          351.216,
          891.466,
          1173.616,
          1155.7720000000002,
          992.828,
          8341.289999999999,
          514.28,
          19.752000000000002,
          550.1640000000001,
          2473.096,
          26.86,
          891.7760000000001,
          505.282,
          358.696,
          49.568000000000005,
          176.14,
          176.8,
          244.76000000000002,
          123.28,
          53.94,
          100.36,
          131.84,
          134.228,
          127.94999999999999,
          182.94,
          12.83,
          104.392,
          451.28400000000005,
          210.13,
          519.9830000000001,
          211.96,
          750.5600000000001,
          685.9,
          968.3000000000001,
          265.784,
          110.09800000000001,
          99.98,
          9.09,
          160.592,
          137.632,
          473.12800000000004,
          36.29,
          194.322,
          641.104,
          36.36,
          34.272,
          49.408,
          1252.602,
          1081.52,
          65.80000000000001,
          409.30400000000003,
          6.72,
          1767.6960000000001,
          20.04,
          123.14399999999999,
          333.576,
          1517.574,
          807.6859999999999,
          850.7560000000001,
          641.0240000000001,
          813.9900000000001,
          736.0725,
          1075.37,
          114.53,
          53.82000000000001,
          1037.19,
          272.432,
          1644.2240000000002,
          149.092,
          643.702,
          606.3199999999999,
          58.199999999999996,
          340.84,
          1261.33,
          173.51999999999998,
          119.32,
          34.68,
          4704.5405,
          90.24,
          6.16,
          2712.1160000000004,
          832.1379999999999,
          694.5340000000001,
          1897.92,
          11.76,
          1910.2740000000001,
          15.39,
          362.02600000000007,
          1049.97,
          1774.3980000000001
         ]
        }
       ],
       "layout": {
        "template": {
         "data": {
          "bar": [
           {
            "error_x": {
             "color": "#2a3f5f"
            },
            "error_y": {
             "color": "#2a3f5f"
            },
            "marker": {
             "line": {
              "color": "#E5ECF6",
              "width": 0.5
             },
             "pattern": {
              "fillmode": "overlay",
              "size": 10,
              "solidity": 0.2
             }
            },
            "type": "bar"
           }
          ],
          "barpolar": [
           {
            "marker": {
             "line": {
              "color": "#E5ECF6",
              "width": 0.5
             },
             "pattern": {
              "fillmode": "overlay",
              "size": 10,
              "solidity": 0.2
             }
            },
            "type": "barpolar"
           }
          ],
          "carpet": [
           {
            "aaxis": {
             "endlinecolor": "#2a3f5f",
             "gridcolor": "white",
             "linecolor": "white",
             "minorgridcolor": "white",
             "startlinecolor": "#2a3f5f"
            },
            "baxis": {
             "endlinecolor": "#2a3f5f",
             "gridcolor": "white",
             "linecolor": "white",
             "minorgridcolor": "white",
             "startlinecolor": "#2a3f5f"
            },
            "type": "carpet"
           }
          ],
          "choropleth": [
           {
            "colorbar": {
             "outlinewidth": 0,
             "ticks": ""
            },
            "type": "choropleth"
           }
          ],
          "contour": [
           {
            "colorbar": {
             "outlinewidth": 0,
             "ticks": ""
            },
            "colorscale": [
             [
              0,
              "#0d0887"
             ],
             [
              0.1111111111111111,
              "#46039f"
             ],
             [
              0.2222222222222222,
              "#7201a8"
             ],
             [
              0.3333333333333333,
              "#9c179e"
             ],
             [
              0.4444444444444444,
              "#bd3786"
             ],
             [
              0.5555555555555556,
              "#d8576b"
             ],
             [
              0.6666666666666666,
              "#ed7953"
             ],
             [
              0.7777777777777778,
              "#fb9f3a"
             ],
             [
              0.8888888888888888,
              "#fdca26"
             ],
             [
              1,
              "#f0f921"
             ]
            ],
            "type": "contour"
           }
          ],
          "contourcarpet": [
           {
            "colorbar": {
             "outlinewidth": 0,
             "ticks": ""
            },
            "type": "contourcarpet"
           }
          ],
          "heatmap": [
           {
            "colorbar": {
             "outlinewidth": 0,
             "ticks": ""
            },
            "colorscale": [
             [
              0,
              "#0d0887"
             ],
             [
              0.1111111111111111,
              "#46039f"
             ],
             [
              0.2222222222222222,
              "#7201a8"
             ],
             [
              0.3333333333333333,
              "#9c179e"
             ],
             [
              0.4444444444444444,
              "#bd3786"
             ],
             [
              0.5555555555555556,
              "#d8576b"
             ],
             [
              0.6666666666666666,
              "#ed7953"
             ],
             [
              0.7777777777777778,
              "#fb9f3a"
             ],
             [
              0.8888888888888888,
              "#fdca26"
             ],
             [
              1,
              "#f0f921"
             ]
            ],
            "type": "heatmap"
           }
          ],
          "heatmapgl": [
           {
            "colorbar": {
             "outlinewidth": 0,
             "ticks": ""
            },
            "colorscale": [
             [
              0,
              "#0d0887"
             ],
             [
              0.1111111111111111,
              "#46039f"
             ],
             [
              0.2222222222222222,
              "#7201a8"
             ],
             [
              0.3333333333333333,
              "#9c179e"
             ],
             [
              0.4444444444444444,
              "#bd3786"
             ],
             [
              0.5555555555555556,
              "#d8576b"
             ],
             [
              0.6666666666666666,
              "#ed7953"
             ],
             [
              0.7777777777777778,
              "#fb9f3a"
             ],
             [
              0.8888888888888888,
              "#fdca26"
             ],
             [
              1,
              "#f0f921"
             ]
            ],
            "type": "heatmapgl"
           }
          ],
          "histogram": [
           {
            "marker": {
             "pattern": {
              "fillmode": "overlay",
              "size": 10,
              "solidity": 0.2
             }
            },
            "type": "histogram"
           }
          ],
          "histogram2d": [
           {
            "colorbar": {
             "outlinewidth": 0,
             "ticks": ""
            },
            "colorscale": [
             [
              0,
              "#0d0887"
             ],
             [
              0.1111111111111111,
              "#46039f"
             ],
             [
              0.2222222222222222,
              "#7201a8"
             ],
             [
              0.3333333333333333,
              "#9c179e"
             ],
             [
              0.4444444444444444,
              "#bd3786"
             ],
             [
              0.5555555555555556,
              "#d8576b"
             ],
             [
              0.6666666666666666,
              "#ed7953"
             ],
             [
              0.7777777777777778,
              "#fb9f3a"
             ],
             [
              0.8888888888888888,
              "#fdca26"
             ],
             [
              1,
              "#f0f921"
             ]
            ],
            "type": "histogram2d"
           }
          ],
          "histogram2dcontour": [
           {
            "colorbar": {
             "outlinewidth": 0,
             "ticks": ""
            },
            "colorscale": [
             [
              0,
              "#0d0887"
             ],
             [
              0.1111111111111111,
              "#46039f"
             ],
             [
              0.2222222222222222,
              "#7201a8"
             ],
             [
              0.3333333333333333,
              "#9c179e"
             ],
             [
              0.4444444444444444,
              "#bd3786"
             ],
             [
              0.5555555555555556,
              "#d8576b"
             ],
             [
              0.6666666666666666,
              "#ed7953"
             ],
             [
              0.7777777777777778,
              "#fb9f3a"
             ],
             [
              0.8888888888888888,
              "#fdca26"
             ],
             [
              1,
              "#f0f921"
             ]
            ],
            "type": "histogram2dcontour"
           }
          ],
          "mesh3d": [
           {
            "colorbar": {
             "outlinewidth": 0,
             "ticks": ""
            },
            "type": "mesh3d"
           }
          ],
          "parcoords": [
           {
            "line": {
             "colorbar": {
              "outlinewidth": 0,
              "ticks": ""
             }
            },
            "type": "parcoords"
           }
          ],
          "pie": [
           {
            "automargin": true,
            "type": "pie"
           }
          ],
          "scatter": [
           {
            "fillpattern": {
             "fillmode": "overlay",
             "size": 10,
             "solidity": 0.2
            },
            "type": "scatter"
           }
          ],
          "scatter3d": [
           {
            "line": {
             "colorbar": {
              "outlinewidth": 0,
              "ticks": ""
             }
            },
            "marker": {
             "colorbar": {
              "outlinewidth": 0,
              "ticks": ""
             }
            },
            "type": "scatter3d"
           }
          ],
          "scattercarpet": [
           {
            "marker": {
             "colorbar": {
              "outlinewidth": 0,
              "ticks": ""
             }
            },
            "type": "scattercarpet"
           }
          ],
          "scattergeo": [
           {
            "marker": {
             "colorbar": {
              "outlinewidth": 0,
              "ticks": ""
             }
            },
            "type": "scattergeo"
           }
          ],
          "scattergl": [
           {
            "marker": {
             "colorbar": {
              "outlinewidth": 0,
              "ticks": ""
             }
            },
            "type": "scattergl"
           }
          ],
          "scattermapbox": [
           {
            "marker": {
             "colorbar": {
              "outlinewidth": 0,
              "ticks": ""
             }
            },
            "type": "scattermapbox"
           }
          ],
          "scatterpolar": [
           {
            "marker": {
             "colorbar": {
              "outlinewidth": 0,
              "ticks": ""
             }
            },
            "type": "scatterpolar"
           }
          ],
          "scatterpolargl": [
           {
            "marker": {
             "colorbar": {
              "outlinewidth": 0,
              "ticks": ""
             }
            },
            "type": "scatterpolargl"
           }
          ],
          "scatterternary": [
           {
            "marker": {
             "colorbar": {
              "outlinewidth": 0,
              "ticks": ""
             }
            },
            "type": "scatterternary"
           }
          ],
          "surface": [
           {
            "colorbar": {
             "outlinewidth": 0,
             "ticks": ""
            },
            "colorscale": [
             [
              0,
              "#0d0887"
             ],
             [
              0.1111111111111111,
              "#46039f"
             ],
             [
              0.2222222222222222,
              "#7201a8"
             ],
             [
              0.3333333333333333,
              "#9c179e"
             ],
             [
              0.4444444444444444,
              "#bd3786"
             ],
             [
              0.5555555555555556,
              "#d8576b"
             ],
             [
              0.6666666666666666,
              "#ed7953"
             ],
             [
              0.7777777777777778,
              "#fb9f3a"
             ],
             [
              0.8888888888888888,
              "#fdca26"
             ],
             [
              1,
              "#f0f921"
             ]
            ],
            "type": "surface"
           }
          ],
          "table": [
           {
            "cells": {
             "fill": {
              "color": "#EBF0F8"
             },
             "line": {
              "color": "white"
             }
            },
            "header": {
             "fill": {
              "color": "#C8D4E3"
             },
             "line": {
              "color": "white"
             }
            },
            "type": "table"
           }
          ]
         },
         "layout": {
          "annotationdefaults": {
           "arrowcolor": "#2a3f5f",
           "arrowhead": 0,
           "arrowwidth": 1
          },
          "autotypenumbers": "strict",
          "coloraxis": {
           "colorbar": {
            "outlinewidth": 0,
            "ticks": ""
           }
          },
          "colorscale": {
           "diverging": [
            [
             0,
             "#8e0152"
            ],
            [
             0.1,
             "#c51b7d"
            ],
            [
             0.2,
             "#de77ae"
            ],
            [
             0.3,
             "#f1b6da"
            ],
            [
             0.4,
             "#fde0ef"
            ],
            [
             0.5,
             "#f7f7f7"
            ],
            [
             0.6,
             "#e6f5d0"
            ],
            [
             0.7,
             "#b8e186"
            ],
            [
             0.8,
             "#7fbc41"
            ],
            [
             0.9,
             "#4d9221"
            ],
            [
             1,
             "#276419"
            ]
           ],
           "sequential": [
            [
             0,
             "#0d0887"
            ],
            [
             0.1111111111111111,
             "#46039f"
            ],
            [
             0.2222222222222222,
             "#7201a8"
            ],
            [
             0.3333333333333333,
             "#9c179e"
            ],
            [
             0.4444444444444444,
             "#bd3786"
            ],
            [
             0.5555555555555556,
             "#d8576b"
            ],
            [
             0.6666666666666666,
             "#ed7953"
            ],
            [
             0.7777777777777778,
             "#fb9f3a"
            ],
            [
             0.8888888888888888,
             "#fdca26"
            ],
            [
             1,
             "#f0f921"
            ]
           ],
           "sequentialminus": [
            [
             0,
             "#0d0887"
            ],
            [
             0.1111111111111111,
             "#46039f"
            ],
            [
             0.2222222222222222,
             "#7201a8"
            ],
            [
             0.3333333333333333,
             "#9c179e"
            ],
            [
             0.4444444444444444,
             "#bd3786"
            ],
            [
             0.5555555555555556,
             "#d8576b"
            ],
            [
             0.6666666666666666,
             "#ed7953"
            ],
            [
             0.7777777777777778,
             "#fb9f3a"
            ],
            [
             0.8888888888888888,
             "#fdca26"
            ],
            [
             1,
             "#f0f921"
            ]
           ]
          },
          "colorway": [
           "#636efa",
           "#EF553B",
           "#00cc96",
           "#ab63fa",
           "#FFA15A",
           "#19d3f3",
           "#FF6692",
           "#B6E880",
           "#FF97FF",
           "#FECB52"
          ],
          "font": {
           "color": "#2a3f5f"
          },
          "geo": {
           "bgcolor": "white",
           "lakecolor": "white",
           "landcolor": "#E5ECF6",
           "showlakes": true,
           "showland": true,
           "subunitcolor": "white"
          },
          "hoverlabel": {
           "align": "left"
          },
          "hovermode": "closest",
          "mapbox": {
           "style": "light"
          },
          "paper_bgcolor": "white",
          "plot_bgcolor": "#E5ECF6",
          "polar": {
           "angularaxis": {
            "gridcolor": "white",
            "linecolor": "white",
            "ticks": ""
           },
           "bgcolor": "#E5ECF6",
           "radialaxis": {
            "gridcolor": "white",
            "linecolor": "white",
            "ticks": ""
           }
          },
          "scene": {
           "xaxis": {
            "backgroundcolor": "#E5ECF6",
            "gridcolor": "white",
            "gridwidth": 2,
            "linecolor": "white",
            "showbackground": true,
            "ticks": "",
            "zerolinecolor": "white"
           },
           "yaxis": {
            "backgroundcolor": "#E5ECF6",
            "gridcolor": "white",
            "gridwidth": 2,
            "linecolor": "white",
            "showbackground": true,
            "ticks": "",
            "zerolinecolor": "white"
           },
           "zaxis": {
            "backgroundcolor": "#E5ECF6",
            "gridcolor": "white",
            "gridwidth": 2,
            "linecolor": "white",
            "showbackground": true,
            "ticks": "",
            "zerolinecolor": "white"
           }
          },
          "shapedefaults": {
           "line": {
            "color": "#2a3f5f"
           }
          },
          "ternary": {
           "aaxis": {
            "gridcolor": "white",
            "linecolor": "white",
            "ticks": ""
           },
           "baxis": {
            "gridcolor": "white",
            "linecolor": "white",
            "ticks": ""
           },
           "bgcolor": "#E5ECF6",
           "caxis": {
            "gridcolor": "white",
            "linecolor": "white",
            "ticks": ""
           }
          },
          "title": {
           "x": 0.05
          },
          "xaxis": {
           "automargin": true,
           "gridcolor": "white",
           "linecolor": "white",
           "ticks": "",
           "title": {
            "standoff": 15
           },
           "zerolinecolor": "white",
           "zerolinewidth": 2
          },
          "yaxis": {
           "automargin": true,
           "gridcolor": "white",
           "linecolor": "white",
           "ticks": "",
           "title": {
            "standoff": 15
           },
           "zerolinecolor": "white",
           "zerolinewidth": 2
          }
         }
        },
        "title": {
         "text": "Sales by day in California"
        },
        "xaxis": {
         "title": {
          "text": "Fechas"
         }
        },
        "yaxis": {
         "title": {
          "text": "Total (€)"
         }
        }
       }
      }
     },
     "metadata": {},
     "output_type": "display_data"
    }
   ],
   "source": [
    "\n",
    "trace1 = go.Scatter(x=dfcalsales['Order Date'],\n",
    "                     y=dfcalsales['Sales'],\n",
    "                    mode='lines', name='Ventas')\n",
    "\n",
    "data = [trace1]\n",
    "\n",
    "layout = go.Layout(title='Sales by day in California',\n",
    "                   xaxis_title='Fechas',\n",
    "                   yaxis_title='Total (€)')\n",
    "\n",
    "fig = go.Figure(data = data, layout = layout)\n",
    "\n",
    "fig.show()"
   ]
  }
 ],
 "metadata": {
  "colab": {
   "name": "widgets_plotly_superstore_enunciado.ipynb",
   "provenance": []
  },
  "kernelspec": {
   "display_name": "Python 3.9.12 ('new_basic_ds')",
   "language": "python",
   "name": "python3"
  },
  "language_info": {
   "codemirror_mode": {
    "name": "ipython",
    "version": 3
   },
   "file_extension": ".py",
   "mimetype": "text/x-python",
   "name": "python",
   "nbconvert_exporter": "python",
   "pygments_lexer": "ipython3",
   "version": "3.10.14"
  },
  "vscode": {
   "interpreter": {
    "hash": "e1732bae284a8d06ed853deb97b261ca711a69998aeddea0e76e3a1575b80769"
   }
  }
 },
 "nbformat": 4,
 "nbformat_minor": 4
}
