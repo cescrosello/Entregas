{
 "cells": [
  {
   "cell_type": "markdown",
   "metadata": {},
   "source": [
    "![imagen](./img/ejercicios.png)"
   ]
  },
  {
   "cell_type": "markdown",
   "metadata": {},
   "source": [
    "# Ejercicios funciones\n",
    "## Ejercicio 1\n",
    "Escribe una función que convierta números del 1 al 7 en nombres de los dias de la semana. La función constará de un único argumento numérico y una salida de tipo string"
   ]
  },
  {
   "cell_type": "code",
   "execution_count": 24,
   "metadata": {},
   "outputs": [
    {
     "data": {
      "text/plain": [
       "'Miércoles'"
      ]
     },
     "execution_count": 24,
     "metadata": {},
     "output_type": "execute_result"
    }
   ],
   "source": [
    "num_sem = {1:\"Lunes\",2:\"Martes\", 3:\"Miércoles\", 4:\"Jueves\", 5:\"Viernes\", 6:\"Sábado\", 7:\"Domingo\"}\n",
    "\n",
    "def dia(num):\n",
    "    if num in num_sem.keys():\n",
    "        return num_sem[num]\n",
    "    else:\n",
    "        return \"error\"\n",
    "\n",
    "dia(3)\n"
   ]
  },
  {
   "cell_type": "code",
   "execution_count": 25,
   "metadata": {},
   "outputs": [
    {
     "data": {
      "text/plain": [
       "'Miércoles'"
      ]
     },
     "execution_count": 25,
     "metadata": {},
     "output_type": "execute_result"
    }
   ],
   "source": [
    "def dia(numero):\n",
    "    if numero == 1:\n",
    "        return \"Lunes\"\n",
    "    elif numero == 2:\n",
    "        return \"Martes\"\n",
    "    elif numero == 3:\n",
    "        return \"Miércoles\"\n",
    "    elif numero == 4:\n",
    "        return \"Jueves\"\n",
    "    elif numero == 5:\n",
    "        return \"Viernes\"\n",
    "    elif numero == 6:\n",
    "        return \"Sábado\"\n",
    "    elif numero == 7:\n",
    "        return \"Domingo\"\n",
    "    else:\n",
    "        return \"N/A\"\n",
    "\n",
    "dia(3)\n",
    "\n",
    "        "
   ]
  },
  {
   "cell_type": "code",
   "execution_count": 5,
   "metadata": {},
   "outputs": [
    {
     "data": {
      "text/plain": [
       "'Miércoles'"
      ]
     },
     "execution_count": 5,
     "metadata": {},
     "output_type": "execute_result"
    }
   ],
   "source": [
    "dia(3)"
   ]
  },
  {
   "cell_type": "markdown",
   "metadata": {},
   "source": [
    "## Ejercicio 2\n",
    "En el ejercicio 8 de flujos de control, creábamos una pirámide invertida de números desde el 5. Crea una función que replique el comportamiento de la pirámide, y utiliza un único parámetro de entrada de la función para determinar el número de filas de la pirámide."
   ]
  },
  {
   "cell_type": "code",
   "execution_count": 39,
   "metadata": {},
   "outputs": [
    {
     "name": "stdout",
     "output_type": "stream",
     "text": [
      "10 9 8 7 6 5 4 3 2 1 \n",
      "9 8 7 6 5 4 3 2 1 \n",
      "8 7 6 5 4 3 2 1 \n",
      "7 6 5 4 3 2 1 \n",
      "6 5 4 3 2 1 \n",
      "5 4 3 2 1 \n",
      "4 3 2 1 \n",
      "3 2 1 \n",
      "2 1 \n",
      "1 \n",
      "\n"
     ]
    }
   ],
   "source": [
    "def piramide(num):\n",
    "    for i in range(num+1,0,-1):\n",
    "        for j in range(i-1,0,-1):\n",
    "            print (j,end= \" \")\n",
    "        print(\"\")\n",
    "    return None\n",
    "        \n",
    "piramide(10)\n"
   ]
  },
  {
   "cell_type": "markdown",
   "metadata": {},
   "source": [
    "## Ejercicio 3\n",
    "Escribe una función que compare dos números. La función tiene dos argumentos y hay tres salidas posibles: que sean iguales, que el primero sea  mayor que el segundo, o que el segundo sea mayor que el primero"
   ]
  },
  {
   "cell_type": "code",
   "execution_count": 43,
   "metadata": {},
   "outputs": [
    {
     "name": "stdout",
     "output_type": "stream",
     "text": [
      "11.5 es menor que 115\n"
     ]
    }
   ],
   "source": [
    "def comparador (i,j):\n",
    "    if i == j:\n",
    "        return print(f\"{i} es igual que {j}\")\n",
    "    elif i > j:\n",
    "        return print(f\"{i} es mayor que {j}\")\n",
    "    elif i < j:\n",
    "        return print(f\"{i} es menor que {j}\")\n",
    "    else:\n",
    "        return \"error\"\n",
    "\n",
    "comparador (11.5,115)"
   ]
  },
  {
   "attachments": {},
   "cell_type": "markdown",
   "metadata": {},
   "source": [
    "## Ejercicio 4\n",
    "Escribe una función que sea un contador de letras. En el primer argumento tienes que introducir un texto, y el segundo que sea una letra que contar. La función tiene que devolver un entero con el número de veces que aparece esa letra, tanto mayúscula, como minúscula"
   ]
  },
  {
   "cell_type": "code",
   "execution_count": 55,
   "metadata": {},
   "outputs": [
    {
     "name": "stdout",
     "output_type": "stream",
     "text": [
      "La letra 'i' se repite 6 veces.\n"
     ]
    }
   ],
   "source": [
    "def contador (texto,letra):\n",
    "    rep = 0\n",
    "    for l in texto:\n",
    "        if letra == l:\n",
    "            rep = rep + 1\n",
    "        else:\n",
    "            continue\n",
    "    return print(f\"La letra '{letra}' se repite {rep} veces.\")\n",
    "\n",
    "contador(\"supercalifragilisticoespialidoso\", \"i\")\n",
    "        "
   ]
  },
  {
   "cell_type": "markdown",
   "metadata": {},
   "source": [
    "## Ejercicio 5\n",
    "Escribe una función que tenga un único argumento, un string. La salida de la función tiene que ser un diccionario con el conteo de todas las letras de ese string, siendo la clave la letra y el valor el conteo."
   ]
  },
  {
   "cell_type": "code",
   "execution_count": 60,
   "metadata": {},
   "outputs": [
    {
     "data": {
      "text/plain": [
       "{'e': 1, 'u': 2, 'r': 3, 'o': 4, 'p': 5, 'a': 6}"
      ]
     },
     "execution_count": 60,
     "metadata": {},
     "output_type": "execute_result"
    }
   ],
   "source": [
    "def descuartizador(word):\n",
    "    dic_word = {}\n",
    "    cont = 0\n",
    "    for i in word:\n",
    "        cont = cont + 1\n",
    "        dic_word[i] = cont\n",
    "    return dic_word\n",
    "\n",
    "descuartizador(\"europa\")\n",
    "\n"
   ]
  },
  {
   "cell_type": "markdown",
   "metadata": {},
   "source": [
    "## Ejercicio 6\n",
    "Escribir una función que añada o elimine elementos en una lista. La función necesita los siguientes argumentos:\n",
    "* lista: la lista donde se añadirán o eliminarán los elementos\n",
    "* comando: \"add\" o \"remove\"\n",
    "* elemento: Por defecto es None.\n",
    "\n",
    "Tendrá como salida la lista"
   ]
  },
  {
   "cell_type": "code",
   "execution_count": 72,
   "metadata": {},
   "outputs": [
    {
     "data": {
      "text/plain": [
       "['perro', 'gato', 'conejo']"
      ]
     },
     "execution_count": 72,
     "metadata": {},
     "output_type": "execute_result"
    }
   ],
   "source": [
    "def mod_lista(lista, comando, elemento=None):\n",
    "    if elemento != None:\n",
    "        if comando == \"add\":\n",
    "                lista.append(elemento)\n",
    "                return lista\n",
    "        elif comando == \"remove\":\n",
    "                 if elemento in lista:\n",
    "                    lista.remove(elemento)\n",
    "                    return lista\n",
    "                 else:\n",
    "                    return print(f\"no existe '{elemento}' en la lista.\")\n",
    "        else:\n",
    "            return \"comando erroneo\"\n",
    "    else:\n",
    "         return \"no se ha indicado ningun elemento a operar\"\n",
    "\n",
    "mod_lista ([\"perro\", \"gato\"],\"add\",\"conejo\")"
   ]
  },
  {
   "cell_type": "markdown",
   "metadata": {},
   "source": [
    "## Ejercicio 7\n",
    "Crea una función que reciba un número arbitrario de palabras, y devuelva una frase completa, separando las palabras con espacios."
   ]
  },
  {
   "cell_type": "code",
   "execution_count": 74,
   "metadata": {},
   "outputs": [
    {
     "data": {
      "text/plain": [
       "'A ver si sale la función'"
      ]
     },
     "execution_count": 74,
     "metadata": {},
     "output_type": "execute_result"
    }
   ],
   "source": [
    "def encadena(*args):\n",
    "    return \" \".join(args)\n",
    "\n",
    "encadena (\"A\", \"ver\", \"si\", \"sale\", \"la\", \"función\")"
   ]
  },
  {
   "cell_type": "markdown",
   "metadata": {},
   "source": [
    "## Ejercicio 8\n",
    "Escribe un programa que obtenga el enésimo número de la [serie de Fibonacci](https://es.wikipedia.org/wiki/Sucesi%C3%B3n_de_Fibonacci). Tienes que crear una función recursiva con un único argumento.\n",
    "\n",
    "```Python\n",
    "fibonacci(2) = 1\n",
    "fibonacci(4) = 3\n",
    "fibonacci(5) = 5\n",
    "fibonacci(8) = 21\n",
    "```"
   ]
  },
  {
   "attachments": {},
   "cell_type": "markdown",
   "metadata": {},
   "source": [
    "fibonacci(n) = fibonacci(n-1) + fibonacci(n-2)"
   ]
  },
  {
   "cell_type": "code",
   "execution_count": 82,
   "metadata": {},
   "outputs": [
    {
     "data": {
      "text/plain": [
       "55"
      ]
     },
     "execution_count": 82,
     "metadata": {},
     "output_type": "execute_result"
    }
   ],
   "source": [
    "def fibo (x):\n",
    "    if x < 2:\n",
    "        return x\n",
    "    return fibo(x-1) + fibo(x-2)\n",
    "\n",
    "fibo(10)"
   ]
  },
  {
   "attachments": {},
   "cell_type": "markdown",
   "metadata": {},
   "source": [
    "## Ejercicio 9\n",
    "Define en una única celda las siguientes funciones:\n",
    "* Función que calcule el área de un cuadrado\n",
    "* Función que calcule el área de un triángulo\n",
    "* Función que calcule el área de un círculo\n",
    "\n",
    "En otra celda, calcular el area de:\n",
    "* Dos círculos de radio 10 + un triángulo de base 3 y altura 7\n",
    "* Un cuadrado de lado = 10 + 3 círculos (uno de radio = 4 y los otros dos de radio = 6) + 5 triángulos de base = 2 + altura = 4"
   ]
  },
  {
   "cell_type": "code",
   "execution_count": 102,
   "metadata": {},
   "outputs": [],
   "source": [
    "def a_cua(lado):\n",
    "    return lado * lado\n",
    "\n",
    "def a_tri(base, altura):\n",
    "    return (base*altura)/2\n",
    "\n",
    "def a_cir(radio):\n",
    "    return 3.1416 * (radio**2)"
   ]
  },
  {
   "cell_type": "code",
   "execution_count": 106,
   "metadata": {},
   "outputs": [
    {
     "name": "stdout",
     "output_type": "stream",
     "text": [
      "638.8199999999999\n",
      "306.4608\n"
     ]
    }
   ],
   "source": [
    "area_total = 2*(a_cir(10)) + a_tri(3,7)\n",
    "print(area_total)\n",
    "\n",
    "area_loca = 10 + a_cir(4) + (2*a_cir(6)) + (5 * a_tri(2,4))\n",
    "print(area_loca)"
   ]
  },
  {
   "cell_type": "markdown",
   "metadata": {},
   "source": [
    "# Importar funciones"
   ]
  },
  {
   "cell_type": "code",
   "execution_count": null,
   "metadata": {},
   "outputs": [],
   "source": [
    "a"
   ]
  }
 ],
 "metadata": {
  "kernelspec": {
   "display_name": "Python 3.7.4 64-bit",
   "language": "python",
   "name": "python3"
  },
  "language_info": {
   "codemirror_mode": {
    "name": "ipython",
    "version": 3
   },
   "file_extension": ".py",
   "mimetype": "text/x-python",
   "name": "python",
   "nbconvert_exporter": "python",
   "pygments_lexer": "ipython3",
   "version": "3.12.2"
  },
  "vscode": {
   "interpreter": {
    "hash": "90139cb9a825bf3d63f6f6704e828dbd1ff7edbd4d0c6e906a71235d6efc74af"
   }
  }
 },
 "nbformat": 4,
 "nbformat_minor": 4
}
