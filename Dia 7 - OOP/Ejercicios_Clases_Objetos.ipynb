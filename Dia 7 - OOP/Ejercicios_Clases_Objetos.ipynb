{
 "cells": [
  {
   "cell_type": "markdown",
   "metadata": {},
   "source": [
    "![imagen](./img/ejercicios.png)\n",
    "\n",
    "# Ejercicios Clases y Objetos"
   ]
  },
  {
   "attachments": {},
   "cell_type": "markdown",
   "metadata": {},
   "source": [
    "## Ejercicio 1\n",
    "Somos una empresa que tiene varias tiendas de electrodomésticos. Necesitamos un programa para manejar las tiendas, ver las ventas que han tenido, cuántos empleados hay, etc... Para ello vamos a modelizar la tienda en una clase, que tendrá las siguientes características:\n",
    "* Nombre clase: \"Tienda\"\n",
    "* Atributos comunes:\n",
    "    * Tipo: \"Electrodomésticos\"\n",
    "    * Abierta: True\n",
    "* Atributos propios de cada tienda:\n",
    "    * Nombre - String\n",
    "    * Dirección - String\n",
    "    * Número de empleados - int\n",
    "    * Ventas últimos 3 meses - Lista de 3 numeros\n",
    "* Método para calcular las ventas de todos los meses, que devuelva un número con todas las ventas.\n",
    "* Método que calcula la media de ventas de los últimos meses, por empleado\n",
    "* Método que devuelve en un string el nombre de la tienda, junto con su dirección.\n",
    "* Método que obtiene las ventas del último mes.\n",
    "* Método para dar una proyección de las ventas en caso de haber invertido X dinero en marketing en esa tienda. Siendo X el parámetro de entrada. Si X es menor de 1000, las ventas de los ultimos 3 meses hubiesen sido de (1.2 x ventas), si es mayor o igual de 1000, las ventas hubiesen sido de (1.5 x venta). El método reescribe el atributo de ventas en los últimos 3 meses, y además devuelve las ventas con el aumento.\n",
    "\n",
    "Se pide:\n",
    "1. Implementar la clase \"Tienda\"\n",
    "2. Crear tres tiendas con datos inventados\n",
    "3. Comprueba en al menos una de ellas, todo lo implementado en la clase tienda (sus atributos, media de ventas, ventas/empleado...)\n",
    "3. Calcular las ventas del último mes de todas las tiendas. Para ello usa el bucle `for`\n",
    "4. Imprime por pantalla los nombres de las tiendas cuya dirección lleve el string \"Avenida\"\n",
    "5. Seguro que ya has hecho este apartado... Documenta la clase :)"
   ]
  },
  {
   "cell_type": "code",
   "execution_count": 70,
   "metadata": {},
   "outputs": [],
   "source": [
    "# 1. Implementamos la clase Tienda\n",
    "\n",
    "class Tienda:\n",
    "    tipo = \"Electrodomésticos\"\n",
    "    abierta = True\n",
    "    \n",
    "    def __init__(self, nombre, dirección, n_empleados, venta_3):\n",
    "        self.nombre = nombre\n",
    "        self.dirección = dirección\n",
    "        self.n_empleados = n_empleados\n",
    "        self.venta_3 = venta_3\n",
    "\n",
    "    def venta_3_total (self):\n",
    "        print(sum(self.venta_3),\"€\")\n",
    "        \n",
    "    def venta_empleado (self):\n",
    "        print(sum(self.venta_3)/ self.n_empleados,\"€/empleado\")\n",
    "    \n",
    "    def datos_tienda (self):\n",
    "        print(f\"{self.nombre}\\n{self.dirección}\")\n",
    "    \n",
    "    def venta_1 (self):\n",
    "        self.venta_1 = self.venta_3[-1]\n",
    "        print(f\"{self.venta_3[-1]} €\")\n",
    "    \n",
    "    def venta_3_inver (self, inversion):\n",
    "        if inversion < 1000:\n",
    "            for venta in range(len(self.venta_3)):\n",
    "                self.venta_3[venta] *= 1.2\n",
    "            print(self.venta_3)\n",
    "        elif inversion >= 1000:\n",
    "            for venta in range(len(self.venta_3)):\n",
    "                self.venta_3[venta] *= 1.5\n",
    "            print(self.venta_3)\n",
    "        else:\n",
    "            return \"error en el dato de inversión\"\n",
    "        "
   ]
  },
  {
   "cell_type": "code",
   "execution_count": 101,
   "metadata": {},
   "outputs": [],
   "source": [
    "# 2. Creamos 3 tiendas.\n",
    "\n",
    "Serrano = Tienda(\"MM_Serrano\", \"Calle Serrano 56\", 200, [100000, 120000,68000])\n",
    "\n",
    "Gran_Via = Tienda(\"MM Gran Vía\", \"Calle Gran via 2\", 300, [150000, 140000, 180000])\n",
    "\n",
    "America = Tienda(\"MM America\", \"Avenida de America 103\", 180, [98000, 100000, 101000])"
   ]
  },
  {
   "cell_type": "code",
   "execution_count": 102,
   "metadata": {},
   "outputs": [
    {
     "name": "stdout",
     "output_type": "stream",
     "text": [
      "MM America\n",
      "Avenida de America 103\n",
      "\n",
      "299000 €\n",
      "1661.111111111111 €/empleado\n",
      "101000 €\n",
      "[117600.0, 120000.0, 121200.0]\n"
     ]
    }
   ],
   "source": [
    "# 3. Comprobamos los datos en almenos una de ellas:\n",
    "\n",
    "America.datos_tienda()\n",
    "print()\n",
    "America.venta_3_total()\n",
    "\n",
    "America.venta_empleado()\n",
    "America.venta_1()\n",
    "America.venta_3_inver(500)\n",
    "\n",
    "\n",
    "\n"
   ]
  },
  {
   "cell_type": "code",
   "execution_count": 103,
   "metadata": {},
   "outputs": [
    {
     "name": "stdout",
     "output_type": "stream",
     "text": [
      "Ventas último mes:\n",
      "MM_Serrano - 68000 €\n",
      "MM America - 121200.0 €\n",
      "MM Gran Vía - 180000 €\n"
     ]
    }
   ],
   "source": [
    "#4. Calcular las ventas del último mes de todas las tiendas. Para ello usa el bucle `for`.\n",
    "\n",
    "tiendas = [Serrano, America, Gran_Via]\n",
    "\n",
    "print(\"Ventas último mes:\")\n",
    "for tienda in tiendas:\n",
    "    print( tienda.nombre ,\"-\", tienda.venta_3[-1], \"€\")\n"
   ]
  },
  {
   "cell_type": "code",
   "execution_count": 110,
   "metadata": {},
   "outputs": [
    {
     "name": "stdout",
     "output_type": "stream",
     "text": [
      "La tienda MM America está situada en una Avendia.\n"
     ]
    }
   ],
   "source": [
    "#5. Imprime por pantalla los nombres de las tiendas cuya dirección lleve el string \"Avenida\"\n",
    "\n",
    "for tienda in tiendas:\n",
    "    if \"Avenida\" in tienda.dirección:\n",
    "        print(\"La tienda\", tienda.nombre, \"está situada en una Avendia.\")"
   ]
  },
  {
   "cell_type": "code",
   "execution_count": 111,
   "metadata": {},
   "outputs": [],
   "source": [
    "#6. documenta la clase:\n",
    "\n",
    "class Tienda:\n",
    "    \"\"\"\n",
    "    Una clase que representa una tienda de electrodomésticos.\n",
    "    Atributos:\n",
    "    - tipo (str): Tipo de tienda, por defecto es \"Electrodomésticos\".\n",
    "    - abierta (bool): Indica si la tienda está abierta o cerrada, por defecto está abierta.\n",
    "    \n",
    "    Métodos:\n",
    "    - __init__: Constructor de la clase que inicializa una instancia de la tienda con nombre, dirección, número de empleados y ventas.\n",
    "    - venta_3_total: Método que imprime la suma total de las ventas del último trimestre.\n",
    "    - venta_empleado: Método que imprime la media de ventas por empleado en el último trimestre.\n",
    "    - datos_tienda: Método que imprime el nombre y la dirección de la tienda.\n",
    "    - venta_1: Método que imprime la venta del último mes.\n",
    "    - venta_3_inver: Método que ajusta las ventas del último trimestre suponiendo de una inversión dada.\n",
    "    \"\"\"\n",
    "\n",
    "    tipo = \"Electrodomésticos\"\n",
    "    abierta = True\n",
    "    \n",
    "    def __init__(self, nombre, dirección, n_empleados, venta_3):\n",
    "        self.nombre = nombre\n",
    "        self.dirección = dirección\n",
    "        self.n_empleados = n_empleados\n",
    "        self.venta_3 = venta_3\n",
    "\n",
    "    def venta_3_total(self):\n",
    "        print(sum(self.venta_3),\"€\")\n",
    "        \n",
    "    def venta_empleado(self):\n",
    "        print(sum(self.venta_3)/ self.n_empleados,\"€/empleado\")\n",
    "    \n",
    "    def datos_tienda(self):\n",
    "        print(f\"{self.nombre}\\n{self.dirección}\")\n",
    "    \n",
    "    def venta_1(self):\n",
    "        self.venta_1 = self.venta_3[-1]\n",
    "        print(f\"{self.venta_3[-1]} €\")\n",
    "    \n",
    "    def venta_3_inver(self, inversion):\n",
    "        if inversion < 1000:\n",
    "            for venta in range(len(self.venta_3)):\n",
    "                self.venta_3[venta] *= 1.2\n",
    "            print(self.venta_3)\n",
    "        elif inversion >= 1000:\n",
    "            for venta in range(len(self.venta_3)):\n",
    "                self.venta_3[venta] *= 1.5\n",
    "            print(self.venta_3)\n",
    "        else:\n",
    "            return \"error en el dato de inversión\"\n"
   ]
  },
  {
   "cell_type": "markdown",
   "metadata": {},
   "source": [
    "## Ejercicio 2\n",
    "En este ejercicio vamos a implementar una clase *Perro* en Python. La clase tiene las siguientes características:\n",
    "* Cosas que sabemos seguro que tiene un perro\n",
    "    * Tiene 4 patas\n",
    "    * 2 orejas\n",
    "    * 2 ojos\n",
    "    * Una velocidad de 0. Por defecto, el perro está parado\n",
    "* Cuando se inicialice:\n",
    "    * El perro será de una determinada raza\n",
    "    * Por defecto tendrá pelo \"Marrón\", a no ser que se diga lo contrario.\n",
    "    * Por defecto no tendrá dueño, a no ser que se diga lo contrario.\n",
    "    \n",
    "* Dispondrá también de un método llamado andar, que tiene un argumento de entrada (aumento_velocidad). Este valor se le sumará a la velocidad que ya llevaba el perro.\n",
    "* Necesita otro método (parar), donde pondremos la velocidad a 0.\n",
    "* Otro método llamado \"ladrar\", que tendrá un argumento de entrada, y la salida será el siguiente string: \"GUAU!\" + el argumento de entrada.\n",
    "\n",
    "\n",
    "Se pide:\n",
    "* Implementa la clase *Perro*\n",
    "* Crea un objeto de tipo *Perro*, sin dueño\n",
    "* Comprueba que están bien todos sus atributos\n",
    "* Prueba que ande, y comprueba su velocidad\n",
    "* Páralo\n",
    "* Documenta la clase *Perro*"
   ]
  },
  {
   "cell_type": "code",
   "execution_count": 137,
   "metadata": {},
   "outputs": [],
   "source": [
    "#1. implementamos clase perro:\n",
    "class Perro:\n",
    "    patas = 4\n",
    "    orejas = 2\n",
    "    ojos = 2\n",
    "    velocidad = 0\n",
    "    \n",
    "    def __init__(self, raza, pelo = \"marrón\", dueño = \"no\"):\n",
    "        self.raza = raza\n",
    "        self.pelo = pelo\n",
    "        self.dueño = dueño\n",
    "    \n",
    "    def andar (self, aumento_velocidad):\n",
    "        self.velocidad += aumento_velocidad\n",
    "        print(\"velocidad actual:\", self.velocidad)\n",
    "    \n",
    "    def parar (self):\n",
    "        self.velocidad = 0\n",
    "        print(\"velocidad actual:\", self.velocidad)\n",
    "\n",
    "    def ladrar (self, dime):\n",
    "        print(\"GUAU!\", dime)\n",
    "    \n",
    "    def estado (self):\n",
    "        print(\"patas:\", self.patas)\n",
    "        print(\"orejas:\", self.orejas)\n",
    "        print(\"ojos:\", self.ojos)\n",
    "        print(\"velocidad:\", self.velocidad)\n",
    "        print(\"raza:\", self.raza)\n",
    "        print(\"pelo:\", self.pelo)\n",
    "        print(\"dueño:\", self.dueño)\n",
    "        \n"
   ]
  },
  {
   "cell_type": "code",
   "execution_count": 138,
   "metadata": {},
   "outputs": [],
   "source": [
    "#2. Creamos perro sin dueño:\n",
    "toby = Perro(\"Dogo\")"
   ]
  },
  {
   "cell_type": "code",
   "execution_count": 139,
   "metadata": {},
   "outputs": [
    {
     "name": "stdout",
     "output_type": "stream",
     "text": [
      "patas: 4\n",
      "orejas: 2\n",
      "ojos: 2\n",
      "velocidad: 0\n",
      "raza: Dogo\n",
      "pelo: marrón\n",
      "dueño: no\n"
     ]
    }
   ],
   "source": [
    "#3. comprobamos todos sus atributos\n",
    "\n",
    "#Para poder consultarlo de forma permamente, creamos un metodo que nos devuelva todos los atributos del perro: \n",
    "\n",
    "toby.estado()"
   ]
  },
  {
   "cell_type": "code",
   "execution_count": 140,
   "metadata": {},
   "outputs": [
    {
     "name": "stdout",
     "output_type": "stream",
     "text": [
      "velocidad actual: 2\n"
     ]
    }
   ],
   "source": [
    "#4. probamos que ande:\n",
    "\n",
    "toby.andar(2)\n"
   ]
  },
  {
   "cell_type": "code",
   "execution_count": 141,
   "metadata": {},
   "outputs": [
    {
     "name": "stdout",
     "output_type": "stream",
     "text": [
      "velocidad actual: 0\n"
     ]
    }
   ],
   "source": [
    "#5.Lo paramos: \n",
    "\n",
    "toby.parar()"
   ]
  },
  {
   "cell_type": "code",
   "execution_count": null,
   "metadata": {},
   "outputs": [],
   "source": [
    "\n",
    "class Perro:\n",
    "    \"\"\"\n",
    "    Una clase que representa a un perro.\n",
    "    \n",
    "    Atributos:\n",
    "    - patas (int): Número de patas de un perro, por defecto es 4.\n",
    "    - orejas (int): Número de orejas de un perro, por defecto es 2.\n",
    "    - ojos (int): Número de ojos de un perro, por defecto es 2.\n",
    "    - velocidad (int): Velocidad actual del perro, por defecto es 0.\n",
    "    \n",
    "    Métodos:\n",
    "    - __init__: Constructor de la clase que inicializa una instancia del perro con su raza, color de pelo y dueño.\n",
    "    - andar: Método que incrementa la velocidad del perro.\n",
    "    - parar: Método que detiene la velocidad del perro.\n",
    "    - ladrar: Método que hace ladrar al perro.\n",
    "    - estado: Método que imprime el estado actual del perro, incluyendo sus características y atributos.\n",
    "    \"\"\"\n",
    "    patas = 4\n",
    "    orejas = 2\n",
    "    ojos = 2\n",
    "    velocidad = 0\n",
    "    \n",
    "    def __init__(self, raza, pelo = \"marrón\", dueño = \"no\"):\n",
    "        self.raza = raza\n",
    "        self.pelo = pelo\n",
    "        self.dueño = dueño\n",
    "    \n",
    "    def andar (self, aumento_velocidad):\n",
    "        self.velocidad += aumento_velocidad\n",
    "        print(\"velocidad actual:\", self.velocidad)\n",
    "    \n",
    "    def parar (self):\n",
    "        self.velocidad = 0\n",
    "        print(\"velocidad actual:\", self.velocidad)\n",
    "\n",
    "    def ladrar (self, dime):\n",
    "        print(\"GUAU!\", dime)\n",
    "    \n",
    "    def estado (self):\n",
    "        print(\"patas:\", self.patas)\n",
    "        print(\"orejas:\", self.orejas)\n",
    "        print(\"ojos:\", self.ojos)\n",
    "        print(\"velocidad:\", self.velocidad)\n",
    "        print(\"raza:\", self.raza)\n",
    "        print(\"pelo:\", self.pelo)\n",
    "        print(\"dueño:\", self.dueño)\n",
    "        "
   ]
  }
 ],
 "metadata": {
  "kernelspec": {
   "display_name": "Python 3.7.4 64-bit",
   "language": "python",
   "name": "python3"
  },
  "language_info": {
   "codemirror_mode": {
    "name": "ipython",
    "version": 3
   },
   "file_extension": ".py",
   "mimetype": "text/x-python",
   "name": "python",
   "nbconvert_exporter": "python",
   "pygments_lexer": "ipython3",
   "version": "3.12.2"
  },
  "vscode": {
   "interpreter": {
    "hash": "90139cb9a825bf3d63f6f6704e828dbd1ff7edbd4d0c6e906a71235d6efc74af"
   }
  }
 },
 "nbformat": 4,
 "nbformat_minor": 4
}
